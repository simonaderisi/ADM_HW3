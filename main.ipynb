{
 "cells": [
  {
   "cell_type": "markdown",
   "metadata": {
    "id": "lGbQfPdyCH8H"
   },
   "source": [
    "# **1. Data collection**\n",
    "**1.1. Get the list of places**"
   ]
  },
  {
   "cell_type": "code",
   "execution_count": 4,
   "metadata": {
    "id": "P_Zm3_khAiUm"
   },
   "outputs": [],
   "source": [
    "# Import the modules we need\n",
    "import httplib2\n",
    "import requests\n",
    "from bs4 import BeautifulSoup\n",
    "import re\n",
    "import datetime\n",
    "import numpy as np\n",
    "import time\n",
    "import urllib.request, urllib.parse, urllib.error\n",
    "import os\n",
    "import random\n",
    "from tqdm import tqdm\n",
    "import csv\n",
    "import string\n",
    "import heapq\n",
    "import functools\n",
    "import json\n",
    "import math\n",
    "from numpy.linalg import norm\n",
    "from natsort import natsorted\n",
    "import glob\n",
    "import pandas as pd"
   ]
  },
  {
   "cell_type": "code",
   "execution_count": null,
   "metadata": {
    "colab": {
     "base_uri": "https://localhost:8080/"
    },
    "id": "iI7wftA6zdZa",
    "outputId": "1ddb6eac-682d-4c9f-dcea-aad974cbb9a6"
   },
   "outputs": [
    {
     "name": "stdout",
     "output_type": "stream",
     "text": [
      "Mounted at /content/drive\n"
     ]
    }
   ],
   "source": [
    "from google.colab import drive\n",
    "drive.mount('/content/drive')"
   ]
  },
  {
   "cell_type": "code",
   "execution_count": null,
   "metadata": {
    "id": "h_ONsMoLa1Sb"
   },
   "outputs": [],
   "source": [
    "# URL definition\n",
    "linkPre = 'https://www.atlasobscura.com/places?page='\n",
    "linkPost = '&sort=likes_count'\n",
    "pageLink = []"
   ]
  },
  {
   "cell_type": "code",
   "execution_count": null,
   "metadata": {
    "id": "KMNcpiwGdnPJ"
   },
   "outputs": [],
   "source": [
    "# Write a function to extract the URLs that we need from the pages\n",
    "def extractAllLinks(firstPage, lastPage, linkPre, linkPost):\n",
    "  allLinks = []\n",
    "  for i in range(firstPage, lastPage + 1):\n",
    "    pageLink = linkPre + str(i) + linkPost #Generate the url where we need to get the place url on it.\n",
    "    html = requests.get(pageLink).text #return the content of the page\n",
    "    soup = BeautifulSoup(html, 'html.parser').find_all(\"a\" , attrs={'href': re.compile(\"^/places/\")})\n",
    "    links = [link.get('href') for link in soup]\n",
    "    links = links[10:]  # Delete the first 9 links at the bottom of the page that we don't need\n",
    "    time.sleep(0.5)\n",
    "    for item in links:\n",
    "      if (item != None): \n",
    "            allLinks.append(('https://www.atlasobscura.com' + str(item)))\n",
    "            for link in allLinks:\n",
    "              if link == \"https://www.atlasobscura.com/places/new\":  # Delete the URLs that we don't need\n",
    "                allLinks.remove(\"https://www.atlasobscura.com/places/new\")\n",
    "            \n",
    "         \n",
    "\n",
    "  return allLinks  "
   ]
  },
  {
   "cell_type": "markdown",
   "metadata": {
    "id": "us5LRYXZyXSE"
   },
   "source": [
    "We don't have any duplicate link in the link_set file. Because length of list & length of Set are the same."
   ]
  },
  {
   "cell_type": "code",
   "execution_count": null,
   "metadata": {
    "colab": {
     "base_uri": "https://localhost:8080/"
    },
    "id": "q2rwTML4HLZl",
    "outputId": "4608c636-ea93-4a5d-e1c9-7789d653d3d3"
   },
   "outputs": [
    {
     "data": {
      "text/plain": [
       "True"
      ]
     },
     "execution_count": 9,
     "metadata": {},
     "output_type": "execute_result"
    }
   ],
   "source": [
    "link_set = extractAllLinks(1, 400, linkPre, linkPost)\n",
    "len(link_set) == len(set(link_set)) # Check if there is any duplicate or not"
   ]
  },
  {
   "cell_type": "markdown",
   "metadata": {
    "id": "Q7m_t1FOzghf"
   },
   "source": [
    "The total number of the URLs is 7200"
   ]
  },
  {
   "cell_type": "code",
   "execution_count": null,
   "metadata": {
    "id": "9J5Hqf_3zXCR"
   },
   "outputs": [],
   "source": [
    "len(link_set)"
   ]
  },
  {
   "cell_type": "code",
   "execution_count": null,
   "metadata": {
    "colab": {
     "base_uri": "https://localhost:8080/"
    },
    "id": "wzid55Ty9--Z",
    "outputId": "d2bd9e80-c92f-4f4f-c7e6-b0828bcfad07"
   },
   "outputs": [
    {
     "data": {
      "text/plain": [
       "<function TextIOWrapper.close()>"
      ]
     },
     "execution_count": 10,
     "metadata": {},
     "output_type": "execute_result"
    }
   ],
   "source": [
    "# Save the URLs of the places' pages in a file\n",
    "with open('drive/MyDrive/ADM/Homework3/link_set.txt','w',encoding = 'utf-8') as f:\n",
    "    for i in link_set:\n",
    "        f.write(i+'\\n')\n",
    "\n",
    "f.close # Finally, we saved links at local directory."
   ]
  },
  {
   "cell_type": "markdown",
   "metadata": {
    "id": "uYBtiQs9mZNO"
   },
   "source": [
    "**1.2. Crawl places**"
   ]
  },
  {
   "cell_type": "markdown",
   "metadata": {
    "id": "05xcmu7j0TMl"
   },
   "source": [
    "Due to a large number of pages we should download, we can use some methods that can help us shorten the time it takes. \n",
    "\n",
    "***Time:*** First, we can work in parallel with our group's members, using the same code, each member of the group should download a subset of pages and when we obtained all the pages, merge our results into one unique dataset. Second, we can generate our code in parallel with all the CPUs available in our computer. \n",
    "\n",
    "***Data:*** In addittion, we have to save our data each time we crawl a page and write the name of the file according to the number of articles that we have already downloaded. In this way, if something goes wrong, we can restart your crawling procedure from the point that it stopped."
   ]
  },
  {
   "cell_type": "code",
   "execution_count": null,
   "metadata": {
    "id": "s-ZVg-ezmfd-"
   },
   "outputs": [],
   "source": [
    "# The function that gets the html of a url \n",
    "def getHtml(url):  \n",
    "    global html\n",
    "    try:\n",
    "        red = urllib.request.urlopen(url,timeout=30)\n",
    "        html = red.read()\n",
    "        red.close()\n",
    "    except:\n",
    "        getHtml(url)\n",
    "    return html"
   ]
  },
  {
   "cell_type": "code",
   "execution_count": null,
   "metadata": {
    "id": "0hshiLbLP2ru"
   },
   "outputs": [],
   "source": [
    "# input file name(path) and html, save it to local disk \n",
    "def saveHtml(file_name, file_content): # save the html\n",
    "    with open(file_name+\".html\", \"wb\") as f:\n",
    "        f.write(file_content)\n",
    "    f.close"
   ]
  },
  {
   "cell_type": "code",
   "execution_count": null,
   "metadata": {
    "id": "XS0_j7ZQT3SR"
   },
   "outputs": [],
   "source": [
    "# Convert the link_set to a list\n",
    "link = list(link_set)"
   ]
  },
  {
   "cell_type": "code",
   "execution_count": null,
   "metadata": {
    "id": "7cZVf-ZoQPH0"
   },
   "outputs": [],
   "source": [
    "for i in tqdm(range(1,2)): #You can change the number here for part data set; you need to replace it by your data range. \n",
    "    path = 'drive/MyDrive/ADM/Homework3/Data/' + str(i+1) # The path we store the htmls\n",
    "    os.mkdir(path) # For each page, we creat a folder. We have 400 pages so we creat 400 folders.\n",
    "    for j in range(i*18,(i+1)*18): # Count the number of files in each folder.\n",
    "        htmlTemp = getHtml(link[j])\n",
    "        saveHtml(path+'/Place '+str(j+1), htmlTemp)\n",
    "        time.sleep(0.5) "
   ]
  },
  {
   "cell_type": "markdown",
   "metadata": {
    "id": "ezGKZRVQddMy"
   },
   "source": [
    "**1.3. Parse downloaded pages**"
   ]
  },
  {
   "cell_type": "code",
   "execution_count": null,
   "metadata": {
    "id": "bfiz2-NNyURN"
   },
   "outputs": [],
   "source": [
    "# The function we used to get info from html\n",
    "def getinfo(html_path):\n",
    "  with open(html_path,'r',encoding = 'utf-8') as f:\n",
    "    text = f.read()\n",
    "  f.close\n",
    "  return text"
   ]
  },
  {
   "cell_type": "code",
   "execution_count": null,
   "metadata": {
    "id": "HYQj7b04ii29"
   },
   "outputs": [],
   "source": [
    "# The function that extracts the required info\n",
    "def extract_infos(html, i):\n",
    "    '''\n",
    "    Function that extract the useful informations from an url and place them in a list. The order of the list is:\n",
    "    placeName, placeTags, numPeopleVisited, numPeopleWant, placeDesc, placeShortDesc, placeNearby, placeAddress, \n",
    "    placeAlt, placeLong, placeEditors, placePubDate, placeRelatedLists, placeRelatedPlaces, placeURL.\n",
    "    The output is the list.\n",
    "    '''\n",
    "    soup = BeautifulSoup(html)\n",
    "    \n",
    "    #initiliaze the empty output list\n",
    "    infos = []\n",
    "    \n",
    "    #append infos in the right order\n",
    "    \n",
    "    try:\n",
    "      placeName = soup.find_all('h1', {'class':'DDPage__header-title'})[0].contents[0]\n",
    "      infos.append(placeName)\n",
    "    except:\n",
    "       infos.append('') \n",
    "    \n",
    "    try:\n",
    "      placeTags = [x.contents[0] for x in soup.find_all('a', {'class':'itemTags__link js-item-tags-link'})]\n",
    "      for i in range(len(placeTags)):\n",
    "        placeTags[i] = placeTags[i].replace(\"\\n\", \"\")\n",
    "      infos.append(placeTags)\n",
    "    except:\n",
    "       infos.append('') \n",
    "    \n",
    "    try:\n",
    "      numPeopleVisited = soup.find('div', {'class':'col-xs-4X js-submit-wrap js-been-to-top-wrap action-btn-col hidden-print'}).find_all('div', {'class': 'title-md item-action-count'})[0].contents[0]\n",
    "      infos.append(int(numPeopleVisited))\n",
    "    except:\n",
    "      infos.append('')  \n",
    "    \n",
    "    try:\n",
    "      numPeopleWant = soup.find('div', {'class':'col-xs-4X js-submit-wrap js-like-top-wrap action-btn-col hidden-print'}).find_all('div', {'class': 'title-md item-action-count'})[0].contents[0]\n",
    "      infos.append(int(numPeopleWant))\n",
    "    except:\n",
    "      infos.append('')\n",
    "    \n",
    "    try:\n",
    "      placeDesc = [x.text for x in soup.find_all('div', {'id':'place-body'})]\n",
    "      placeDesc[0] = placeDesc[0].replace(\"\\n\" , \" \")\n",
    "      placeDesc[0] = placeDesc[0].replace(\"\\xa0\" , \" \")\n",
    "      infos.append(placeDesc[0])\n",
    "    except:\n",
    "      infos.append('')  \n",
    "    \n",
    "    try:\n",
    "      placeShortDesc = soup.find_all('h3', {'class':'DDPage__header-dek'})[0].contents[0]\n",
    "      placeShortDesc = placeShortDesc.replace(\"\\xa0\" , \" \")\n",
    "      infos.append(placeShortDesc)\n",
    "    except:\n",
    "      infos.append('')\n",
    "\n",
    "    \n",
    "    try:\n",
    "      placeNearby = [x.text for x in soup.find_all('div', {'class':'DDPageSiderailRecirc__item-title'})]\n",
    "      infos.append(placeNearby)\n",
    "    except:\n",
    "      infos.append('')\n",
    "\n",
    "    \n",
    "    placeAlt, placeLong = soup.find_all('div', {'class': 'DDPageSiderail__coordinates js-copy-coordinates'})[0].contents[2].split(',')\n",
    "\n",
    "    try:\n",
    "      add = soup.find('address', {'class': 'DDPageSiderail__address'}).find('div', recursive=False)\n",
    "      for child in add.find_all(\"div\"):\n",
    "          child.decompose()\n",
    "      placeAddress = add.get_text(\" \")\n",
    "      placeAddress = placeAddress.replace(\"\\n\" , \"\")\n",
    "      infos.append(placeAddress)\n",
    "    except:\n",
    "      infos.append('')\n",
    "\n",
    "\n",
    "    \n",
    "    try:\n",
    "    # As we decompose the div tags in \"placeAddress\" part, we find the placeAlt and placeLong before placeAddress but append it after that.\n",
    "      infos.append(str(float(placeAlt)))\n",
    "      infos.append(str(float(placeLong)))\n",
    "    except:\n",
    "      infos.append('')  \n",
    "\n",
    "    \n",
    "    try:\n",
    "      contributors = soup.find_all('a', {'class':'DDPContributorsList__contributor'})\n",
    "      placeEditors = [x.contents[0] if x.contents[0] != '\\n' else x.span.contents[0] for x in contributors]\n",
    "      infos.append(placeEditors)\n",
    "    except:\n",
    "      infos.append('')  \n",
    "    \n",
    "    try:\n",
    "      date = soup.find_all('div', {'class':'DDPContributor__name'})[0].contents[0]\n",
    "      placePubDate = datetime.datetime.strptime(date,'%B %d, %Y')\n",
    "      infos.append(placePubDate)\n",
    "    except:\n",
    "      infos.append('')  \n",
    "    \n",
    "    try:\n",
    "      placeRelatedLists = [x.span.text for x in soup.find('div', {'data-gtm-template': 'DDP Footer Recirc Lists'}).find_all('h3', {'class':'Card__heading --content-card-v2-title js-title-content'})]\n",
    "      infos.append(placeRelatedLists)\n",
    "    except:\n",
    "      infos.append('')\n",
    "    \n",
    "    try:\n",
    "      placeRelatedPlaces = [x.span.text for x in soup.find('div', {'data-gtm-template': 'DDP Footer Recirc Related'}).find_all('h3', {'class':'Card__heading --content-card-v2-title js-title-content'})]\n",
    "      infos.append(placeRelatedPlaces)\n",
    "    except:\n",
    "      infos.append('')\n",
    "\n",
    "\n",
    "    with open('drive/MyDrive/ADM/Homework3/link_set.txt','r',encoding = 'utf-8') as f:\n",
    "        \n",
    "        j = 1\n",
    "        global line\n",
    "        while j <= i: \n",
    "            line = f.readline()\n",
    "            j+=1\n",
    "        placeUrl = line\n",
    "        \n",
    "    infos.append(placeUrl)\n",
    "    \n",
    "    return infos"
   ]
  },
  {
   "cell_type": "code",
   "execution_count": null,
   "metadata": {
    "colab": {
     "base_uri": "https://localhost:8080/"
    },
    "id": "b70wMRYOm4Sb",
    "outputId": "c2500029-d032-4aa1-b629-843d3dee1147"
   },
   "outputs": [
    {
     "name": "stderr",
     "output_type": "stream",
     "text": [
      "100%|██████████| 1/1 [00:00<00:00,  1.20it/s]\n"
     ]
    }
   ],
   "source": [
    "# For each place, we create a place_i.tsv file and put infos on it\n",
    "#The list of headers, we desire for each featur\n",
    "header = ['placeName', 'placeTags', 'numPeopleVisited','numPeopleWant', 'placeDesc', 'placeShortDesc', 'placeNearby', \n",
    "          'placeAddress', 'placeAlt', 'placeLong', 'placeEditors', 'placePubDate', 'placeRelatedLists', 'placeRelatedPlaces', 'placeURL']\n",
    "for i in tqdm(range(15,16)): # We can easily change this range and download the infos\n",
    "    #retrieve html code\n",
    "    folder = math.ceil(i / 18)\n",
    "    path = 'drive/MyDrive/ADM/Homework3/Data/' + str(folder) + '/Place '+ str(i) + '.html'\n",
    "    html = getinfo(path)    \n",
    "    #extract infos\n",
    "    place_data = extract_infos(html, i)\n",
    "\n",
    "    #write tsv file\n",
    "    # Title of the future tsv file\n",
    "    title = 'drive/MyDrive/ADM/Homework3/places_data/' + 'places_'+ str(i)+'.tsv'\n",
    "    with open(title, \"w\", newline='') as file:\n",
    "        writer = csv.writer(file, delimiter='\\t')\n",
    "        # write the header\n",
    "        writer.writerow(header)\n",
    "        #write the infos\n",
    "        writer.writerow(place_data)\n"
   ]
  },
  {
   "cell_type": "markdown",
   "metadata": {
    "id": "Hxu5nRqj91dw"
   },
   "source": [
    "# **2. Search Engine**"
   ]
  },
  {
   "cell_type": "code",
   "execution_count": null,
   "metadata": {
    "id": "RruFZGKyulil"
   },
   "outputs": [],
   "source": [
    "# Put all tsv files into one file\n",
    "all_filenames = natsorted(glob.glob('./drive/MyDrive/ADM/Homework3/places_data/*'))\n",
    "combinedTsv = pd.concat([pd.read_csv(f, delimiter= '\\t') for f in all_filenames], ignore_index=True)"
   ]
  },
  {
   "cell_type": "code",
   "execution_count": null,
   "metadata": {
    "id": "4C-X6ZIrorpr"
   },
   "outputs": [],
   "source": [
    "path = 'drive/MyDrive/ADM/Homework3/'\n",
    "#os.mkdir(path+\"queryData\")\n",
    "combinedTsv.to_csv(path+'queryData/combinedTsv.tsv', sep='\\t')"
   ]
  },
  {
   "cell_type": "code",
   "execution_count": null,
   "metadata": {
    "colab": {
     "base_uri": "https://localhost:8080/",
     "height": 687
    },
    "id": "rrXDyyrGCGMM",
    "outputId": "fea46234-1ad2-4798-8c18-a4a4aa106f65"
   },
   "outputs": [
    {
     "data": {
      "text/html": [
       "\n",
       "  <div id=\"df-89abe4bf-0ed6-4e73-ad30-f55550e9808a\">\n",
       "    <div class=\"colab-df-container\">\n",
       "      <div>\n",
       "<style scoped>\n",
       "    .dataframe tbody tr th:only-of-type {\n",
       "        vertical-align: middle;\n",
       "    }\n",
       "\n",
       "    .dataframe tbody tr th {\n",
       "        vertical-align: top;\n",
       "    }\n",
       "\n",
       "    .dataframe thead th {\n",
       "        text-align: right;\n",
       "    }\n",
       "</style>\n",
       "<table border=\"1\" class=\"dataframe\">\n",
       "  <thead>\n",
       "    <tr style=\"text-align: right;\">\n",
       "      <th></th>\n",
       "      <th>placeName</th>\n",
       "      <th>placeTags</th>\n",
       "      <th>numPeopleVisited</th>\n",
       "      <th>numPeopleWant</th>\n",
       "      <th>placeDesc</th>\n",
       "      <th>placeShortDesc</th>\n",
       "      <th>placeNearby</th>\n",
       "      <th>placeAddress</th>\n",
       "      <th>placeAlt</th>\n",
       "      <th>placeLong</th>\n",
       "      <th>placeEditors</th>\n",
       "      <th>placePubDate</th>\n",
       "      <th>placeRelatedLists</th>\n",
       "      <th>placeRelatedPlaces</th>\n",
       "      <th>placeURL</th>\n",
       "    </tr>\n",
       "  </thead>\n",
       "  <tbody>\n",
       "    <tr>\n",
       "      <th>0</th>\n",
       "      <td>City Hall Station</td>\n",
       "      <td>['subways', 'subterranean', 'infrastructure', ...</td>\n",
       "      <td>1828</td>\n",
       "      <td>8585</td>\n",
       "      <td>The first New York City subway was built and...</td>\n",
       "      <td>A beautiful and abandoned New York subway stat...</td>\n",
       "      <td>['African Burial Ground National Monument', 'T...</td>\n",
       "      <td>31 Centre St New York, New York, 10007 United ...</td>\n",
       "      <td>40.7134</td>\n",
       "      <td>-74.0046</td>\n",
       "      <td>['Rebekah Otto', 'mbison', 'Seth Teicher', 'er...</td>\n",
       "      <td>2010-05-08 00:00:00</td>\n",
       "      <td>['30 Unexpected Places to Have a Joyful Advent...</td>\n",
       "      <td>['Crystal Palace Subway', 'Moscow Metro Statio...</td>\n",
       "      <td>https://www.atlasobscura.com/places/evolution-...</td>\n",
       "    </tr>\n",
       "    <tr>\n",
       "      <th>1</th>\n",
       "      <td>Highgate Cemetery</td>\n",
       "      <td>['rivals week', 'vampires', 'hoaxes', 'occult'...</td>\n",
       "      <td>2619</td>\n",
       "      <td>8184</td>\n",
       "      <td>Opened in 1839, Highgate is one of London’s ...</td>\n",
       "      <td>London's creepiest cemetery was once the site ...</td>\n",
       "      <td>[\"World's Largest Potted Plant\", 'Dick Whittin...</td>\n",
       "      <td>Swain's Lane, Highgate London, England, N6 Uni...</td>\n",
       "      <td>51.5675</td>\n",
       "      <td>-0.1483</td>\n",
       "      <td>['gingercinnamon', 'Rachel', 'thedyerghoulhous...</td>\n",
       "      <td>2014-08-09 00:00:00</td>\n",
       "      <td>[\"The World's Top 100 Wonders in 2018\", \"Londo...</td>\n",
       "      <td>['Jewett City Vampires', 'Tomb of the Mather F...</td>\n",
       "      <td>https://www.atlasobscura.com/places/evolution-...</td>\n",
       "    </tr>\n",
       "    <tr>\n",
       "      <th>2</th>\n",
       "      <td>Leadenhall Market</td>\n",
       "      <td>['markets', 'film locations', 'film']</td>\n",
       "      <td>3135</td>\n",
       "      <td>7570</td>\n",
       "      <td>The ornate 19th-century painted roof and cob...</td>\n",
       "      <td>This ornate Victorian marketplace was the sett...</td>\n",
       "      <td>['The Cornhill Devils ', \"London's Original an...</td>\n",
       "      <td>London, England, EC3V United Kingdom</td>\n",
       "      <td>51.5126</td>\n",
       "      <td>-0.0834</td>\n",
       "      <td>['Meg', 'Julius Spada', 'reley250', 'Katecrims...</td>\n",
       "      <td>2016-08-01 00:00:00</td>\n",
       "      <td>['The Ultimate Guide to Stunning, Surprising, ...</td>\n",
       "      <td>['Rivendell', 'Bagdad Cafe', 'Gare de la Ciota...</td>\n",
       "      <td>https://www.atlasobscura.com/places/highgate-c...</td>\n",
       "    </tr>\n",
       "    <tr>\n",
       "      <th>3</th>\n",
       "      <td>The Wave Organ</td>\n",
       "      <td>['sea organ', 'aletrail', 'sounds', 'music', '...</td>\n",
       "      <td>2429</td>\n",
       "      <td>7414</td>\n",
       "      <td>Located on a jetty in the San Francisco Bay,...</td>\n",
       "      <td>A huge musical instrument played by the ocean.</td>\n",
       "      <td>['Long Now Orrery', 'The Stern of the Briganti...</td>\n",
       "      <td>83 Marina Green Dr San Francisco, California, ...</td>\n",
       "      <td>37.8085</td>\n",
       "      <td>-122.4401</td>\n",
       "      <td>['mbison', 'jadeimason', 'td007', 'Mark Casey'...</td>\n",
       "      <td>2008-11-21 00:00:00</td>\n",
       "      <td>[\"Leonardo Nam's 16 Quirky Roadside Attraction...</td>\n",
       "      <td>['Sea Organ', 'Silent Green Kulturquartier', \"...</td>\n",
       "      <td>https://www.atlasobscura.com/places/evolution-...</td>\n",
       "    </tr>\n",
       "    <tr>\n",
       "      <th>4</th>\n",
       "      <td>Catacombes de Paris</td>\n",
       "      <td>['ossuaries', 'memento mori', 'catacombs and c...</td>\n",
       "      <td>4448</td>\n",
       "      <td>7047</td>\n",
       "      <td>In 2004, Parisian police were assigned to do...</td>\n",
       "      <td>The vast, legendary catacombs hold secrets muc...</td>\n",
       "      <td>['Sculptures de Décure', 'Arago Medallions', \"...</td>\n",
       "      <td>1 Place Denfert-Rochereau Paris, 75014 France</td>\n",
       "      <td>48.8343</td>\n",
       "      <td>2.3322</td>\n",
       "      <td>['CPilgrim', 'ehorkley', 'gingercinnamon', 'Ak...</td>\n",
       "      <td>2009-02-13 00:00:00</td>\n",
       "      <td>['19 Catacombs Sure to Tingle Your Spine', \"Th...</td>\n",
       "      <td>['Ossario di San Martino', 'Leuk Charnel House...</td>\n",
       "      <td>https://www.atlasobscura.com/places/leadenhall...</td>\n",
       "    </tr>\n",
       "  </tbody>\n",
       "</table>\n",
       "</div>\n",
       "      <button class=\"colab-df-convert\" onclick=\"convertToInteractive('df-89abe4bf-0ed6-4e73-ad30-f55550e9808a')\"\n",
       "              title=\"Convert this dataframe to an interactive table.\"\n",
       "              style=\"display:none;\">\n",
       "        \n",
       "  <svg xmlns=\"http://www.w3.org/2000/svg\" height=\"24px\"viewBox=\"0 0 24 24\"\n",
       "       width=\"24px\">\n",
       "    <path d=\"M0 0h24v24H0V0z\" fill=\"none\"/>\n",
       "    <path d=\"M18.56 5.44l.94 2.06.94-2.06 2.06-.94-2.06-.94-.94-2.06-.94 2.06-2.06.94zm-11 1L8.5 8.5l.94-2.06 2.06-.94-2.06-.94L8.5 2.5l-.94 2.06-2.06.94zm10 10l.94 2.06.94-2.06 2.06-.94-2.06-.94-.94-2.06-.94 2.06-2.06.94z\"/><path d=\"M17.41 7.96l-1.37-1.37c-.4-.4-.92-.59-1.43-.59-.52 0-1.04.2-1.43.59L10.3 9.45l-7.72 7.72c-.78.78-.78 2.05 0 2.83L4 21.41c.39.39.9.59 1.41.59.51 0 1.02-.2 1.41-.59l7.78-7.78 2.81-2.81c.8-.78.8-2.07 0-2.86zM5.41 20L4 18.59l7.72-7.72 1.47 1.35L5.41 20z\"/>\n",
       "  </svg>\n",
       "      </button>\n",
       "      \n",
       "  <style>\n",
       "    .colab-df-container {\n",
       "      display:flex;\n",
       "      flex-wrap:wrap;\n",
       "      gap: 12px;\n",
       "    }\n",
       "\n",
       "    .colab-df-convert {\n",
       "      background-color: #E8F0FE;\n",
       "      border: none;\n",
       "      border-radius: 50%;\n",
       "      cursor: pointer;\n",
       "      display: none;\n",
       "      fill: #1967D2;\n",
       "      height: 32px;\n",
       "      padding: 0 0 0 0;\n",
       "      width: 32px;\n",
       "    }\n",
       "\n",
       "    .colab-df-convert:hover {\n",
       "      background-color: #E2EBFA;\n",
       "      box-shadow: 0px 1px 2px rgba(60, 64, 67, 0.3), 0px 1px 3px 1px rgba(60, 64, 67, 0.15);\n",
       "      fill: #174EA6;\n",
       "    }\n",
       "\n",
       "    [theme=dark] .colab-df-convert {\n",
       "      background-color: #3B4455;\n",
       "      fill: #D2E3FC;\n",
       "    }\n",
       "\n",
       "    [theme=dark] .colab-df-convert:hover {\n",
       "      background-color: #434B5C;\n",
       "      box-shadow: 0px 1px 3px 1px rgba(0, 0, 0, 0.15);\n",
       "      filter: drop-shadow(0px 1px 2px rgba(0, 0, 0, 0.3));\n",
       "      fill: #FFFFFF;\n",
       "    }\n",
       "  </style>\n",
       "\n",
       "      <script>\n",
       "        const buttonEl =\n",
       "          document.querySelector('#df-89abe4bf-0ed6-4e73-ad30-f55550e9808a button.colab-df-convert');\n",
       "        buttonEl.style.display =\n",
       "          google.colab.kernel.accessAllowed ? 'block' : 'none';\n",
       "\n",
       "        async function convertToInteractive(key) {\n",
       "          const element = document.querySelector('#df-89abe4bf-0ed6-4e73-ad30-f55550e9808a');\n",
       "          const dataTable =\n",
       "            await google.colab.kernel.invokeFunction('convertToInteractive',\n",
       "                                                     [key], {});\n",
       "          if (!dataTable) return;\n",
       "\n",
       "          const docLinkHtml = 'Like what you see? Visit the ' +\n",
       "            '<a target=\"_blank\" href=https://colab.research.google.com/notebooks/data_table.ipynb>data table notebook</a>'\n",
       "            + ' to learn more about interactive tables.';\n",
       "          element.innerHTML = '';\n",
       "          dataTable['output_type'] = 'display_data';\n",
       "          await google.colab.output.renderOutput(dataTable, element);\n",
       "          const docLink = document.createElement('div');\n",
       "          docLink.innerHTML = docLinkHtml;\n",
       "          element.appendChild(docLink);\n",
       "        }\n",
       "      </script>\n",
       "    </div>\n",
       "  </div>\n",
       "  "
      ],
      "text/plain": [
       "             placeName                                          placeTags  \\\n",
       "0    City Hall Station  ['subways', 'subterranean', 'infrastructure', ...   \n",
       "1    Highgate Cemetery  ['rivals week', 'vampires', 'hoaxes', 'occult'...   \n",
       "2    Leadenhall Market              ['markets', 'film locations', 'film']   \n",
       "3       The Wave Organ  ['sea organ', 'aletrail', 'sounds', 'music', '...   \n",
       "4  Catacombes de Paris  ['ossuaries', 'memento mori', 'catacombs and c...   \n",
       "\n",
       "   numPeopleVisited  numPeopleWant  \\\n",
       "0              1828           8585   \n",
       "1              2619           8184   \n",
       "2              3135           7570   \n",
       "3              2429           7414   \n",
       "4              4448           7047   \n",
       "\n",
       "                                           placeDesc  \\\n",
       "0    The first New York City subway was built and...   \n",
       "1    Opened in 1839, Highgate is one of London’s ...   \n",
       "2    The ornate 19th-century painted roof and cob...   \n",
       "3    Located on a jetty in the San Francisco Bay,...   \n",
       "4    In 2004, Parisian police were assigned to do...   \n",
       "\n",
       "                                      placeShortDesc  \\\n",
       "0  A beautiful and abandoned New York subway stat...   \n",
       "1  London's creepiest cemetery was once the site ...   \n",
       "2  This ornate Victorian marketplace was the sett...   \n",
       "3    A huge musical instrument played by the ocean.    \n",
       "4  The vast, legendary catacombs hold secrets muc...   \n",
       "\n",
       "                                         placeNearby  \\\n",
       "0  ['African Burial Ground National Monument', 'T...   \n",
       "1  [\"World's Largest Potted Plant\", 'Dick Whittin...   \n",
       "2  ['The Cornhill Devils ', \"London's Original an...   \n",
       "3  ['Long Now Orrery', 'The Stern of the Briganti...   \n",
       "4  ['Sculptures de Décure', 'Arago Medallions', \"...   \n",
       "\n",
       "                                        placeAddress  placeAlt  placeLong  \\\n",
       "0  31 Centre St New York, New York, 10007 United ...   40.7134   -74.0046   \n",
       "1  Swain's Lane, Highgate London, England, N6 Uni...   51.5675    -0.1483   \n",
       "2             London, England, EC3V United Kingdom     51.5126    -0.0834   \n",
       "3  83 Marina Green Dr San Francisco, California, ...   37.8085  -122.4401   \n",
       "4    1 Place Denfert-Rochereau Paris, 75014 France     48.8343     2.3322   \n",
       "\n",
       "                                        placeEditors         placePubDate  \\\n",
       "0  ['Rebekah Otto', 'mbison', 'Seth Teicher', 'er...  2010-05-08 00:00:00   \n",
       "1  ['gingercinnamon', 'Rachel', 'thedyerghoulhous...  2014-08-09 00:00:00   \n",
       "2  ['Meg', 'Julius Spada', 'reley250', 'Katecrims...  2016-08-01 00:00:00   \n",
       "3  ['mbison', 'jadeimason', 'td007', 'Mark Casey'...  2008-11-21 00:00:00   \n",
       "4  ['CPilgrim', 'ehorkley', 'gingercinnamon', 'Ak...  2009-02-13 00:00:00   \n",
       "\n",
       "                                   placeRelatedLists  \\\n",
       "0  ['30 Unexpected Places to Have a Joyful Advent...   \n",
       "1  [\"The World's Top 100 Wonders in 2018\", \"Londo...   \n",
       "2  ['The Ultimate Guide to Stunning, Surprising, ...   \n",
       "3  [\"Leonardo Nam's 16 Quirky Roadside Attraction...   \n",
       "4  ['19 Catacombs Sure to Tingle Your Spine', \"Th...   \n",
       "\n",
       "                                  placeRelatedPlaces  \\\n",
       "0  ['Crystal Palace Subway', 'Moscow Metro Statio...   \n",
       "1  ['Jewett City Vampires', 'Tomb of the Mather F...   \n",
       "2  ['Rivendell', 'Bagdad Cafe', 'Gare de la Ciota...   \n",
       "3  ['Sea Organ', 'Silent Green Kulturquartier', \"...   \n",
       "4  ['Ossario di San Martino', 'Leuk Charnel House...   \n",
       "\n",
       "                                            placeURL  \n",
       "0  https://www.atlasobscura.com/places/evolution-...  \n",
       "1  https://www.atlasobscura.com/places/evolution-...  \n",
       "2  https://www.atlasobscura.com/places/highgate-c...  \n",
       "3  https://www.atlasobscura.com/places/evolution-...  \n",
       "4  https://www.atlasobscura.com/places/leadenhall...  "
      ]
     },
     "execution_count": 100,
     "metadata": {},
     "output_type": "execute_result"
    }
   ],
   "source": [
    "#show the first 5th rows\n",
    "combinedTsv.head()"
   ]
  },
  {
   "cell_type": "code",
   "execution_count": null,
   "metadata": {
    "colab": {
     "base_uri": "https://localhost:8080/"
    },
    "id": "TKuzqdnEOyCm",
    "outputId": "e2495bdc-67b6-481a-fb79-63e4a71787a2"
   },
   "outputs": [
    {
     "name": "stdout",
     "output_type": "stream",
     "text": [
      "<class 'pandas.core.frame.DataFrame'>\n",
      "RangeIndex: 7200 entries, 0 to 7199\n",
      "Data columns (total 15 columns):\n",
      " #   Column              Non-Null Count  Dtype  \n",
      "---  ------              --------------  -----  \n",
      " 0   placeName           7200 non-null   object \n",
      " 1   placeTags           7200 non-null   object \n",
      " 2   numPeopleVisited    7200 non-null   int64  \n",
      " 3   numPeopleWant       7200 non-null   int64  \n",
      " 4   placeDesc           7200 non-null   object \n",
      " 5   placeShortDesc      7200 non-null   object \n",
      " 6   placeNearby         7200 non-null   object \n",
      " 7   placeAddress        7200 non-null   object \n",
      " 8   placeAlt            7200 non-null   float64\n",
      " 9   placeLong           7200 non-null   float64\n",
      " 10  placeEditors        7200 non-null   object \n",
      " 11  placePubDate        7199 non-null   object \n",
      " 12  placeRelatedLists   2721 non-null   object \n",
      " 13  placeRelatedPlaces  7164 non-null   object \n",
      " 14  placeURL            7200 non-null   object \n",
      "dtypes: float64(2), int64(2), object(11)\n",
      "memory usage: 843.9+ KB\n"
     ]
    }
   ],
   "source": [
    "# Information about the dataFram, we have 15 columns and 7200 rows\n",
    "combinedTsv.info()"
   ]
  },
  {
   "cell_type": "code",
   "execution_count": null,
   "metadata": {
    "id": "acJM09H7K4vx"
   },
   "outputs": [],
   "source": [
    "# Pick the columns that we need in this part\n",
    "combinedTsv = combinedTsv[['placeName', 'placeDesc', 'placeAddress', 'placeURL']]"
   ]
  },
  {
   "cell_type": "code",
   "execution_count": null,
   "metadata": {
    "id": "nR2jYXxJcHlN"
   },
   "outputs": [],
   "source": [
    "path = 'drive/MyDrive/ADM/Homework3/'"
   ]
  },
  {
   "cell_type": "code",
   "execution_count": null,
   "metadata": {
    "id": "Id7FqoV3HemO"
   },
   "outputs": [],
   "source": [
    "os.mkdir(path+\"queryData\")"
   ]
  },
  {
   "cell_type": "code",
   "execution_count": null,
   "metadata": {
    "id": "VctZPRQETenE"
   },
   "outputs": [],
   "source": [
    "# converting dataframe to csv file\n",
    "combinedTsv.to_csv(path+'queryData/queryData.csv', sep=',',\n",
    "                   index=False, header=True)"
   ]
  },
  {
   "cell_type": "code",
   "execution_count": null,
   "metadata": {
    "id": "dD8BwtMv4All"
   },
   "outputs": [],
   "source": [
    "# Read csv file\n",
    "\"\"\"\n",
    "For convenience, the cleaned, processed, desired query data is saved in a file \n",
    "named queryData.csv. You can directly go to section '2.1. Conjunctive query' and \n",
    "import the query data from there.\n",
    "\"\"\"\n",
    "queryData = pd.read_csv(path+'queryData/queryData.csv')"
   ]
  },
  {
   "cell_type": "code",
   "execution_count": 5,
   "metadata": {},
   "outputs": [],
   "source": [
    "queryData = pd.read_csv('queryData.csv')"
   ]
  },
  {
   "cell_type": "code",
   "execution_count": 6,
   "metadata": {
    "colab": {
     "base_uri": "https://localhost:8080/"
    },
    "id": "vA_KVmRPvGaR",
    "outputId": "54b91ba1-de50-4807-87a7-93be39ee8e4d"
   },
   "outputs": [
    {
     "name": "stderr",
     "output_type": "stream",
     "text": [
      "[nltk_data] Downloading package stopwords to\n",
      "[nltk_data]     /Users/smndrs/nltk_data...\n",
      "[nltk_data]   Package stopwords is already up-to-date!\n",
      "[nltk_data] Downloading package punkt to /Users/smndrs/nltk_data...\n",
      "[nltk_data]   Package punkt is already up-to-date!\n"
     ]
    },
    {
     "data": {
      "text/plain": [
       "True"
      ]
     },
     "execution_count": 6,
     "metadata": {},
     "output_type": "execute_result"
    }
   ],
   "source": [
    "# Import the useful modules for processing the documents' sentences \n",
    "from nltk.corpus import stopwords\n",
    "from nltk.tokenize import word_tokenize\n",
    "from nltk.stem import PorterStemmer\n",
    "import nltk\n",
    "nltk.download('stopwords')\n",
    "nltk.download('punkt')"
   ]
  },
  {
   "cell_type": "code",
   "execution_count": 7,
   "metadata": {
    "id": "EbhBjRax-Ofb"
   },
   "outputs": [],
   "source": [
    "# Function for stemming, and removing stopwords and punctuation\n",
    "def preProcess(word):\n",
    "    \n",
    "    filteredWords = []\n",
    "    stopWords = set(stopwords.words(\"english\"))\n",
    "    punc =  set(string.punctuation)  \n",
    "    wordTokens = word_tokenize(word)\n",
    "    ps = PorterStemmer()\n",
    "    \n",
    "  \n",
    "    for w in wordTokens:\n",
    "        if (w.lower() not in stopWords) and (w not in punc) :\n",
    "            filteredWords.append(ps.stem(w))  \n",
    "            \n",
    "    return filteredWords"
   ]
  },
  {
   "cell_type": "code",
   "execution_count": 8,
   "metadata": {
    "id": "i086i89lfJEv"
   },
   "outputs": [],
   "source": [
    "# Preprocess the places' descriptions and put them in a list\n",
    "wordsInDocs = []\n",
    "for i in queryData['placeDesc']:\n",
    "    wordsInDocs.append(preProcess(str(i)))"
   ]
  },
  {
   "cell_type": "code",
   "execution_count": 9,
   "metadata": {
    "id": "BsdaSkVYEHhH"
   },
   "outputs": [],
   "source": [
    "# Taking a copy of the original query data to work on from now on\n",
    "queryDataCopy = queryData.copy()"
   ]
  },
  {
   "cell_type": "code",
   "execution_count": 10,
   "metadata": {
    "colab": {
     "base_uri": "https://localhost:8080/",
     "height": 1000
    },
    "id": "twxkIAB6LgQg",
    "outputId": "14698386-5eea-4834-cab8-24b9bc9ad25e"
   },
   "outputs": [
    {
     "data": {
      "text/html": [
       "<div>\n",
       "<style scoped>\n",
       "    .dataframe tbody tr th:only-of-type {\n",
       "        vertical-align: middle;\n",
       "    }\n",
       "\n",
       "    .dataframe tbody tr th {\n",
       "        vertical-align: top;\n",
       "    }\n",
       "\n",
       "    .dataframe thead th {\n",
       "        text-align: right;\n",
       "    }\n",
       "</style>\n",
       "<table border=\"1\" class=\"dataframe\">\n",
       "  <thead>\n",
       "    <tr style=\"text-align: right;\">\n",
       "      <th></th>\n",
       "      <th>placeName</th>\n",
       "      <th>placeTags</th>\n",
       "      <th>numPeopleVisited</th>\n",
       "      <th>numPeopleWant</th>\n",
       "      <th>placeDesc</th>\n",
       "      <th>placeShortDesc</th>\n",
       "      <th>placeNearby</th>\n",
       "      <th>placeAddress</th>\n",
       "      <th>placeAlt</th>\n",
       "      <th>placeLong</th>\n",
       "      <th>placeEditors</th>\n",
       "      <th>placePubDate</th>\n",
       "      <th>placeRelatedLists</th>\n",
       "      <th>placeRelatedPlaces</th>\n",
       "      <th>placeURL</th>\n",
       "      <th>wordsInDocs</th>\n",
       "    </tr>\n",
       "  </thead>\n",
       "  <tbody>\n",
       "    <tr>\n",
       "      <th>0</th>\n",
       "      <td>City Hall Station</td>\n",
       "      <td>['subways', 'subterranean', 'infrastructure', ...</td>\n",
       "      <td>1828</td>\n",
       "      <td>8585</td>\n",
       "      <td>The first New York City subway was built and...</td>\n",
       "      <td>A beautiful and abandoned New York subway stat...</td>\n",
       "      <td>['African Burial Ground National Monument', 'T...</td>\n",
       "      <td>31 Centre St New York, New York, 10007 United ...</td>\n",
       "      <td>40.7134</td>\n",
       "      <td>-74.0046</td>\n",
       "      <td>['Rebekah Otto', 'mbison', 'Seth Teicher', 'er...</td>\n",
       "      <td>2010-05-08 00:00:00</td>\n",
       "      <td>['30 Unexpected Places to Have a Joyful Advent...</td>\n",
       "      <td>['Crystal Palace Subway', 'Moscow Metro Statio...</td>\n",
       "      <td>https://www.atlasobscura.com/places/evolution-...</td>\n",
       "      <td>[first, new, york, citi, subway, built, oper, ...</td>\n",
       "    </tr>\n",
       "    <tr>\n",
       "      <th>1</th>\n",
       "      <td>Highgate Cemetery</td>\n",
       "      <td>['rivals week', 'vampires', 'hoaxes', 'occult'...</td>\n",
       "      <td>2619</td>\n",
       "      <td>8184</td>\n",
       "      <td>Opened in 1839, Highgate is one of London’s ...</td>\n",
       "      <td>London's creepiest cemetery was once the site ...</td>\n",
       "      <td>[\"World's Largest Potted Plant\", 'Dick Whittin...</td>\n",
       "      <td>Swain's Lane, Highgate London, England, N6 Uni...</td>\n",
       "      <td>51.5675</td>\n",
       "      <td>-0.1483</td>\n",
       "      <td>['gingercinnamon', 'Rachel', 'thedyerghoulhous...</td>\n",
       "      <td>2014-08-09 00:00:00</td>\n",
       "      <td>[\"The World's Top 100 Wonders in 2018\", \"Londo...</td>\n",
       "      <td>['Jewett City Vampires', 'Tomb of the Mather F...</td>\n",
       "      <td>https://www.atlasobscura.com/places/evolution-...</td>\n",
       "      <td>[open, 1839, highgat, one, london, ’, infam, c...</td>\n",
       "    </tr>\n",
       "    <tr>\n",
       "      <th>2</th>\n",
       "      <td>Leadenhall Market</td>\n",
       "      <td>['markets', 'film locations', 'film']</td>\n",
       "      <td>3135</td>\n",
       "      <td>7570</td>\n",
       "      <td>The ornate 19th-century painted roof and cob...</td>\n",
       "      <td>This ornate Victorian marketplace was the sett...</td>\n",
       "      <td>['The Cornhill Devils ', \"London's Original an...</td>\n",
       "      <td>London, England, EC3V United Kingdom</td>\n",
       "      <td>51.5126</td>\n",
       "      <td>-0.0834</td>\n",
       "      <td>['Meg', 'Julius Spada', 'reley250', 'Katecrims...</td>\n",
       "      <td>2016-08-01 00:00:00</td>\n",
       "      <td>['The Ultimate Guide to Stunning, Surprising, ...</td>\n",
       "      <td>['Rivendell', 'Bagdad Cafe', 'Gare de la Ciota...</td>\n",
       "      <td>https://www.atlasobscura.com/places/highgate-c...</td>\n",
       "      <td>[ornat, 19th-centuri, paint, roof, cobbl, floo...</td>\n",
       "    </tr>\n",
       "    <tr>\n",
       "      <th>3</th>\n",
       "      <td>The Wave Organ</td>\n",
       "      <td>['sea organ', 'aletrail', 'sounds', 'music', '...</td>\n",
       "      <td>2429</td>\n",
       "      <td>7414</td>\n",
       "      <td>Located on a jetty in the San Francisco Bay,...</td>\n",
       "      <td>A huge musical instrument played by the ocean.</td>\n",
       "      <td>['Long Now Orrery', 'The Stern of the Briganti...</td>\n",
       "      <td>83 Marina Green Dr San Francisco, California, ...</td>\n",
       "      <td>37.8085</td>\n",
       "      <td>-122.4401</td>\n",
       "      <td>['mbison', 'jadeimason', 'td007', 'Mark Casey'...</td>\n",
       "      <td>2008-11-21 00:00:00</td>\n",
       "      <td>[\"Leonardo Nam's 16 Quirky Roadside Attraction...</td>\n",
       "      <td>['Sea Organ', 'Silent Green Kulturquartier', \"...</td>\n",
       "      <td>https://www.atlasobscura.com/places/evolution-...</td>\n",
       "      <td>[locat, jetti, san, francisco, bay, wave, orga...</td>\n",
       "    </tr>\n",
       "    <tr>\n",
       "      <th>4</th>\n",
       "      <td>Catacombes de Paris</td>\n",
       "      <td>['ossuaries', 'memento mori', 'catacombs and c...</td>\n",
       "      <td>4448</td>\n",
       "      <td>7047</td>\n",
       "      <td>In 2004, Parisian police were assigned to do...</td>\n",
       "      <td>The vast, legendary catacombs hold secrets muc...</td>\n",
       "      <td>['Sculptures de Décure', 'Arago Medallions', \"...</td>\n",
       "      <td>1 Place Denfert-Rochereau Paris, 75014 France</td>\n",
       "      <td>48.8343</td>\n",
       "      <td>2.3322</td>\n",
       "      <td>['CPilgrim', 'ehorkley', 'gingercinnamon', 'Ak...</td>\n",
       "      <td>2009-02-13 00:00:00</td>\n",
       "      <td>['19 Catacombs Sure to Tingle Your Spine', \"Th...</td>\n",
       "      <td>['Ossario di San Martino', 'Leuk Charnel House...</td>\n",
       "      <td>https://www.atlasobscura.com/places/leadenhall...</td>\n",
       "      <td>[2004, parisian, polic, assign, train, exercis...</td>\n",
       "    </tr>\n",
       "  </tbody>\n",
       "</table>\n",
       "</div>"
      ],
      "text/plain": [
       "             placeName                                          placeTags  \\\n",
       "0    City Hall Station  ['subways', 'subterranean', 'infrastructure', ...   \n",
       "1    Highgate Cemetery  ['rivals week', 'vampires', 'hoaxes', 'occult'...   \n",
       "2    Leadenhall Market              ['markets', 'film locations', 'film']   \n",
       "3       The Wave Organ  ['sea organ', 'aletrail', 'sounds', 'music', '...   \n",
       "4  Catacombes de Paris  ['ossuaries', 'memento mori', 'catacombs and c...   \n",
       "\n",
       "   numPeopleVisited  numPeopleWant  \\\n",
       "0              1828           8585   \n",
       "1              2619           8184   \n",
       "2              3135           7570   \n",
       "3              2429           7414   \n",
       "4              4448           7047   \n",
       "\n",
       "                                           placeDesc  \\\n",
       "0    The first New York City subway was built and...   \n",
       "1    Opened in 1839, Highgate is one of London’s ...   \n",
       "2    The ornate 19th-century painted roof and cob...   \n",
       "3    Located on a jetty in the San Francisco Bay,...   \n",
       "4    In 2004, Parisian police were assigned to do...   \n",
       "\n",
       "                                      placeShortDesc  \\\n",
       "0  A beautiful and abandoned New York subway stat...   \n",
       "1  London's creepiest cemetery was once the site ...   \n",
       "2  This ornate Victorian marketplace was the sett...   \n",
       "3    A huge musical instrument played by the ocean.    \n",
       "4  The vast, legendary catacombs hold secrets muc...   \n",
       "\n",
       "                                         placeNearby  \\\n",
       "0  ['African Burial Ground National Monument', 'T...   \n",
       "1  [\"World's Largest Potted Plant\", 'Dick Whittin...   \n",
       "2  ['The Cornhill Devils ', \"London's Original an...   \n",
       "3  ['Long Now Orrery', 'The Stern of the Briganti...   \n",
       "4  ['Sculptures de Décure', 'Arago Medallions', \"...   \n",
       "\n",
       "                                        placeAddress  placeAlt  placeLong  \\\n",
       "0  31 Centre St New York, New York, 10007 United ...   40.7134   -74.0046   \n",
       "1  Swain's Lane, Highgate London, England, N6 Uni...   51.5675    -0.1483   \n",
       "2             London, England, EC3V United Kingdom     51.5126    -0.0834   \n",
       "3  83 Marina Green Dr San Francisco, California, ...   37.8085  -122.4401   \n",
       "4    1 Place Denfert-Rochereau Paris, 75014 France     48.8343     2.3322   \n",
       "\n",
       "                                        placeEditors         placePubDate  \\\n",
       "0  ['Rebekah Otto', 'mbison', 'Seth Teicher', 'er...  2010-05-08 00:00:00   \n",
       "1  ['gingercinnamon', 'Rachel', 'thedyerghoulhous...  2014-08-09 00:00:00   \n",
       "2  ['Meg', 'Julius Spada', 'reley250', 'Katecrims...  2016-08-01 00:00:00   \n",
       "3  ['mbison', 'jadeimason', 'td007', 'Mark Casey'...  2008-11-21 00:00:00   \n",
       "4  ['CPilgrim', 'ehorkley', 'gingercinnamon', 'Ak...  2009-02-13 00:00:00   \n",
       "\n",
       "                                   placeRelatedLists  \\\n",
       "0  ['30 Unexpected Places to Have a Joyful Advent...   \n",
       "1  [\"The World's Top 100 Wonders in 2018\", \"Londo...   \n",
       "2  ['The Ultimate Guide to Stunning, Surprising, ...   \n",
       "3  [\"Leonardo Nam's 16 Quirky Roadside Attraction...   \n",
       "4  ['19 Catacombs Sure to Tingle Your Spine', \"Th...   \n",
       "\n",
       "                                  placeRelatedPlaces  \\\n",
       "0  ['Crystal Palace Subway', 'Moscow Metro Statio...   \n",
       "1  ['Jewett City Vampires', 'Tomb of the Mather F...   \n",
       "2  ['Rivendell', 'Bagdad Cafe', 'Gare de la Ciota...   \n",
       "3  ['Sea Organ', 'Silent Green Kulturquartier', \"...   \n",
       "4  ['Ossario di San Martino', 'Leuk Charnel House...   \n",
       "\n",
       "                                            placeURL  \\\n",
       "0  https://www.atlasobscura.com/places/evolution-...   \n",
       "1  https://www.atlasobscura.com/places/evolution-...   \n",
       "2  https://www.atlasobscura.com/places/highgate-c...   \n",
       "3  https://www.atlasobscura.com/places/evolution-...   \n",
       "4  https://www.atlasobscura.com/places/leadenhall...   \n",
       "\n",
       "                                         wordsInDocs  \n",
       "0  [first, new, york, citi, subway, built, oper, ...  \n",
       "1  [open, 1839, highgat, one, london, ’, infam, c...  \n",
       "2  [ornat, 19th-centuri, paint, roof, cobbl, floo...  \n",
       "3  [locat, jetti, san, francisco, bay, wave, orga...  \n",
       "4  [2004, parisian, polic, assign, train, exercis...  "
      ]
     },
     "execution_count": 10,
     "metadata": {},
     "output_type": "execute_result"
    }
   ],
   "source": [
    "# Add a new column (wordsInDocs) to the query data\n",
    "queryDataCopy['wordsInDocs'] = wordsInDocs\n",
    "queryDataCopy.head()"
   ]
  },
  {
   "cell_type": "code",
   "execution_count": null,
   "metadata": {
    "id": "kg_TPd9sdrPb"
   },
   "outputs": [],
   "source": [
    "# Save queryDataCopy in a csv file\n",
    "queryDataCopy.to_csv(path+'queryData/queryData.csv',\n",
    "                     sep=',', index=False,header=True)"
   ]
  },
  {
   "cell_type": "markdown",
   "metadata": {
    "id": "qjNU4hFqqfBq"
   },
   "source": [
    "**2.1. Conjunctive query**"
   ]
  },
  {
   "cell_type": "code",
   "execution_count": null,
   "metadata": {
    "id": "aeDARXgQXYag"
   },
   "outputs": [],
   "source": [
    "\"\"\" As explained before, we can directly import the query data from here\n",
    " and skip the previous cells for creating it.\n",
    "\"\"\"\n",
    "# Here, we need to read the wordsInDocs column values as a list\n",
    "# Since read_csv reads all values as string, we define a lambda func to get \n",
    "# wordsInDocs values as a list of strings.\n",
    "queryDataCopy = pd.read_csv(path+'queryData/queryData.csv', sep=',',\n",
    "                            converters={\"wordsInDocs\": lambda x: x.strip(\"[]\").replace(\"'\",\"\").split(\", \")})\n",
    "wordsInDocs = list(queryDataCopy.wordsInDocs)"
   ]
  },
  {
   "cell_type": "code",
   "execution_count": 11,
   "metadata": {
    "id": "j8a2XvrApKmh"
   },
   "outputs": [],
   "source": [
    "\"\"\"\n",
    "Using reduce to compute sum of lists, put all words in one single list\n",
    "and drop the duplicated words.\n",
    "Like query data, you can skip to two cells below to import the saved uniquewords\n",
    "that is already created and saved.\n",
    "\"\"\"\n",
    "uniqueWords = list(set(functools.reduce(lambda x, y: x + y,wordsInDocs)))"
   ]
  },
  {
   "cell_type": "code",
   "execution_count": null,
   "metadata": {
    "id": "x9wDxhMEG7L8"
   },
   "outputs": [],
   "source": [
    "# Writing unique words into a file; space seperated.\n",
    "with open(path+'/uniqueWords.txt', 'w', encoding='utf-8') as file:\n",
    "    for word in uniqueWords:\n",
    "        file.write(\"%s \" % word)"
   ]
  },
  {
   "cell_type": "code",
   "execution_count": null,
   "metadata": {
    "colab": {
     "base_uri": "https://localhost:8080/"
    },
    "id": "GSTIwRfovK_5",
    "outputId": "d9615020-a967-4d71-ce83-dbd12cb974d9"
   },
   "outputs": [
    {
     "name": "stdout",
     "output_type": "stream",
     "text": [
      "We have 53108 unique words in all docs.\n"
     ]
    }
   ],
   "source": [
    "# To check how many unique words exist\n",
    "print(f\"We have {len(uniqueWords)} unique words in all docs.\")"
   ]
  },
  {
   "cell_type": "code",
   "execution_count": null,
   "metadata": {
    "id": "wt_y3Xboj_PK"
   },
   "outputs": [],
   "source": [
    "# As explained before, we can directly import the unique words from here:\n",
    "# skip this if you have run the above cell.\n",
    "uniqueWords = []\n",
    "with open(path+'/uniqueWords.txt', 'r', encoding='utf-8') as file:\n",
    "  for line in file:\n",
    "    uniqueWords = line.split()"
   ]
  },
  {
   "cell_type": "markdown",
   "metadata": {
    "id": "T6_GGvOIqxNA"
   },
   "source": [
    "**2.1.1) Create your index!**"
   ]
  },
  {
   "cell_type": "code",
   "execution_count": 12,
   "metadata": {
    "id": "6gPxMrTRy5CG"
   },
   "outputs": [],
   "source": [
    "# Make a dictionary, the keys are words and values are numbers between 1 to 53195\n",
    "wordDict = {}\n",
    "item_id = 1\n",
    "for word in uniqueWords:\n",
    "    wordDict[word] = item_id\n",
    "    item_id += 1    "
   ]
  },
  {
   "cell_type": "code",
   "execution_count": null,
   "metadata": {
    "id": "LUs8rjQF5JqI"
   },
   "outputs": [],
   "source": [
    "# Create a file named vocabulary, with json format, that maps each word to an integer (term_id).\n",
    "with open (path+'vocabulary.json', 'w',encoding = 'utf-8') as j:\n",
    "    j.write(json.dumps(wordDict))"
   ]
  },
  {
   "cell_type": "code",
   "execution_count": null,
   "metadata": {
    "id": "VLbvidoWY_QX"
   },
   "outputs": [],
   "source": [
    "# Skip the two cells above if you want to directly import the already \n",
    "# created and saved wordDict\n",
    "\n",
    "# We import wordDict by converting values from string to int through a lambda\n",
    "# function\n",
    "wordDict = {}\n",
    "with open (path+'vocabulary.json', 'r',encoding = 'utf-8') as j:\n",
    "    wordDict = json.load(j, object_hook=lambda x: {k:int(v) for k,v in x.items()})"
   ]
  },
  {
   "cell_type": "code",
   "execution_count": 13,
   "metadata": {
    "colab": {
     "base_uri": "https://localhost:8080/"
    },
    "id": "DzL2oL2HTAVX",
    "outputId": "93ec7ac2-e75f-4d77-fe85-85420bbc6233"
   },
   "outputs": [
    {
     "name": "stderr",
     "output_type": "stream",
     "text": [
      "100%|█████████████████████████████████████| 53108/53108 [26:31<00:00, 33.36it/s]\n"
     ]
    }
   ],
   "source": [
    "# Create the inverted index file that takes words indces as keys, and a list of\n",
    "# documents containing the associated word, as the value.\n",
    "inverted_idx = {}\n",
    "for word, item_id in tqdm(wordDict.items()):\n",
    "    indexDoc = queryDataCopy[queryDataCopy.wordsInDocs.apply(lambda row: word in row)].index\n",
    "    inverted_idx[item_id] = list(indexDoc)"
   ]
  },
  {
   "cell_type": "code",
   "execution_count": null,
   "metadata": {
    "id": "_WvK8vB9sejG"
   },
   "outputs": [],
   "source": [
    "# Saving inverted_idx in a json file\n",
    "import json\n",
    "with open (path+'invertedIdx.json', 'w',encoding = 'utf-8') as j:\n",
    "    j.write(json.dumps(inverted_idx))"
   ]
  },
  {
   "cell_type": "code",
   "execution_count": null,
   "metadata": {
    "id": "Yulc1ys4l4rs"
   },
   "outputs": [],
   "source": [
    "# Skip the two cells above if you want to directly import the already \n",
    "# created and saved inverted_idx\n",
    "\n",
    "# We import inverted_idx by converting keys format from string to int \n",
    "# through a lambda function\n",
    "inverted_idx = {}\n",
    "with open (path+'invertedIdx.json', 'r',encoding = 'utf-8') as j:\n",
    "    inverted_idx = json.load(j, object_hook=lambda x: {int(k):v for k,v in x.items()})"
   ]
  },
  {
   "cell_type": "code",
   "execution_count": 14,
   "metadata": {
    "id": "HvqxEV9LZKLK"
   },
   "outputs": [],
   "source": [
    "# Defining the first search engine\n",
    "def SearchEngine(queryString, df):\n",
    "\n",
    "    # Split the query into lists of words and stem the words\n",
    "    stemTxt = preProcess(queryString)\n",
    "\n",
    "    # Find the description id of the queryString(documents that contain the queryString)\n",
    "    results = [set(inverted_idx[item]) for item in [wordDict[word] for word in stemTxt]]\n",
    "    descId = functools.reduce(lambda x,y: x.intersection(y), results) #Set of ids\n",
    "    queryInfo = df.loc[descId]\n",
    "  \n",
    "    return queryInfo\n"
   ]
  },
  {
   "cell_type": "markdown",
   "metadata": {
    "id": "1RldF4d0p-1z"
   },
   "source": [
    "**2.1.2) Execute the query**"
   ]
  },
  {
   "cell_type": "code",
   "execution_count": 15,
   "metadata": {
    "colab": {
     "base_uri": "https://localhost:8080/",
     "height": 442
    },
    "id": "A5SNBisK9K5r",
    "outputId": "6ec9ff3f-5c4f-4921-aeed-5c296e3f2d97"
   },
   "outputs": [
    {
     "name": "stdin",
     "output_type": "stream",
     "text": [
      "Please enter the queryString:  city hall\n"
     ]
    },
    {
     "name": "stderr",
     "output_type": "stream",
     "text": [
      "/var/folders/_2/4hw_b5r17l139bnw2649h6yc0000gn/T/ipykernel_8865/3062576557.py:10: FutureWarning: Passing a set as an indexer is deprecated and will raise in a future version. Use a list instead.\n",
      "  queryInfo = df.loc[descId]\n"
     ]
    },
    {
     "data": {
      "text/html": [
       "<div>\n",
       "<style scoped>\n",
       "    .dataframe tbody tr th:only-of-type {\n",
       "        vertical-align: middle;\n",
       "    }\n",
       "\n",
       "    .dataframe tbody tr th {\n",
       "        vertical-align: top;\n",
       "    }\n",
       "\n",
       "    .dataframe thead th {\n",
       "        text-align: right;\n",
       "    }\n",
       "</style>\n",
       "<table border=\"1\" class=\"dataframe\">\n",
       "  <thead>\n",
       "    <tr style=\"text-align: right;\">\n",
       "      <th></th>\n",
       "      <th>placeName</th>\n",
       "      <th>placeDesc</th>\n",
       "      <th>placeAddress</th>\n",
       "      <th>placeURL</th>\n",
       "    </tr>\n",
       "  </thead>\n",
       "  <tbody>\n",
       "    <tr>\n",
       "      <th>0</th>\n",
       "      <td>City Hall Station</td>\n",
       "      <td>The first New York City subway was built and...</td>\n",
       "      <td>31 Centre St New York, New York, 10007 United ...</td>\n",
       "      <td>https://www.atlasobscura.com/places/evolution-...</td>\n",
       "    </tr>\n",
       "    <tr>\n",
       "      <th>6145</th>\n",
       "      <td>Marché Bonsecours</td>\n",
       "      <td>The Marché Bonsecours is a large two-story p...</td>\n",
       "      <td>350 St Paul St East Montreal, Québec Canada</td>\n",
       "      <td>https://www.atlasobscura.com/places/city-hall-...</td>\n",
       "    </tr>\n",
       "    <tr>\n",
       "      <th>512</th>\n",
       "      <td>New York Society Library</td>\n",
       "      <td>The New York Society Library occupies a 5-st...</td>\n",
       "      <td>53 East 79th Street New York, New York United ...</td>\n",
       "      <td>https://www.atlasobscura.com/places/leadenhall...</td>\n",
       "    </tr>\n",
       "    <tr>\n",
       "      <th>7</th>\n",
       "      <td>Underground Tunnels of Los Angeles</td>\n",
       "      <td>While the rest of the country was forced to ...</td>\n",
       "      <td>320 W Temple St Los Angeles, California, 90012...</td>\n",
       "      <td>https://www.atlasobscura.com/places/leadenhall...</td>\n",
       "    </tr>\n",
       "    <tr>\n",
       "      <th>6664</th>\n",
       "      <td>Warsaw Gasworks Museum</td>\n",
       "      <td>Beautifully preserved, the Warsaw Gasworks (...</td>\n",
       "      <td>ul. Marcin Kasprzak 2 Warsaw Poland</td>\n",
       "      <td>https://www.atlasobscura.com/places/catacombes...</td>\n",
       "    </tr>\n",
       "    <tr>\n",
       "      <th>...</th>\n",
       "      <td>...</td>\n",
       "      <td>...</td>\n",
       "      <td>...</td>\n",
       "      <td>...</td>\n",
       "    </tr>\n",
       "    <tr>\n",
       "      <th>4597</th>\n",
       "      <td>Hippo Hardware</td>\n",
       "      <td>The happy hippos on the columns and walls ou...</td>\n",
       "      <td>1040 E Burnside St Portland, Oregon United Sta...</td>\n",
       "      <td>https://www.atlasobscura.com/places/magowans-i...</td>\n",
       "    </tr>\n",
       "    <tr>\n",
       "      <th>503</th>\n",
       "      <td>Philadelphia's Moon Tree</td>\n",
       "      <td>Philadelphia’s Washington Square Park, a blo...</td>\n",
       "      <td>Washington Square Park 6th Street and Walnut S...</td>\n",
       "      <td>https://www.atlasobscura.com/places/evolution-...</td>\n",
       "    </tr>\n",
       "    <tr>\n",
       "      <th>6137</th>\n",
       "      <td>Cine Ópera</td>\n",
       "      <td>Cine Ópera was one of the largest, most gran...</td>\n",
       "      <td>9 Serapio Rendon Mexico City, 06470 Mexico</td>\n",
       "      <td>https://www.atlasobscura.com/places/wave-organ\\n</td>\n",
       "    </tr>\n",
       "    <tr>\n",
       "      <th>3581</th>\n",
       "      <td>City Hall Urinal</td>\n",
       "      <td>There are plenty of public places to pee in ...</td>\n",
       "      <td>195-197 Oudezijds Voorburgwal Amsterdam Nether...</td>\n",
       "      <td>https://www.atlasobscura.com/places/leadenhall...</td>\n",
       "    </tr>\n",
       "    <tr>\n",
       "      <th>6655</th>\n",
       "      <td>Stadshuskällaren</td>\n",
       "      <td>Not many people get to attend the yearly Nob...</td>\n",
       "      <td>Stockholms Stadshus Hantverkargatan 1 Stockhol...</td>\n",
       "      <td>https://www.atlasobscura.com/places/leadenhall...</td>\n",
       "    </tr>\n",
       "  </tbody>\n",
       "</table>\n",
       "<p>142 rows × 4 columns</p>\n",
       "</div>"
      ],
      "text/plain": [
       "                               placeName  \\\n",
       "0                      City Hall Station   \n",
       "6145                   Marché Bonsecours   \n",
       "512             New York Society Library   \n",
       "7     Underground Tunnels of Los Angeles   \n",
       "6664              Warsaw Gasworks Museum   \n",
       "...                                  ...   \n",
       "4597                      Hippo Hardware   \n",
       "503             Philadelphia's Moon Tree   \n",
       "6137                          Cine Ópera   \n",
       "3581                    City Hall Urinal   \n",
       "6655                    Stadshuskällaren   \n",
       "\n",
       "                                              placeDesc  \\\n",
       "0       The first New York City subway was built and...   \n",
       "6145    The Marché Bonsecours is a large two-story p...   \n",
       "512     The New York Society Library occupies a 5-st...   \n",
       "7       While the rest of the country was forced to ...   \n",
       "6664    Beautifully preserved, the Warsaw Gasworks (...   \n",
       "...                                                 ...   \n",
       "4597    The happy hippos on the columns and walls ou...   \n",
       "503     Philadelphia’s Washington Square Park, a blo...   \n",
       "6137    Cine Ópera was one of the largest, most gran...   \n",
       "3581    There are plenty of public places to pee in ...   \n",
       "6655    Not many people get to attend the yearly Nob...   \n",
       "\n",
       "                                           placeAddress  \\\n",
       "0     31 Centre St New York, New York, 10007 United ...   \n",
       "6145      350 St Paul St East Montreal, Québec Canada     \n",
       "512   53 East 79th Street New York, New York United ...   \n",
       "7     320 W Temple St Los Angeles, California, 90012...   \n",
       "6664              ul. Marcin Kasprzak 2 Warsaw Poland     \n",
       "...                                                 ...   \n",
       "4597  1040 E Burnside St Portland, Oregon United Sta...   \n",
       "503   Washington Square Park 6th Street and Walnut S...   \n",
       "6137       9 Serapio Rendon Mexico City, 06470 Mexico     \n",
       "3581  195-197 Oudezijds Voorburgwal Amsterdam Nether...   \n",
       "6655  Stockholms Stadshus Hantverkargatan 1 Stockhol...   \n",
       "\n",
       "                                               placeURL  \n",
       "0     https://www.atlasobscura.com/places/evolution-...  \n",
       "6145  https://www.atlasobscura.com/places/city-hall-...  \n",
       "512   https://www.atlasobscura.com/places/leadenhall...  \n",
       "7     https://www.atlasobscura.com/places/leadenhall...  \n",
       "6664  https://www.atlasobscura.com/places/catacombes...  \n",
       "...                                                 ...  \n",
       "4597  https://www.atlasobscura.com/places/magowans-i...  \n",
       "503   https://www.atlasobscura.com/places/evolution-...  \n",
       "6137   https://www.atlasobscura.com/places/wave-organ\\n  \n",
       "3581  https://www.atlasobscura.com/places/leadenhall...  \n",
       "6655  https://www.atlasobscura.com/places/leadenhall...  \n",
       "\n",
       "[142 rows x 4 columns]"
      ]
     },
     "execution_count": 15,
     "metadata": {},
     "output_type": "execute_result"
    }
   ],
   "source": [
    "# Example output\n",
    "querySample = input('Please enter the queryString: ')\n",
    "SearchEngine(querySample, queryDataCopy)[['placeName','placeDesc','placeAddress','placeURL']]"
   ]
  },
  {
   "cell_type": "markdown",
   "metadata": {
    "id": "YAY-3z97rBs_"
   },
   "source": [
    "**2.2) Conjunctive query & Ranking score**"
   ]
  },
  {
   "cell_type": "markdown",
   "metadata": {
    "id": "dUQ9cvCI9J3F"
   },
   "source": [
    "**TF-IDF Formula :**\n",
    "\n",
    "**tf-idf** = term_frequency * inverse_document_frequency\n",
    "\n",
    "**term_frequency** = number of times a given term appears in document\n",
    "\n",
    "**inverse_document_frequency** = log(total number of documents / number of documents with term) "
   ]
  },
  {
   "cell_type": "code",
   "execution_count": null,
   "metadata": {
    "colab": {
     "base_uri": "https://localhost:8080/"
    },
    "id": "pMeMROMeqARR",
    "outputId": "4cc4a096-3238-4d98-bde8-98212a01c57a"
   },
   "outputs": [
    {
     "name": "stderr",
     "output_type": "stream",
     "text": [
      "100%|██████████| 53108/53108 [27:45<00:00, 31.89it/s]\n"
     ]
    }
   ],
   "source": [
    "# Computing the inverted_idx2\n",
    "from tqdm import tqdm\n",
    "inverted_idx2 = {}\n",
    "corpusSize = len(wordsInDocs)\n",
    "for word in tqdm(inverted_idx.keys()):\n",
    "    indx = int(word)\n",
    "    Idf = math.log(corpusSize/len(inverted_idx[word]))\n",
    "    tempList = []\n",
    "    for doc in inverted_idx[word]:\n",
    "        tempDoc = wordsInDocs[doc]\n",
    "        Tf = tempDoc.count(list(wordDict)[indx-1])/len(tempDoc)\n",
    "        TfIdf = Tf * Idf\n",
    "        tempList.append((doc, TfIdf))\n",
    "    inverted_idx2[indx] = tempList"
   ]
  },
  {
   "cell_type": "code",
   "execution_count": null,
   "metadata": {
    "id": "xdV0RG-hgCjm"
   },
   "outputs": [],
   "source": [
    "# Save the inverted-idx2 as json file\n",
    "with open (path+'invertedIdx2.json', 'w',encoding = 'utf-8') as j:\n",
    "    j.write(json.dumps(inverted_idx2))"
   ]
  },
  {
   "cell_type": "code",
   "execution_count": null,
   "metadata": {
    "id": "_9ynQq2jVxGK"
   },
   "outputs": [],
   "source": [
    "# We import inverted_idx2 by converting keys format from string to int \n",
    "# through a lambda function\n",
    "with open (path+'invertedIdx2.json', 'r',encoding = 'utf-8') as j:\n",
    "    inverted_idx2 = json.load(j, object_hook=lambda x: {int(k):v for k,v in x.items()})"
   ]
  },
  {
   "cell_type": "code",
   "execution_count": null,
   "metadata": {
    "id": "2xMiQ7m1GAZ5"
   },
   "outputs": [],
   "source": [
    "# Write a def to compute the tfIdf for the query\n",
    "corpusSize = len(wordsInDocs) \n",
    "def ComputeQueryTfidf(query):\n",
    "  tfidf = []\n",
    "  for word in query:\n",
    "    tfQuery = query.count(word) / len(query) # Compute tf\n",
    "    idfQuery = math.log(corpusSize/len(inverted_idx[wordDict[word]])) # Compute Idf\n",
    "    tfidf.append(tfQuery*idfQuery) # Compute tfIdfs and append them to a list\n",
    "  return tfidf"
   ]
  },
  {
   "cell_type": "code",
   "execution_count": null,
   "metadata": {
    "id": "-tzJuG1B5CRn"
   },
   "outputs": [],
   "source": [
    "# Write a def for SearchEngine2 that return a list of documents, ranked by their Cosine Similarity to the queryString entered in the input.\n",
    "\n",
    "def SearchEngine2(queryString, df):\n",
    "  #Preprocessing the query\n",
    "  stemQuery = preProcess(queryString)\n",
    "\n",
    "  # Getting docs that have all the query words\n",
    "  allDocs = SearchEngine(queryString, df)\n",
    "  docsInd = allDocs.index\n",
    "\n",
    "  # Getting indices of each word within stemmed query from vocabulary\n",
    "  try:\n",
    "    wordIndices = [wordDict[word] for word in stemQuery]\n",
    "  except:\n",
    "    print(\"No result found. The query words does not exist on the data base.\")\n",
    "    return 0\n",
    "  \n",
    "  # Getting tfidfs of the found docs from inverted_idx2\n",
    "  resultDict = {doc:[] for doc in docsInd}\n",
    "  for i in docsInd:\n",
    "    for j in wordIndices:\n",
    "      for k in inverted_idx2[j]:\n",
    "        if k[0]==i:\n",
    "          resultDict[i].append(k[1])\n",
    "  \n",
    "  # tfid of the  stemmed query\n",
    "  tfidfQuery = ComputeQueryTfidf(stemQuery)\n",
    "\n",
    "  # Computing cousing similarity\n",
    "  cosinSimilarity = []\n",
    "  for doc in resultDict.keys(): \n",
    "    cosin = np.dot(tfidfQuery,resultDict[doc])/(norm(tfidfQuery)*norm(resultDict[doc])) \n",
    "    cosinSimilarity.append(cosin)\n",
    "  \n",
    "  # Add a column that contain the cosin similarity for each document\n",
    "  allDocs['cosin_similarity'] = cosinSimilarity\n",
    "  # Rank by the cosin similarity\n",
    "  allDocs.sort_values(by=['cosin_similarity'], inplace=True, ascending=False)\n",
    "\n",
    "  # Return allDocs[['placeName','placeDesc','placeAddress','placeURL', cosin_similarity]]\n",
    "  return allDocs"
   ]
  },
  {
   "cell_type": "code",
   "execution_count": null,
   "metadata": {
    "colab": {
     "base_uri": "https://localhost:8080/",
     "height": 424
    },
    "id": "Xbi2t-GFbKxy",
    "outputId": "c3ff0990-05ba-447c-f777-7cbdbbc675c4"
   },
   "outputs": [
    {
     "data": {
      "text/html": [
       "\n",
       "  <div id=\"df-8efdb455-6ed7-4eb2-8c9a-70c0474fafa2\">\n",
       "    <div class=\"colab-df-container\">\n",
       "      <div>\n",
       "<style scoped>\n",
       "    .dataframe tbody tr th:only-of-type {\n",
       "        vertical-align: middle;\n",
       "    }\n",
       "\n",
       "    .dataframe tbody tr th {\n",
       "        vertical-align: top;\n",
       "    }\n",
       "\n",
       "    .dataframe thead th {\n",
       "        text-align: right;\n",
       "    }\n",
       "</style>\n",
       "<table border=\"1\" class=\"dataframe\">\n",
       "  <thead>\n",
       "    <tr style=\"text-align: right;\">\n",
       "      <th></th>\n",
       "      <th>placeName</th>\n",
       "      <th>placeDesc</th>\n",
       "      <th>placeAddress</th>\n",
       "      <th>placeURL</th>\n",
       "      <th>cosin_similarity</th>\n",
       "    </tr>\n",
       "  </thead>\n",
       "  <tbody>\n",
       "    <tr>\n",
       "      <th>6909</th>\n",
       "      <td>Hamilton Ghost Town</td>\n",
       "      <td>After silver lodes were discovered high on T...</td>\n",
       "      <td>White Pine County, Nevada United States</td>\n",
       "      <td>https://www.atlasobscura.com/places/highgate-c...</td>\n",
       "      <td>1.000000</td>\n",
       "    </tr>\n",
       "    <tr>\n",
       "      <th>1812</th>\n",
       "      <td>Nevadaville Ghost Town</td>\n",
       "      <td>How did the population of a 19th century tow...</td>\n",
       "      <td>Nevadaville Rd, Central City, CO, USA Central ...</td>\n",
       "      <td>https://www.atlasobscura.com/places/magowans-i...</td>\n",
       "      <td>1.000000</td>\n",
       "    </tr>\n",
       "    <tr>\n",
       "      <th>3655</th>\n",
       "      <td>Parksville</td>\n",
       "      <td>Located in the town of Liberty, New York, Pa...</td>\n",
       "      <td>Parksville, New York United States</td>\n",
       "      <td>https://www.atlasobscura.com/places/city-hall-...</td>\n",
       "      <td>1.000000</td>\n",
       "    </tr>\n",
       "    <tr>\n",
       "      <th>5204</th>\n",
       "      <td>Grímsey Island</td>\n",
       "      <td>Forty miles north of mainland Iceland is a s...</td>\n",
       "      <td>Vallargata Grímsey Iceland</td>\n",
       "      <td>https://www.atlasobscura.com/places/leadenhall...</td>\n",
       "      <td>1.000000</td>\n",
       "    </tr>\n",
       "    <tr>\n",
       "      <th>4006</th>\n",
       "      <td>Mayan Ruins on the Hudson</td>\n",
       "      <td>In the mid-1800s, travelers moving up and do...</td>\n",
       "      <td>Cruger Island Road Red Hook, New York, 12571 U...</td>\n",
       "      <td>https://www.atlasobscura.com/places/highgate-c...</td>\n",
       "      <td>1.000000</td>\n",
       "    </tr>\n",
       "    <tr>\n",
       "      <th>...</th>\n",
       "      <td>...</td>\n",
       "      <td>...</td>\n",
       "      <td>...</td>\n",
       "      <td>...</td>\n",
       "      <td>...</td>\n",
       "    </tr>\n",
       "    <tr>\n",
       "      <th>3465</th>\n",
       "      <td>The Forgotten Entrance to Clinton Hall</td>\n",
       "      <td>This blocked up doorway on a subway station ...</td>\n",
       "      <td>Astor Place Subway Station Astor Place New Yor...</td>\n",
       "      <td>https://www.atlasobscura.com/places/wave-organ\\n</td>\n",
       "      <td>0.701593</td>\n",
       "    </tr>\n",
       "    <tr>\n",
       "      <th>1050</th>\n",
       "      <td>Flushing Meadows-Corona Park</td>\n",
       "      <td>After a long ride from Manhattan, most get o...</td>\n",
       "      <td>Kennedy Circle Queens, New York, 11368 United ...</td>\n",
       "      <td>https://www.atlasobscura.com/places/highgate-c...</td>\n",
       "      <td>0.667151</td>\n",
       "    </tr>\n",
       "    <tr>\n",
       "      <th>3559</th>\n",
       "      <td>Summum Pyramid</td>\n",
       "      <td>In 1975, Claude Corky Nowell said he had an ...</td>\n",
       "      <td>707 Genesee Avenue Salt Lake City, Utah, 84104...</td>\n",
       "      <td>https://www.atlasobscura.com/places/wave-organ\\n</td>\n",
       "      <td>0.639595</td>\n",
       "    </tr>\n",
       "    <tr>\n",
       "      <th>6903</th>\n",
       "      <td>The Caves of Nottingham</td>\n",
       "      <td>Underneath the modern city of Nottingham is ...</td>\n",
       "      <td>Garner's Hill Nottingham, England United Kingd...</td>\n",
       "      <td>https://www.atlasobscura.com/places/evolution-...</td>\n",
       "      <td>0.617163</td>\n",
       "    </tr>\n",
       "    <tr>\n",
       "      <th>5981</th>\n",
       "      <td>Kelly Butte Civil Defense Center</td>\n",
       "      <td>Kelly Butte is a long-extinct volcanic cinde...</td>\n",
       "      <td>Kelly Butte Portland, Oregon United States</td>\n",
       "      <td>https://www.atlasobscura.com/places/undergroun...</td>\n",
       "      <td>0.569789</td>\n",
       "    </tr>\n",
       "  </tbody>\n",
       "</table>\n",
       "<p>142 rows × 5 columns</p>\n",
       "</div>\n",
       "      <button class=\"colab-df-convert\" onclick=\"convertToInteractive('df-8efdb455-6ed7-4eb2-8c9a-70c0474fafa2')\"\n",
       "              title=\"Convert this dataframe to an interactive table.\"\n",
       "              style=\"display:none;\">\n",
       "        \n",
       "  <svg xmlns=\"http://www.w3.org/2000/svg\" height=\"24px\"viewBox=\"0 0 24 24\"\n",
       "       width=\"24px\">\n",
       "    <path d=\"M0 0h24v24H0V0z\" fill=\"none\"/>\n",
       "    <path d=\"M18.56 5.44l.94 2.06.94-2.06 2.06-.94-2.06-.94-.94-2.06-.94 2.06-2.06.94zm-11 1L8.5 8.5l.94-2.06 2.06-.94-2.06-.94L8.5 2.5l-.94 2.06-2.06.94zm10 10l.94 2.06.94-2.06 2.06-.94-2.06-.94-.94-2.06-.94 2.06-2.06.94z\"/><path d=\"M17.41 7.96l-1.37-1.37c-.4-.4-.92-.59-1.43-.59-.52 0-1.04.2-1.43.59L10.3 9.45l-7.72 7.72c-.78.78-.78 2.05 0 2.83L4 21.41c.39.39.9.59 1.41.59.51 0 1.02-.2 1.41-.59l7.78-7.78 2.81-2.81c.8-.78.8-2.07 0-2.86zM5.41 20L4 18.59l7.72-7.72 1.47 1.35L5.41 20z\"/>\n",
       "  </svg>\n",
       "      </button>\n",
       "      \n",
       "  <style>\n",
       "    .colab-df-container {\n",
       "      display:flex;\n",
       "      flex-wrap:wrap;\n",
       "      gap: 12px;\n",
       "    }\n",
       "\n",
       "    .colab-df-convert {\n",
       "      background-color: #E8F0FE;\n",
       "      border: none;\n",
       "      border-radius: 50%;\n",
       "      cursor: pointer;\n",
       "      display: none;\n",
       "      fill: #1967D2;\n",
       "      height: 32px;\n",
       "      padding: 0 0 0 0;\n",
       "      width: 32px;\n",
       "    }\n",
       "\n",
       "    .colab-df-convert:hover {\n",
       "      background-color: #E2EBFA;\n",
       "      box-shadow: 0px 1px 2px rgba(60, 64, 67, 0.3), 0px 1px 3px 1px rgba(60, 64, 67, 0.15);\n",
       "      fill: #174EA6;\n",
       "    }\n",
       "\n",
       "    [theme=dark] .colab-df-convert {\n",
       "      background-color: #3B4455;\n",
       "      fill: #D2E3FC;\n",
       "    }\n",
       "\n",
       "    [theme=dark] .colab-df-convert:hover {\n",
       "      background-color: #434B5C;\n",
       "      box-shadow: 0px 1px 3px 1px rgba(0, 0, 0, 0.15);\n",
       "      filter: drop-shadow(0px 1px 2px rgba(0, 0, 0, 0.3));\n",
       "      fill: #FFFFFF;\n",
       "    }\n",
       "  </style>\n",
       "\n",
       "      <script>\n",
       "        const buttonEl =\n",
       "          document.querySelector('#df-8efdb455-6ed7-4eb2-8c9a-70c0474fafa2 button.colab-df-convert');\n",
       "        buttonEl.style.display =\n",
       "          google.colab.kernel.accessAllowed ? 'block' : 'none';\n",
       "\n",
       "        async function convertToInteractive(key) {\n",
       "          const element = document.querySelector('#df-8efdb455-6ed7-4eb2-8c9a-70c0474fafa2');\n",
       "          const dataTable =\n",
       "            await google.colab.kernel.invokeFunction('convertToInteractive',\n",
       "                                                     [key], {});\n",
       "          if (!dataTable) return;\n",
       "\n",
       "          const docLinkHtml = 'Like what you see? Visit the ' +\n",
       "            '<a target=\"_blank\" href=https://colab.research.google.com/notebooks/data_table.ipynb>data table notebook</a>'\n",
       "            + ' to learn more about interactive tables.';\n",
       "          element.innerHTML = '';\n",
       "          dataTable['output_type'] = 'display_data';\n",
       "          await google.colab.output.renderOutput(dataTable, element);\n",
       "          const docLink = document.createElement('div');\n",
       "          docLink.innerHTML = docLinkHtml;\n",
       "          element.appendChild(docLink);\n",
       "        }\n",
       "      </script>\n",
       "    </div>\n",
       "  </div>\n",
       "  "
      ],
      "text/plain": [
       "                                   placeName  \\\n",
       "6909                     Hamilton Ghost Town   \n",
       "1812                  Nevadaville Ghost Town   \n",
       "3655                              Parksville   \n",
       "5204                          Grímsey Island   \n",
       "4006               Mayan Ruins on the Hudson   \n",
       "...                                      ...   \n",
       "3465  The Forgotten Entrance to Clinton Hall   \n",
       "1050            Flushing Meadows-Corona Park   \n",
       "3559                          Summum Pyramid   \n",
       "6903                 The Caves of Nottingham   \n",
       "5981        Kelly Butte Civil Defense Center   \n",
       "\n",
       "                                              placeDesc  \\\n",
       "6909    After silver lodes were discovered high on T...   \n",
       "1812    How did the population of a 19th century tow...   \n",
       "3655    Located in the town of Liberty, New York, Pa...   \n",
       "5204    Forty miles north of mainland Iceland is a s...   \n",
       "4006    In the mid-1800s, travelers moving up and do...   \n",
       "...                                                 ...   \n",
       "3465    This blocked up doorway on a subway station ...   \n",
       "1050    After a long ride from Manhattan, most get o...   \n",
       "3559    In 1975, Claude Corky Nowell said he had an ...   \n",
       "6903    Underneath the modern city of Nottingham is ...   \n",
       "5981    Kelly Butte is a long-extinct volcanic cinde...   \n",
       "\n",
       "                                           placeAddress  \\\n",
       "6909          White Pine County, Nevada United States     \n",
       "1812  Nevadaville Rd, Central City, CO, USA Central ...   \n",
       "3655               Parksville, New York United States     \n",
       "5204                       Vallargata Grímsey Iceland     \n",
       "4006  Cruger Island Road Red Hook, New York, 12571 U...   \n",
       "...                                                 ...   \n",
       "3465  Astor Place Subway Station Astor Place New Yor...   \n",
       "1050  Kennedy Circle Queens, New York, 11368 United ...   \n",
       "3559  707 Genesee Avenue Salt Lake City, Utah, 84104...   \n",
       "6903  Garner's Hill Nottingham, England United Kingd...   \n",
       "5981       Kelly Butte Portland, Oregon United States     \n",
       "\n",
       "                                               placeURL  cosin_similarity  \n",
       "6909  https://www.atlasobscura.com/places/highgate-c...          1.000000  \n",
       "1812  https://www.atlasobscura.com/places/magowans-i...          1.000000  \n",
       "3655  https://www.atlasobscura.com/places/city-hall-...          1.000000  \n",
       "5204  https://www.atlasobscura.com/places/leadenhall...          1.000000  \n",
       "4006  https://www.atlasobscura.com/places/highgate-c...          1.000000  \n",
       "...                                                 ...               ...  \n",
       "3465   https://www.atlasobscura.com/places/wave-organ\\n          0.701593  \n",
       "1050  https://www.atlasobscura.com/places/highgate-c...          0.667151  \n",
       "3559   https://www.atlasobscura.com/places/wave-organ\\n          0.639595  \n",
       "6903  https://www.atlasobscura.com/places/evolution-...          0.617163  \n",
       "5981  https://www.atlasobscura.com/places/undergroun...          0.569789  \n",
       "\n",
       "[142 rows x 5 columns]"
      ]
     },
     "execution_count": 82,
     "metadata": {},
     "output_type": "execute_result"
    }
   ],
   "source": [
    "# Example output (\"city hall\")\n",
    "querySample2 = input('Please enter the queryString: ')\n",
    "SearchEngine2(querySample2, queryDataCopy)"
   ]
  },
  {
   "cell_type": "markdown",
   "metadata": {
    "id": "JQr2OeXawMqb"
   },
   "source": [
    "# **3. Define a new score!**"
   ]
  },
  {
   "cell_type": "markdown",
   "metadata": {
    "id": "7TzLb9buwd4R"
   },
   "source": [
    "To understand our choices for this question, let's study better the use cases of this application. In our opinion the user will use this \"application\" when he wants to do a research to find places to visit (for example: next week I'm going to Milan and I want to search if there are any science museums there, or also this evening I want to do some new experiences in my city). In every case what's important is the location and the activity that you can do in the place.<br>\n",
    "So, for us, a way to give more relevant outputs to the user is finding out where he want to go and what he wants to do (or particular topics in which he is interested). To do that we can ask the user to specify these information and we can exploit the ``placeAddress`` and ``placeTags`` columns to give more importance to the places that match the requests.<br>\n",
    "Furthermore we could also ask the user to indicate some places nearby (useful if he is for example planning a trip), or some places similar, and then exploit the ``placeNearby`` and ``placeRelatedPlaces`` columns. But not all the users want to specify all these things, so as first thing we are going to ask the user whether he wants to do a basic research (where he has to give only the description of the place, where he wants to go and what he wants to do) or a more advanced research(where he is asked to indicate also the places nearby and places similar). In both cases he can skip some fields by putting a \"-\"."
   ]
  },
  {
   "cell_type": "markdown",
   "metadata": {
    "id": "IoHDE-_QmKgW"
   },
   "source": [
    "Now, we can see the code.<br>\n",
    "First of all we have to prepare the dataset by stemming the columns of our interest."
   ]
  },
  {
   "cell_type": "code",
   "execution_count": 16,
   "metadata": {
    "id": "aNqffNB0mLwU"
   },
   "outputs": [],
   "source": [
    "#preparation of the dataset\n",
    "\n",
    "#take only the columns of interest\n",
    "#queryData_3 = pd.read_csv('queryData.csv', usecols = ['placeName', 'placeTags', 'placeDesc', 'placeNearby', 'placeAddress', \n",
    "                                                   #'placeRelatedLists', 'placeRelatedPlaces', 'placeURL'])\n",
    "queryData_3 = pd.read_csv('queryData.csv', usecols = ['placeName', 'placeTags', 'placeDesc', 'placeNearby', 'placeAddress', 'placeAlt', 'placeLong', 'numPeopleVisited',\n",
    "                                                   'numPeopleWant','placeRelatedLists', 'placeRelatedPlaces', 'placeURL'])\n",
    "queryData_3_Copy = queryData_3.copy()\n",
    "#replace eventual NaN values with the empty string\n",
    "queryData_3_Copy = queryData_3_Copy.fillna('')\n",
    "\n",
    "#replace these columns with their stemmed values\n",
    "columns_to_stem = ['placeTags', 'placeNearby', 'placeRelatedLists', 'placeRelatedPlaces']\n",
    "\n",
    "for col in columns_to_stem:\n",
    "    stemmed = []\n",
    "    for i in queryData_3_Copy[col]:\n",
    "        queryDataStr = ''.join(c for c in i if c not in string.punctuation)\n",
    "        queryDataProcess = set(preProcess(queryDataStr))\n",
    "        stemmed.append(queryDataProcess)\n",
    "    queryData_3_Copy[col] = stemmed"
   ]
  },
  {
   "cell_type": "markdown",
   "metadata": {
    "id": "UWzTYKeHmQPf"
   },
   "source": [
    "Let's continue to prepare the dataset by tranforming the address by taking only the city and the region/State, since these are the informations that the user will tell us."
   ]
  },
  {
   "cell_type": "code",
   "execution_count": 17,
   "metadata": {
    "id": "JPTr6W_GmQry"
   },
   "outputs": [],
   "source": [
    "import spacy\n",
    "import re\n",
    "nlp = spacy.load('en_core_web_sm')\n",
    "\n",
    "#function that takes only cities/states/regions without postal codes\n",
    "def get_location(txt):\n",
    "    doc = nlp(txt)\n",
    "    return [' '.join(re.findall(r'\\b[^\\W\\d_]+\\b', ent.text)) for ent in doc.ents if ent.label_ == 'GPE']\n",
    "\n",
    "listLocations = []\n",
    "#iterate on all the addresses\n",
    "for i in queryData_3_Copy['placeAddress']:\n",
    "    queryDataStr = str(i)\n",
    "    queryDataProcess = get_location(queryDataStr)\n",
    "    listLocations.append(queryDataProcess)\n",
    "#replace the address with only the data that we're interested in\n",
    "queryData_3_Copy['placeAddress'] = listLocations"
   ]
  },
  {
   "cell_type": "code",
   "execution_count": 18,
   "metadata": {
    "id": "_kvmFiG9mXR6"
   },
   "outputs": [
    {
     "data": {
      "text/plain": [
       "421"
      ]
     },
     "execution_count": 18,
     "metadata": {},
     "output_type": "execute_result"
    }
   ],
   "source": [
    "#there are 421 places without an address\n",
    "len(queryData_3_Copy[queryData_3_Copy['placeAddress'].map(lambda d: len(d)) == 0])"
   ]
  },
  {
   "cell_type": "code",
   "execution_count": 19,
   "metadata": {
    "id": "tz5JmEZEmbmP"
   },
   "outputs": [
    {
     "data": {
      "text/html": [
       "<div>\n",
       "<style scoped>\n",
       "    .dataframe tbody tr th:only-of-type {\n",
       "        vertical-align: middle;\n",
       "    }\n",
       "\n",
       "    .dataframe tbody tr th {\n",
       "        vertical-align: top;\n",
       "    }\n",
       "\n",
       "    .dataframe thead th {\n",
       "        text-align: right;\n",
       "    }\n",
       "</style>\n",
       "<table border=\"1\" class=\"dataframe\">\n",
       "  <thead>\n",
       "    <tr style=\"text-align: right;\">\n",
       "      <th></th>\n",
       "      <th>placeName</th>\n",
       "      <th>placeTags</th>\n",
       "      <th>numPeopleVisited</th>\n",
       "      <th>numPeopleWant</th>\n",
       "      <th>placeDesc</th>\n",
       "      <th>placeNearby</th>\n",
       "      <th>placeAddress</th>\n",
       "      <th>placeAlt</th>\n",
       "      <th>placeLong</th>\n",
       "      <th>placeRelatedLists</th>\n",
       "      <th>placeRelatedPlaces</th>\n",
       "      <th>placeURL</th>\n",
       "    </tr>\n",
       "  </thead>\n",
       "  <tbody>\n",
       "    <tr>\n",
       "      <th>0</th>\n",
       "      <td>City Hall Station</td>\n",
       "      <td>{odditi, infrastructur, abandon, architectur, ...</td>\n",
       "      <td>1828</td>\n",
       "      <td>8585</td>\n",
       "      <td>The first New York City subway was built and...</td>\n",
       "      <td>{sugar, window, burial, monument, 3, number, p...</td>\n",
       "      <td>[New York, United States]</td>\n",
       "      <td>40.7134</td>\n",
       "      <td>-74.0046</td>\n",
       "      <td>{18, place, hidden, histori, plain, subway, un...</td>\n",
       "      <td>{fortif, metro, squar, palac, crystal, klafthm...</td>\n",
       "      <td>https://www.atlasobscura.com/places/evolution-...</td>\n",
       "    </tr>\n",
       "    <tr>\n",
       "      <th>1</th>\n",
       "      <td>Highgate Cemetery</td>\n",
       "      <td>{week, cemeteri, catacomb, vampir, occult, cry...</td>\n",
       "      <td>2619</td>\n",
       "      <td>8184</td>\n",
       "      <td>Opened in 1839, Highgate is one of London’s ...</td>\n",
       "      <td>{parkland, pot, largest, walk, ’, cat, whittin...</td>\n",
       "      <td>[England, United Kingdom]</td>\n",
       "      <td>51.5675</td>\n",
       "      <td>-0.1483</td>\n",
       "      <td>{wonder, wanderlust, 2018, favorit, histor, lo...</td>\n",
       "      <td>{tomb, jewett, cemeteri, catacomb, mather, vam...</td>\n",
       "      <td>https://www.atlasobscura.com/places/evolution-...</td>\n",
       "    </tr>\n",
       "    <tr>\n",
       "      <th>2</th>\n",
       "      <td>Leadenhall Market</td>\n",
       "      <td>{film, locat, market}</td>\n",
       "      <td>3135</td>\n",
       "      <td>7570</td>\n",
       "      <td>The ornate 19th-century painted roof and cob...</td>\n",
       "      <td>{allinspir, sculptur, philpot, london, devil, ...</td>\n",
       "      <td>[London, England, United Kingdom]</td>\n",
       "      <td>51.5126</td>\n",
       "      <td>-0.0834</td>\n",
       "      <td>{unusu, shop, hidden, wonder, surpris, tour, f...</td>\n",
       "      <td>{cafe, de, ciotat, bagdad, la, gare, rivendel,...</td>\n",
       "      <td>https://www.atlasobscura.com/places/highgate-c...</td>\n",
       "    </tr>\n",
       "    <tr>\n",
       "      <th>3</th>\n",
       "      <td>The Wave Organ</td>\n",
       "      <td>{sound, art, organ, outsid, cemeteri, music, s...</td>\n",
       "      <td>2429</td>\n",
       "      <td>7414</td>\n",
       "      <td>Located on a jetty in the San Francisco Bay,...</td>\n",
       "      <td>{fine, art, galile, brigantin, orreri, long, p...</td>\n",
       "      <td>[San Francisco, California, United States]</td>\n",
       "      <td>37.8085</td>\n",
       "      <td>-122.4401</td>\n",
       "      <td>{tire, leonardo, 9, 16, your, francisco, quirk...</td>\n",
       "      <td>{silent, gunnar, sculptur, schonbeck, green, e...</td>\n",
       "      <td>https://www.atlasobscura.com/places/evolution-...</td>\n",
       "    </tr>\n",
       "    <tr>\n",
       "      <th>4</th>\n",
       "      <td>Catacombes de Paris</td>\n",
       "      <td>{mori, memento, catacomb, crypt, ossuari, subt...</td>\n",
       "      <td>4448</td>\n",
       "      <td>7047</td>\n",
       "      <td>In 2004, Parisian police were assigned to do...</td>\n",
       "      <td>{arago, sculptur, décure, floor, de, jeannot, ...</td>\n",
       "      <td>[Paris, France]</td>\n",
       "      <td>48.8343</td>\n",
       "      <td>2.3322</td>\n",
       "      <td>{place, catacomb, europ, definit, wonder, 100,...</td>\n",
       "      <td>{santa, melník, san, bone, charnel, leuk, ossa...</td>\n",
       "      <td>https://www.atlasobscura.com/places/leadenhall...</td>\n",
       "    </tr>\n",
       "  </tbody>\n",
       "</table>\n",
       "</div>"
      ],
      "text/plain": [
       "             placeName                                          placeTags  \\\n",
       "0    City Hall Station  {odditi, infrastructur, abandon, architectur, ...   \n",
       "1    Highgate Cemetery  {week, cemeteri, catacomb, vampir, occult, cry...   \n",
       "2    Leadenhall Market                              {film, locat, market}   \n",
       "3       The Wave Organ  {sound, art, organ, outsid, cemeteri, music, s...   \n",
       "4  Catacombes de Paris  {mori, memento, catacomb, crypt, ossuari, subt...   \n",
       "\n",
       "   numPeopleVisited  numPeopleWant  \\\n",
       "0              1828           8585   \n",
       "1              2619           8184   \n",
       "2              3135           7570   \n",
       "3              2429           7414   \n",
       "4              4448           7047   \n",
       "\n",
       "                                           placeDesc  \\\n",
       "0    The first New York City subway was built and...   \n",
       "1    Opened in 1839, Highgate is one of London’s ...   \n",
       "2    The ornate 19th-century painted roof and cob...   \n",
       "3    Located on a jetty in the San Francisco Bay,...   \n",
       "4    In 2004, Parisian police were assigned to do...   \n",
       "\n",
       "                                         placeNearby  \\\n",
       "0  {sugar, window, burial, monument, 3, number, p...   \n",
       "1  {parkland, pot, largest, walk, ’, cat, whittin...   \n",
       "2  {allinspir, sculptur, philpot, london, devil, ...   \n",
       "3  {fine, art, galile, brigantin, orreri, long, p...   \n",
       "4  {arago, sculptur, décure, floor, de, jeannot, ...   \n",
       "\n",
       "                                 placeAddress  placeAlt  placeLong  \\\n",
       "0                   [New York, United States]   40.7134   -74.0046   \n",
       "1                   [England, United Kingdom]   51.5675    -0.1483   \n",
       "2           [London, England, United Kingdom]   51.5126    -0.0834   \n",
       "3  [San Francisco, California, United States]   37.8085  -122.4401   \n",
       "4                             [Paris, France]   48.8343     2.3322   \n",
       "\n",
       "                                   placeRelatedLists  \\\n",
       "0  {18, place, hidden, histori, plain, subway, un...   \n",
       "1  {wonder, wanderlust, 2018, favorit, histor, lo...   \n",
       "2  {unusu, shop, hidden, wonder, surpris, tour, f...   \n",
       "3  {tire, leonardo, 9, 16, your, francisco, quirk...   \n",
       "4  {place, catacomb, europ, definit, wonder, 100,...   \n",
       "\n",
       "                                  placeRelatedPlaces  \\\n",
       "0  {fortif, metro, squar, palac, crystal, klafthm...   \n",
       "1  {tomb, jewett, cemeteri, catacomb, mather, vam...   \n",
       "2  {cafe, de, ciotat, bagdad, la, gare, rivendel,...   \n",
       "3  {silent, gunnar, sculptur, schonbeck, green, e...   \n",
       "4  {santa, melník, san, bone, charnel, leuk, ossa...   \n",
       "\n",
       "                                            placeURL  \n",
       "0  https://www.atlasobscura.com/places/evolution-...  \n",
       "1  https://www.atlasobscura.com/places/evolution-...  \n",
       "2  https://www.atlasobscura.com/places/highgate-c...  \n",
       "3  https://www.atlasobscura.com/places/evolution-...  \n",
       "4  https://www.atlasobscura.com/places/leadenhall...  "
      ]
     },
     "execution_count": 19,
     "metadata": {},
     "output_type": "execute_result"
    }
   ],
   "source": [
    "#the new dataset has this appearence\n",
    "queryData_3_Copy.head()"
   ]
  },
  {
   "cell_type": "markdown",
   "metadata": {
    "id": "Vli-JPZkmf48"
   },
   "source": [
    "At this point the dataset is ready, let's define the new algorithm for giving the score to the places.<br>\n",
    "The maximum number points that each place can reach is 4, this can be multiplied per 25 and in this way we can obtain a \"percentage of similarity\".<br>\n",
    "The points are given in this way:\n",
    "- +1 if the place is in the same state/city indicated by the user\n",
    "- \\+ number of tags matched divided by the number of tags indicated by the user\n",
    "- \\+ number of places nearby matched divided by the number of places nearby indicated by the user\n",
    "- \\+ number of places similar matched divided by the number of places similar indicated by the user<br>\n",
    "**_Special cases_**:\n",
    "- if the user doesn't give a brief description of the place, an error is raised\n",
    "- if the user gives only the brief description, the basic search engine is retrieved\n",
    "\n",
    "\n",
    "(Practically we are exploiting the Jaccard similarity)"
   ]
  },
  {
   "cell_type": "code",
   "execution_count": 20,
   "metadata": {
    "id": "VdfBnEoUmhNK"
   },
   "outputs": [],
   "source": [
    "def ranking_score(row, location, activities, p_nearby, p_similar):\n",
    "    score = 0\n",
    "    if location != '-' and location.lower() in [p.lower() for p in row.placeAddress]:\n",
    "        score += 1\n",
    "    if activities != '-':\n",
    "        activities = set(preProcess(activities))\n",
    "        score += len(set(row.placeTags).intersection(activities))/len(set(set(row.placeTags).union(activities)))\n",
    "    if p_nearby != '-':\n",
    "        p_nearby = set(preProcess(p_nearby))\n",
    "        score += len(set(row.placeNearby).intersection(p_nearby))/len(set(set(row.placeNearby).union(p_nearby)))\n",
    "    if p_similar != '-':\n",
    "        p_similar = set(preProcess(p_similar))\n",
    "        score += len(set(row.placeRelatedPlaces).intersection(p_similar))/len(set(set(row.placeRelatedPlaces).union(p_similar)))\n",
    "    return score"
   ]
  },
  {
   "cell_type": "markdown",
   "metadata": {
    "id": "zIAWTVlGmjkp"
   },
   "source": [
    "Now let's ask the user if he wants to do a basic or advanced research."
   ]
  },
  {
   "cell_type": "code",
   "execution_count": 21,
   "metadata": {
    "id": "86ByYu55mmH6"
   },
   "outputs": [
    {
     "name": "stdin",
     "output_type": "stream",
     "text": [
      "Hi user, do you want to do a basic or an advanced research? (b/adv) b\n"
     ]
    }
   ],
   "source": [
    "tr = input('Hi user, do you want to do a basic or an advanced research? (b/adv)')"
   ]
  },
  {
   "cell_type": "markdown",
   "metadata": {
    "id": "i2c0n5zZmoSw"
   },
   "source": [
    "And now let's ask the user for the informations:"
   ]
  },
  {
   "cell_type": "code",
   "execution_count": 28,
   "metadata": {
    "id": "I1lH-zUMmrFj"
   },
   "outputs": [
    {
     "name": "stdin",
     "output_type": "stream",
     "text": [
      "Hi user! I'll search for you the place you are looking for. Please enter a brief description of the place, where it is, and the activity that you want to do. Divide everything with a comma and if you don't know what to write put '-'. science museum,sweden,nuclear\n"
     ]
    }
   ],
   "source": [
    "#case of the basic research\n",
    "if (tr=='b'):\n",
    "    hello_user = \"Hi user! I'll search for you the place you are looking for. Please enter a brief description of the place, where it is, and the activity that you want to do. Divide everything with a comma and if you don't know what to write put '-'.\"\n",
    "    query = input(hello_user)\n",
    "    basic_desc, location, activities= query.split(',')\n",
    "    p_nearby, p_similar = '-', '-'\n",
    "    if basic_desc == '-':\n",
    "        raise ValueError(\"Please enter at least a brief description.\")\n",
    "        \n",
    "#case of the advenced research\n",
    "elif (tr=='adv'):\n",
    "    hello_user = \"Hi user! I'll search for you the place you are looking for. Please enter a brief description of the place, where it is, the activity that you want to do, places nearby and places similar. Divide everything with a comma and if you don't know what to write put '-'.\"\n",
    "    query = input(hello_user)\n",
    "    basic_desc, location, activities, p_nearby, p_similar = query.split(',')\n",
    "    if basic_desc == '-':\n",
    "        raise ValueError(\"Please enter at least a brief description.\")\n",
    "        \n",
    "else:\n",
    "    raise ValueError('Command not found! Please enter \\'b\\' or \\'adv\\'.')"
   ]
  },
  {
   "cell_type": "code",
   "execution_count": 29,
   "metadata": {
    "id": "CIXhnyW8mueb"
   },
   "outputs": [
    {
     "name": "stderr",
     "output_type": "stream",
     "text": [
      "/var/folders/_2/4hw_b5r17l139bnw2649h6yc0000gn/T/ipykernel_8865/3062576557.py:10: FutureWarning:\n",
      "\n",
      "Passing a set as an indexer is deprecated and will raise in a future version. Use a list instead.\n",
      "\n"
     ]
    }
   ],
   "source": [
    "import heapq\n",
    "\n",
    "#retrieve all the places related\n",
    "related = SearchEngine(basic_desc, queryData_3_Copy)\n",
    "\n",
    "#initialize a max-heap\n",
    "max_heap = []\n",
    "\n",
    "#add a column for the ranking score and compute all the scores\n",
    "scores = np.zeros(len(related), dtype=np.float32)\n",
    "related['score'] = scores\n",
    "for index, row in related.iterrows():\n",
    "    s = ranking_score(row, location, activities, p_nearby, p_similar)\n",
    "    related.loc[index,'score'] = s\n",
    "    tup = (-s, index)\n",
    "    heapq.heappush(max_heap, tup)\n",
    "\n",
    "#indeces of the query-related docs in order of similarity\n",
    "heapsort = [heapq.heappop(max_heap)[1] for i in range(len(max_heap))]\n",
    "resultQuery = related.loc[heapsort]"
   ]
  },
  {
   "cell_type": "code",
   "execution_count": 55,
   "metadata": {
    "id": "0tTj2pFAmxJq"
   },
   "outputs": [
    {
     "data": {
      "text/html": [
       "<div>\n",
       "<style scoped>\n",
       "    .dataframe tbody tr th:only-of-type {\n",
       "        vertical-align: middle;\n",
       "    }\n",
       "\n",
       "    .dataframe tbody tr th {\n",
       "        vertical-align: top;\n",
       "    }\n",
       "\n",
       "    .dataframe thead th {\n",
       "        text-align: right;\n",
       "    }\n",
       "</style>\n",
       "<table border=\"1\" class=\"dataframe\">\n",
       "  <thead>\n",
       "    <tr style=\"text-align: right;\">\n",
       "      <th></th>\n",
       "      <th>placeName</th>\n",
       "      <th>placeDesc</th>\n",
       "      <th>placeURL</th>\n",
       "      <th>score</th>\n",
       "    </tr>\n",
       "  </thead>\n",
       "  <tbody>\n",
       "    <tr>\n",
       "      <th>1849</th>\n",
       "      <td>R1 Nuclear Reactor</td>\n",
       "      <td>During the post World War II race among coun...</td>\n",
       "      <td>https://www.atlasobscura.com/places/leadenhall...</td>\n",
       "      <td>1.250000</td>\n",
       "    </tr>\n",
       "    <tr>\n",
       "      <th>1768</th>\n",
       "      <td>The National Museum of Nuclear Science &amp; History</td>\n",
       "      <td>The National Museum of Nuclear Science &amp; His...</td>\n",
       "      <td>https://www.atlasobscura.com/places/leadenhall...</td>\n",
       "      <td>0.250000</td>\n",
       "    </tr>\n",
       "    <tr>\n",
       "      <th>6061</th>\n",
       "      <td>Ukrainian National Chernobyl Museum</td>\n",
       "      <td>This small and unassuming museum documents t...</td>\n",
       "      <td>https://www.atlasobscura.com/places/wave-organ\\n</td>\n",
       "      <td>0.200000</td>\n",
       "    </tr>\n",
       "    <tr>\n",
       "      <th>885</th>\n",
       "      <td>Oak Ridge \"The Secret City\"</td>\n",
       "      <td>The city of Oak Ridge was established by the...</td>\n",
       "      <td>https://www.atlasobscura.com/places/catacombes...</td>\n",
       "      <td>0.100000</td>\n",
       "    </tr>\n",
       "    <tr>\n",
       "      <th>1158</th>\n",
       "      <td>Titan Missile Museum</td>\n",
       "      <td>The only megaton missile silo from the Cold ...</td>\n",
       "      <td>https://www.atlasobscura.com/places/the-museum...</td>\n",
       "      <td>0.066667</td>\n",
       "    </tr>\n",
       "    <tr>\n",
       "      <th>...</th>\n",
       "      <td>...</td>\n",
       "      <td>...</td>\n",
       "      <td>...</td>\n",
       "      <td>...</td>\n",
       "    </tr>\n",
       "    <tr>\n",
       "      <th>6901</th>\n",
       "      <td>Computer History Museum</td>\n",
       "      <td>The collection of computers and related hist...</td>\n",
       "      <td>https://www.atlasobscura.com/places/catacombes...</td>\n",
       "      <td>0.000000</td>\n",
       "    </tr>\n",
       "    <tr>\n",
       "      <th>6967</th>\n",
       "      <td>L.R. Ingersoll Physics Museum</td>\n",
       "      <td>This museum is a wondrous example of bringin...</td>\n",
       "      <td>https://www.atlasobscura.com/places/catacombes...</td>\n",
       "      <td>0.000000</td>\n",
       "    </tr>\n",
       "    <tr>\n",
       "      <th>6984</th>\n",
       "      <td>Tesla's Birthplace Museum</td>\n",
       "      <td>Like many of the world’s greats, Nikola Tesl...</td>\n",
       "      <td>https://www.atlasobscura.com/places/evolution-...</td>\n",
       "      <td>0.000000</td>\n",
       "    </tr>\n",
       "    <tr>\n",
       "      <th>7104</th>\n",
       "      <td>Collegium Maius</td>\n",
       "      <td>Located in part of what is now Jagiellonian ...</td>\n",
       "      <td>https://www.atlasobscura.com/places/leadenhall...</td>\n",
       "      <td>0.000000</td>\n",
       "    </tr>\n",
       "    <tr>\n",
       "      <th>7191</th>\n",
       "      <td>Lizzadro Museum of Lapidary Art</td>\n",
       "      <td>An Italian immigrant arriving in the United ...</td>\n",
       "      <td>https://www.atlasobscura.com/places/leadenhall...</td>\n",
       "      <td>0.000000</td>\n",
       "    </tr>\n",
       "  </tbody>\n",
       "</table>\n",
       "<p>120 rows × 4 columns</p>\n",
       "</div>"
      ],
      "text/plain": [
       "                                             placeName  \\\n",
       "1849                                R1 Nuclear Reactor   \n",
       "1768  The National Museum of Nuclear Science & History   \n",
       "6061               Ukrainian National Chernobyl Museum   \n",
       "885                        Oak Ridge \"The Secret City\"   \n",
       "1158                              Titan Missile Museum   \n",
       "...                                                ...   \n",
       "6901                           Computer History Museum   \n",
       "6967                     L.R. Ingersoll Physics Museum   \n",
       "6984                         Tesla's Birthplace Museum   \n",
       "7104                                   Collegium Maius   \n",
       "7191                   Lizzadro Museum of Lapidary Art   \n",
       "\n",
       "                                              placeDesc  \\\n",
       "1849    During the post World War II race among coun...   \n",
       "1768    The National Museum of Nuclear Science & His...   \n",
       "6061    This small and unassuming museum documents t...   \n",
       "885     The city of Oak Ridge was established by the...   \n",
       "1158    The only megaton missile silo from the Cold ...   \n",
       "...                                                 ...   \n",
       "6901    The collection of computers and related hist...   \n",
       "6967    This museum is a wondrous example of bringin...   \n",
       "6984    Like many of the world’s greats, Nikola Tesl...   \n",
       "7104    Located in part of what is now Jagiellonian ...   \n",
       "7191    An Italian immigrant arriving in the United ...   \n",
       "\n",
       "                                               placeURL     score  \n",
       "1849  https://www.atlasobscura.com/places/leadenhall...  1.250000  \n",
       "1768  https://www.atlasobscura.com/places/leadenhall...  0.250000  \n",
       "6061   https://www.atlasobscura.com/places/wave-organ\\n  0.200000  \n",
       "885   https://www.atlasobscura.com/places/catacombes...  0.100000  \n",
       "1158  https://www.atlasobscura.com/places/the-museum...  0.066667  \n",
       "...                                                 ...       ...  \n",
       "6901  https://www.atlasobscura.com/places/catacombes...  0.000000  \n",
       "6967  https://www.atlasobscura.com/places/catacombes...  0.000000  \n",
       "6984  https://www.atlasobscura.com/places/evolution-...  0.000000  \n",
       "7104  https://www.atlasobscura.com/places/leadenhall...  0.000000  \n",
       "7191  https://www.atlasobscura.com/places/leadenhall...  0.000000  \n",
       "\n",
       "[120 rows x 4 columns]"
      ]
     },
     "execution_count": 55,
     "metadata": {},
     "output_type": "execute_result"
    }
   ],
   "source": [
    "resultQuery[['placeName', 'placeDesc', 'placeURL', 'score']]"
   ]
  },
  {
   "cell_type": "markdown",
   "metadata": {},
   "source": [
    "We ran a very similar query for the two ranking functions (cosine similarity and this other one). The comment that we can do about it is that if we want to search something more generally, the cosine similarity is probably the best choice. But if we want to search something more specific as the location (and all the specifics considered int his third exercise), the new ranking score function gives more targeted results."
   ]
  },
  {
   "cell_type": "markdown",
   "metadata": {
    "id": "AxjBfPmnRJcu"
   },
   "source": [
    "# **4. Visualizing the most relevant places**"
   ]
  },
  {
   "cell_type": "code",
   "execution_count": 31,
   "metadata": {
    "colab": {
     "base_uri": "https://localhost:8080/",
     "height": 235
    },
    "id": "V3Ahc8Z3RULh",
    "outputId": "44319b6a-e140-43b7-b369-a1be98a46bb9"
   },
   "outputs": [
    {
     "data": {
      "application/vnd.plotly.v1+json": {
       "config": {
        "plotlyServerURL": "https://plot.ly"
       },
       "data": [
        {
         "customdata": [
          [
           150,
           [
            "Stockholm",
            "Sweden"
           ]
          ],
          [
           615,
           [
            "New Mexico",
            "United States"
           ]
          ],
          [
           252,
           [
            "Ukraine"
           ]
          ],
          [
           579,
           [
            "Oak Ridge",
            "Tennessee",
            "United States"
           ]
          ],
          [
           612,
           [
            "Green Valley",
            "Arizona"
           ]
          ],
          [
           545,
           [
            "Amsterdam",
            "TC Netherlands"
           ]
          ],
          [
           754,
           [
            "Berlin",
            "Germany"
           ]
          ],
          [
           1013,
           [
            "Austin",
            "Texas",
            "United States"
           ]
          ],
          [
           4617,
           [
            "North Seattle",
            "Washington",
            "United States"
           ]
          ],
          [
           225,
           [
            "New York",
            "New York United States"
           ]
          ],
          [
           842,
           [
            "Maine",
            "United States"
           ]
          ],
          [
           505,
           [
            "West Montgomery Avenue Philadelphia",
            "Pennsylvania",
            "United States"
           ]
          ],
          [
           1367,
           [
            "Scotland",
            "United Kingdom"
           ]
          ],
          [
           1120,
           [
            "Illinois United States"
           ]
          ],
          [
           738,
           []
          ],
          [
           235,
           [
            "London",
            "England",
            "United Kingdom"
           ]
          ],
          [
           733,
           [
            "Chambers St Edinburgh",
            "Scotland",
            "United Kingdom"
           ]
          ],
          [
           168,
           [
            "Illinois",
            "United States"
           ]
          ],
          [
           289,
           [
            "Virginia United States"
           ]
          ],
          [
           905,
           [
            "England"
           ]
          ],
          [
           235,
           [
            "New York",
            "New York",
            "United States"
           ]
          ],
          [
           454,
           [
            "San Francisco",
            "California",
            "United States"
           ]
          ],
          [
           688,
           [
            "Paris",
            "France"
           ]
          ],
          [
           500,
           [
            "Pittsburgh",
            "Pennsylvania",
            "United States"
           ]
          ],
          [
           516,
           [
            "Houston",
            "Texas",
            "United States"
           ]
          ],
          [
           191,
           [
            "Paris",
            "France"
           ]
          ],
          [
           743,
           [
            "England"
           ]
          ],
          [
           253,
           [
            "Pennsylvania",
            "United States"
           ]
          ],
          [
           1373,
           [
            "New York",
            "United States"
           ]
          ],
          [
           315,
           [
            "New York",
            "New York",
            "United States"
           ]
          ],
          [
           788,
           [
            "Virginia",
            "United States"
           ]
          ],
          [
           379,
           [
            "London",
            "England",
            "United Kingdom"
           ]
          ],
          [
           463,
           [
            "Park Jersey City",
            "New Jersey",
            "United States"
           ]
          ],
          [
           1004,
           [
            "Massachusetts",
            "United States"
           ]
          ],
          [
           473,
           [
            "North Carolina",
            "United States"
           ]
          ],
          [
           371,
           [
            "Minnesota"
           ]
          ],
          [
           1444,
           [
            "Tokyo",
            "Japan"
           ]
          ],
          [
           782,
           [
            "Chicago",
            "Illinois",
            "United States"
           ]
          ],
          [
           1120,
           [
            "Illinois United States"
           ]
          ],
          [
           738,
           []
          ],
          [
           235,
           [
            "London",
            "England",
            "United Kingdom"
           ]
          ],
          [
           733,
           [
            "Chambers St Edinburgh",
            "Scotland",
            "United Kingdom"
           ]
          ],
          [
           168,
           [
            "Illinois",
            "United States"
           ]
          ],
          [
           289,
           [
            "Virginia United States"
           ]
          ],
          [
           349,
           [
            "California",
            "United States"
           ]
          ],
          [
           647,
           [
            "Colorado",
            "Denver",
            "Colorado United States"
           ]
          ],
          [
           375,
           []
          ],
          [
           598,
           [
            "Signoria",
            "Florence",
            "Italy"
           ]
          ],
          [
           763,
           [
            "Illinois",
            "United States"
           ]
          ],
          [
           130,
           [
            "France"
           ]
          ],
          [
           256,
           [
            "Cleveland",
            "Ohio",
            "United States"
           ]
          ],
          [
           248,
           [
            "Virginia",
            "United States"
           ]
          ],
          [
           1225,
           [
            "Massachusetts United States"
           ]
          ],
          [
           232,
           [
            "Virginia United States"
           ]
          ],
          [
           114,
           [
            "Lexington",
            "Kentucky",
            "United States"
           ]
          ],
          [
           128,
           [
            "Arizona",
            "United States"
           ]
          ],
          [
           961,
           [
            "Scotland",
            "United Kingdom"
           ]
          ],
          [
           345,
           []
          ],
          [
           243,
           [
            "Connecticut",
            "United States"
           ]
          ],
          [
           154,
           [
            "Tokyo",
            "Japan"
           ]
          ],
          [
           130,
           [
            "New Mexico",
            "United States"
           ]
          ],
          [
           338,
           [
            "Pennsylvania",
            "United States"
           ]
          ],
          [
           386,
           [
            "Ohio",
            "United States"
           ]
          ],
          [
           124,
           [
            "Maryland",
            "United States"
           ]
          ],
          [
           160,
           [
            "Ohio",
            "Pennsylvania United States"
           ]
          ],
          [
           113,
           [
            "San Francisco",
            "California",
            "United States"
           ]
          ],
          [
           134,
           [
            "England United Kingdom"
           ]
          ],
          [
           2059,
           [
            "Chicago",
            "Illinois",
            "United States"
           ]
          ],
          [
           385,
           [
            "London",
            "England",
            "United Kingdom"
           ]
          ],
          [
           256,
           [
            "Scotland",
            "United Kingdom"
           ]
          ],
          [
           220,
           [
            "Houston",
            "Texas",
            "United States"
           ]
          ],
          [
           114,
           [
            "Paris",
            "France"
           ]
          ],
          [
           152,
           [
            "Santa Monica",
            "California",
            "United States"
           ]
          ],
          [
           119,
           [
            "New York",
            "Shoreham",
            "New York",
            "United States"
           ]
          ],
          [
           156,
           [
            "Maryland",
            "Pittsburgh",
            "Pennsylvania",
            "United States"
           ]
          ],
          [
           75,
           [
            "San Francisco",
            "California",
            "United States"
           ]
          ],
          [
           1313,
           [
            "Pennsylvania United States"
           ]
          ],
          [
           84,
           [
            "Italy"
           ]
          ],
          [
           931,
           [
            "Massachusetts",
            "United States"
           ]
          ],
          [
           219,
           [
            "Haarlem Netherlands"
           ]
          ],
          [
           359,
           [
            "Petersburg",
            "Kentucky",
            "United States"
           ]
          ],
          [
           198,
           [
            "Ohio United States"
           ]
          ],
          [
           627,
           [
            "Hawaii",
            "United States"
           ]
          ],
          [
           110,
           [
            "Washington",
            "United States"
           ]
          ],
          [
           82,
           []
          ],
          [
           191,
           [
            "Los Angeles County",
            "Los Angeles",
            "California United States"
           ]
          ],
          [
           472,
           [
            "England",
            "United Kingdom"
           ]
          ],
          [
           367,
           [
            "Los Alamos",
            "New Mexico United States"
           ]
          ],
          [
           157,
           [
            "Vienna",
            "Austria"
           ]
          ],
          [
           578,
           [
            "Austria"
           ]
          ],
          [
           349,
           [
            "California",
            "United States"
           ]
          ],
          [
           198,
           []
          ],
          [
           103,
           []
          ],
          [
           262,
           [
            "Australia"
           ]
          ],
          [
           80,
           [
            "Japan"
           ]
          ],
          [
           546,
           [
            "Italy"
           ]
          ],
          [
           78,
           [
            "Maine",
            "United States"
           ]
          ],
          [
           300,
           [
            "New Jersey",
            "United States"
           ]
          ],
          [
           293,
           [
            "Paris",
            "France"
           ]
          ],
          [
           548,
           [
            "Eastbank",
            "Portland",
            "Oregon United States"
           ]
          ],
          [
           87,
           [
            "Davis",
            "California",
            "United States"
           ]
          ],
          [
           90,
           [
            "Canada"
           ]
          ],
          [
           374,
           [
            "McKinley",
            "Canton",
            "Ohio",
            "United States"
           ]
          ],
          [
           643,
           [
            "England United Kingdom"
           ]
          ],
          [
           117,
           [
            "Portland",
            "Oregon",
            "United States"
           ]
          ],
          [
           62,
           [
            "Avenue",
            "New York",
            "New York United States"
           ]
          ],
          [
           110,
           [
            "Australia"
           ]
          ],
          [
           108,
           [
            "San Francisco",
            "California"
           ]
          ],
          [
           75,
           [
            "Spain"
           ]
          ],
          [
           116,
           [
            "England United Kingdom"
           ]
          ],
          [
           173,
           [
            "North Carolina",
            "United States"
           ]
          ],
          [
           133,
           []
          ],
          [
           204,
           [
            "California",
            "United States"
           ]
          ],
          [
           165,
           [
            "Los Angeles",
            "California",
            "United States"
           ]
          ],
          [
           107,
           [
            "New Hampshire",
            "United States"
           ]
          ],
          [
           421,
           [
            "California",
            "United States"
           ]
          ],
          [
           110,
           [
            "University",
            "Wisconsin United States"
           ]
          ],
          [
           88,
           []
          ],
          [
           295,
           [
            "Poland"
           ]
          ],
          [
           207,
           [
            "Illinois",
            "United States"
           ]
          ]
         ],
         "hovertemplate": "<b>%{hovertext}</b><br><br>placeAlt=%{lat}<br>placeLong=%{lon}<br>numPeopleVisited=%{customdata[0]}<br>placeAddress=%{customdata[1]}<extra></extra>",
         "hovertext": [
          "R1 Nuclear Reactor",
          "The National Museum of Nuclear Science & History",
          "Ukrainian National Chernobyl Museum",
          "Oak Ridge \"The Secret City\"",
          "Titan Missile Museum",
          "Electric Ladyland: The Museum of Fluorescent Art",
          "Berlin Botanical Garden",
          "Museum of the Weird",
          "Museum of Pop Culture",
          "The Museum of Interesting Things",
          "International Cryptozoology Museum",
          "Wagner Free Institute",
          "Camera Obscura & World of Illusions",
          "Great Train Story Diorama",
          "Museum of Communism",
          "Clock of the Long Now: Prototype 1",
          "Rooftop Terrace at the National Museum of Scotland",
          "The Museum of Holography",
          "Dinosaur Kingdom II",
          "Hunterian Museum",
          "Holographic Studios Inc.",
          "Long Now Orrery",
          "Musée des Arts et Métiers",
          "Robot Hall of Fame",
          "National Museum of Funeral History",
          "Musée Curie",
          "Horniman Museum and Gardens",
          "Center for PostNatural History",
          "Flushing Meadows-Corona Park",
          "Albertine",
          "The Grand Kugel ",
          "Darwin Centre Spirit Collection",
          "Central Railroad of New Jersey Terminal",
          "Harvard Museum of Natural History",
          "Whirligig Park (Formerly Acid Park)",
          "Museum of Quackery and Medical Frauds",
          "Hachiko",
          "The World's Columbian Exhibition of 1893",
          "Great Train Story Diorama",
          "Museum of Communism",
          "Clock of the Long Now: Prototype 1",
          "Rooftop Terrace at the National Museum of Scotland",
          "The Museum of Holography",
          "Dinosaur Kingdom II",
          "Bigfoot Discovery Museum",
          "Hidden Elves at the Denver Museum of Nature and Science",
          "Salina Turda",
          "Medici Hall of Maps (Sala delle Carte Geografiche) ",
          "The DNA Discovery Center",
          "Le Musee des Moulages",
          "Dittrick Medical Museum",
          "Swannanoa Palace",
          "World's Largest Air-Insulated Van de Graaff Generator",
          "Roanoke Pinball Museum",
          "The Monroe Moosnick Medical and Science Museum",
          "Mat Bevel's Museum of Kinetic Art & Surrealistic Pop Science Theater",
          "Remains of Dolly the Sheep",
          "The Anatomical Machines of Cappella Sansevero",
          "P.T. Barnum Museum",
          "Kan'ei-ji Temple",
          " Prehistoric Trackways National Monument",
          "Science History Institute",
          "The Avrocar ",
          "Laurel Dinosaur Park",
          "Photo Antiquities Museum",
          "Aria Antiques",
          "Michael Faraday's Laboratory",
          "U-505",
          "Difference Engine #2",
          "Dunbar's Close",
          "Destination Mound Town (Hermann Park Train Tunnel)",
          "Cabinet of Joseph Bonnier de La Mosson",
          "Jadis",
          "Tesla's Wardenclyffe Laboratory",
          "Murals of Maxo Vanka",
          "Museum of the Eye",
          "Foucault Pendulum at the Franklin Institute",
          "University of Florence Museum of Pathological Anatomy",
          "Blaschka Glass Flowers",
          "Teylers Museum",
          "The Creation Museum",
          "International Women's Air & Space Museum",
          "Bishop Museum",
          "Grace Hopper's Bug",
          "Muzeum Alchymie (Alchemy Museum)",
          "Galápagos Tortoise Skeleton",
          "Manchester Museum",
          "Bradbury Science Museum",
          "Josephinum Medical Museum",
          "Kunstkammer Wien",
          "Mount Wilson Observatory",
          "La Specola Zoological Museum",
          "Museo Subacuático de Arte",
          "Wunderkammer",
          "Intermediatheque",
          "Ospedale degli Innocenti (Hospital of the Innocents)",
          "The Wilhelm Reich Museum",
          "Morris Museum",
          "Musée de la Chasse et de la Nature (Museum of Hunting and Nature)",
          "USS Blueback",
          "Bohart Museum of Entomology",
          "McPherson and Rutherford Physics Collections",
          "McKinley Presidential Library & Museum",
          "Oxford Museum of Natural History",
          "The Faux Museum",
          "Modern Love Club",
          "Museum of Human Disease",
          "Monarch the Bear",
          "Javier Puerta Museum of Anatomy",
          "The Clockmakers' Museum",
          "Moogseum",
          "Medical Museion",
          "The Museum of Western Film History",
          "Old Trapper's Lodge Statues",
          "Libby Museum",
          "Computer History Museum",
          "L.R. Ingersoll Physics Museum",
          "Tesla's Birthplace Museum",
          "Collegium Maius",
          "Lizzadro Museum of Lapidary Art"
         ],
         "lat": [
          59.35,
          35.0661,
          50.4663,
          36.0089,
          31.9029,
          52.3756,
          52.4586,
          30.267,
          47.6216,
          40.7306,
          43.6514,
          39.9809,
          55.949,
          41.791,
          50.0879,
          51.4975,
          55.9472,
          41.8832,
          37.649,
          51.5154,
          40.7398,
          37.8066,
          48.8666,
          40.4457,
          29.9895,
          48.8442,
          51.441,
          40.4654,
          40.7462,
          40.7766,
          37.5611,
          51.4961,
          40.707,
          42.3789,
          35.7226,
          44.9435,
          35.718,
          41.7799,
          41.791,
          50.0879,
          51.4975,
          55.9472,
          41.8832,
          37.649,
          37.0415,
          39.7475,
          46.5877,
          43.7694,
          41.8662,
          48.8735,
          41.5059,
          38.0281,
          42.3676,
          37.2715,
          38.0527,
          32.1738,
          55.9475,
          40.8492,
          41.1757,
          35.7219,
          32.35,
          39.9487,
          39.7822,
          39.0708,
          40.4535,
          37.8011,
          51.5096,
          41.7906,
          51.4977,
          55.9517,
          29.717,
          48.8427,
          34.001,
          40.9475,
          40.477,
          37.8067,
          39.9582,
          43.8022,
          42.3784,
          52.3802,
          39.0861,
          41.5112,
          21.3329,
          38.8921,
          49.9498,
          34.0169,
          53.4664,
          35.8817,
          48.2192,
          48.2044,
          34.2264,
          43.7645,
          21.1984,
          -37.8133,
          35.6798,
          43.7763,
          44.9844,
          40.7959,
          48.8612,
          45.5079,
          38.5354,
          45.507,
          40.8064,
          51.7587,
          45.5244,
          40.7284,
          -33.9177,
          37.77,
          40.4447,
          51.4978,
          35.5973,
          55.6859,
          36.6008,
          34.1847,
          43.6142,
          37.4143,
          43.0739,
          44.56,
          50.0617,
          41.8419
         ],
         "legendgroup": "",
         "lon": [
          18.0675,
          -106.5338,
          30.5175,
          -84.2571,
          -110.9988,
          4.8807,
          13.3045,
          -97.7387,
          -122.3481,
          -73.993,
          -70.2906,
          -75.1624,
          -3.1957,
          -87.5829,
          14.4301,
          -0.1747,
          -3.1892,
          -87.6559,
          -79.5248,
          -0.1159,
          -73.9802,
          -122.4322,
          2.3555,
          -80.0181,
          -95.4306,
          2.3448,
          -0.061,
          -79.9446,
          -73.8445,
          -73.9637,
          -77.4658,
          -0.1764,
          -74.035,
          -71.1152,
          -77.9128,
          -93.0957,
          139.7788,
          -87.5806,
          -87.5829,
          14.4301,
          -0.1747,
          -3.1892,
          -87.6559,
          -79.5248,
          -122.0726,
          -104.9428,
          23.7877,
          11.256,
          -87.617,
          2.3698,
          -81.609,
          -78.8689,
          -71.0707,
          -79.9395,
          -84.494,
          -110.9259,
          -3.1898,
          14.2548,
          -73.1884,
          139.7747,
          -106.9,
          -75.1465,
          -84.1077,
          -76.8686,
          -79.9995,
          -122.4075,
          -0.1421,
          -87.5831,
          -0.1747,
          -3.1788,
          -95.3896,
          2.3559,
          -118.4824,
          -72.8981,
          -79.9696,
          -122.4198,
          -75.1731,
          11.2447,
          -71.1165,
          4.6404,
          -84.7835,
          -81.6898,
          -157.8706,
          -77.032,
          15.2686,
          -118.2888,
          -2.2342,
          -106.2985,
          16.3571,
          16.3607,
          -118.0662,
          11.247,
          -86.7161,
          144.9594,
          139.7645,
          11.2612,
          -70.7108,
          -74.4487,
          2.3583,
          -122.6669,
          -121.7527,
          -73.5787,
          -81.3925,
          -1.2555,
          -122.6726,
          -73.9843,
          151.2347,
          -122.4663,
          -3.7241,
          -0.1745,
          -82.5522,
          12.5919,
          -118.0617,
          -118.5862,
          -71.2597,
          -122.0769,
          -89.4055,
          15.3085,
          19.9339,
          -87.9502
         ],
         "marker": {
          "color": "fuchsia"
         },
         "mode": "markers",
         "name": "",
         "showlegend": false,
         "subplot": "mapbox",
         "type": "scattermapbox"
        }
       ],
       "layout": {
        "autosize": true,
        "legend": {
         "tracegroupgap": 0
        },
        "mapbox": {
         "bearing": 0,
         "center": {
          "lat": 53.74745690280628,
          "lon": 17.893060684317334
         },
         "domain": {
          "x": [
           0,
           1
          ],
          "y": [
           0,
           1
          ]
         },
         "pitch": 0,
         "style": "open-street-map",
         "zoom": 3.3513147070107316
        },
        "margin": {
         "b": 0,
         "l": 0,
         "r": 0,
         "t": 0
        },
        "template": {
         "data": {
          "bar": [
           {
            "error_x": {
             "color": "#2a3f5f"
            },
            "error_y": {
             "color": "#2a3f5f"
            },
            "marker": {
             "line": {
              "color": "#E5ECF6",
              "width": 0.5
             },
             "pattern": {
              "fillmode": "overlay",
              "size": 10,
              "solidity": 0.2
             }
            },
            "type": "bar"
           }
          ],
          "barpolar": [
           {
            "marker": {
             "line": {
              "color": "#E5ECF6",
              "width": 0.5
             },
             "pattern": {
              "fillmode": "overlay",
              "size": 10,
              "solidity": 0.2
             }
            },
            "type": "barpolar"
           }
          ],
          "carpet": [
           {
            "aaxis": {
             "endlinecolor": "#2a3f5f",
             "gridcolor": "white",
             "linecolor": "white",
             "minorgridcolor": "white",
             "startlinecolor": "#2a3f5f"
            },
            "baxis": {
             "endlinecolor": "#2a3f5f",
             "gridcolor": "white",
             "linecolor": "white",
             "minorgridcolor": "white",
             "startlinecolor": "#2a3f5f"
            },
            "type": "carpet"
           }
          ],
          "choropleth": [
           {
            "colorbar": {
             "outlinewidth": 0,
             "ticks": ""
            },
            "type": "choropleth"
           }
          ],
          "contour": [
           {
            "colorbar": {
             "outlinewidth": 0,
             "ticks": ""
            },
            "colorscale": [
             [
              0,
              "#0d0887"
             ],
             [
              0.1111111111111111,
              "#46039f"
             ],
             [
              0.2222222222222222,
              "#7201a8"
             ],
             [
              0.3333333333333333,
              "#9c179e"
             ],
             [
              0.4444444444444444,
              "#bd3786"
             ],
             [
              0.5555555555555556,
              "#d8576b"
             ],
             [
              0.6666666666666666,
              "#ed7953"
             ],
             [
              0.7777777777777778,
              "#fb9f3a"
             ],
             [
              0.8888888888888888,
              "#fdca26"
             ],
             [
              1,
              "#f0f921"
             ]
            ],
            "type": "contour"
           }
          ],
          "contourcarpet": [
           {
            "colorbar": {
             "outlinewidth": 0,
             "ticks": ""
            },
            "type": "contourcarpet"
           }
          ],
          "heatmap": [
           {
            "colorbar": {
             "outlinewidth": 0,
             "ticks": ""
            },
            "colorscale": [
             [
              0,
              "#0d0887"
             ],
             [
              0.1111111111111111,
              "#46039f"
             ],
             [
              0.2222222222222222,
              "#7201a8"
             ],
             [
              0.3333333333333333,
              "#9c179e"
             ],
             [
              0.4444444444444444,
              "#bd3786"
             ],
             [
              0.5555555555555556,
              "#d8576b"
             ],
             [
              0.6666666666666666,
              "#ed7953"
             ],
             [
              0.7777777777777778,
              "#fb9f3a"
             ],
             [
              0.8888888888888888,
              "#fdca26"
             ],
             [
              1,
              "#f0f921"
             ]
            ],
            "type": "heatmap"
           }
          ],
          "heatmapgl": [
           {
            "colorbar": {
             "outlinewidth": 0,
             "ticks": ""
            },
            "colorscale": [
             [
              0,
              "#0d0887"
             ],
             [
              0.1111111111111111,
              "#46039f"
             ],
             [
              0.2222222222222222,
              "#7201a8"
             ],
             [
              0.3333333333333333,
              "#9c179e"
             ],
             [
              0.4444444444444444,
              "#bd3786"
             ],
             [
              0.5555555555555556,
              "#d8576b"
             ],
             [
              0.6666666666666666,
              "#ed7953"
             ],
             [
              0.7777777777777778,
              "#fb9f3a"
             ],
             [
              0.8888888888888888,
              "#fdca26"
             ],
             [
              1,
              "#f0f921"
             ]
            ],
            "type": "heatmapgl"
           }
          ],
          "histogram": [
           {
            "marker": {
             "pattern": {
              "fillmode": "overlay",
              "size": 10,
              "solidity": 0.2
             }
            },
            "type": "histogram"
           }
          ],
          "histogram2d": [
           {
            "colorbar": {
             "outlinewidth": 0,
             "ticks": ""
            },
            "colorscale": [
             [
              0,
              "#0d0887"
             ],
             [
              0.1111111111111111,
              "#46039f"
             ],
             [
              0.2222222222222222,
              "#7201a8"
             ],
             [
              0.3333333333333333,
              "#9c179e"
             ],
             [
              0.4444444444444444,
              "#bd3786"
             ],
             [
              0.5555555555555556,
              "#d8576b"
             ],
             [
              0.6666666666666666,
              "#ed7953"
             ],
             [
              0.7777777777777778,
              "#fb9f3a"
             ],
             [
              0.8888888888888888,
              "#fdca26"
             ],
             [
              1,
              "#f0f921"
             ]
            ],
            "type": "histogram2d"
           }
          ],
          "histogram2dcontour": [
           {
            "colorbar": {
             "outlinewidth": 0,
             "ticks": ""
            },
            "colorscale": [
             [
              0,
              "#0d0887"
             ],
             [
              0.1111111111111111,
              "#46039f"
             ],
             [
              0.2222222222222222,
              "#7201a8"
             ],
             [
              0.3333333333333333,
              "#9c179e"
             ],
             [
              0.4444444444444444,
              "#bd3786"
             ],
             [
              0.5555555555555556,
              "#d8576b"
             ],
             [
              0.6666666666666666,
              "#ed7953"
             ],
             [
              0.7777777777777778,
              "#fb9f3a"
             ],
             [
              0.8888888888888888,
              "#fdca26"
             ],
             [
              1,
              "#f0f921"
             ]
            ],
            "type": "histogram2dcontour"
           }
          ],
          "mesh3d": [
           {
            "colorbar": {
             "outlinewidth": 0,
             "ticks": ""
            },
            "type": "mesh3d"
           }
          ],
          "parcoords": [
           {
            "line": {
             "colorbar": {
              "outlinewidth": 0,
              "ticks": ""
             }
            },
            "type": "parcoords"
           }
          ],
          "pie": [
           {
            "automargin": true,
            "type": "pie"
           }
          ],
          "scatter": [
           {
            "marker": {
             "colorbar": {
              "outlinewidth": 0,
              "ticks": ""
             }
            },
            "type": "scatter"
           }
          ],
          "scatter3d": [
           {
            "line": {
             "colorbar": {
              "outlinewidth": 0,
              "ticks": ""
             }
            },
            "marker": {
             "colorbar": {
              "outlinewidth": 0,
              "ticks": ""
             }
            },
            "type": "scatter3d"
           }
          ],
          "scattercarpet": [
           {
            "marker": {
             "colorbar": {
              "outlinewidth": 0,
              "ticks": ""
             }
            },
            "type": "scattercarpet"
           }
          ],
          "scattergeo": [
           {
            "marker": {
             "colorbar": {
              "outlinewidth": 0,
              "ticks": ""
             }
            },
            "type": "scattergeo"
           }
          ],
          "scattergl": [
           {
            "marker": {
             "colorbar": {
              "outlinewidth": 0,
              "ticks": ""
             }
            },
            "type": "scattergl"
           }
          ],
          "scattermapbox": [
           {
            "marker": {
             "colorbar": {
              "outlinewidth": 0,
              "ticks": ""
             }
            },
            "type": "scattermapbox"
           }
          ],
          "scatterpolar": [
           {
            "marker": {
             "colorbar": {
              "outlinewidth": 0,
              "ticks": ""
             }
            },
            "type": "scatterpolar"
           }
          ],
          "scatterpolargl": [
           {
            "marker": {
             "colorbar": {
              "outlinewidth": 0,
              "ticks": ""
             }
            },
            "type": "scatterpolargl"
           }
          ],
          "scatterternary": [
           {
            "marker": {
             "colorbar": {
              "outlinewidth": 0,
              "ticks": ""
             }
            },
            "type": "scatterternary"
           }
          ],
          "surface": [
           {
            "colorbar": {
             "outlinewidth": 0,
             "ticks": ""
            },
            "colorscale": [
             [
              0,
              "#0d0887"
             ],
             [
              0.1111111111111111,
              "#46039f"
             ],
             [
              0.2222222222222222,
              "#7201a8"
             ],
             [
              0.3333333333333333,
              "#9c179e"
             ],
             [
              0.4444444444444444,
              "#bd3786"
             ],
             [
              0.5555555555555556,
              "#d8576b"
             ],
             [
              0.6666666666666666,
              "#ed7953"
             ],
             [
              0.7777777777777778,
              "#fb9f3a"
             ],
             [
              0.8888888888888888,
              "#fdca26"
             ],
             [
              1,
              "#f0f921"
             ]
            ],
            "type": "surface"
           }
          ],
          "table": [
           {
            "cells": {
             "fill": {
              "color": "#EBF0F8"
             },
             "line": {
              "color": "white"
             }
            },
            "header": {
             "fill": {
              "color": "#C8D4E3"
             },
             "line": {
              "color": "white"
             }
            },
            "type": "table"
           }
          ]
         },
         "layout": {
          "annotationdefaults": {
           "arrowcolor": "#2a3f5f",
           "arrowhead": 0,
           "arrowwidth": 1
          },
          "autotypenumbers": "strict",
          "coloraxis": {
           "colorbar": {
            "outlinewidth": 0,
            "ticks": ""
           }
          },
          "colorscale": {
           "diverging": [
            [
             0,
             "#8e0152"
            ],
            [
             0.1,
             "#c51b7d"
            ],
            [
             0.2,
             "#de77ae"
            ],
            [
             0.3,
             "#f1b6da"
            ],
            [
             0.4,
             "#fde0ef"
            ],
            [
             0.5,
             "#f7f7f7"
            ],
            [
             0.6,
             "#e6f5d0"
            ],
            [
             0.7,
             "#b8e186"
            ],
            [
             0.8,
             "#7fbc41"
            ],
            [
             0.9,
             "#4d9221"
            ],
            [
             1,
             "#276419"
            ]
           ],
           "sequential": [
            [
             0,
             "#0d0887"
            ],
            [
             0.1111111111111111,
             "#46039f"
            ],
            [
             0.2222222222222222,
             "#7201a8"
            ],
            [
             0.3333333333333333,
             "#9c179e"
            ],
            [
             0.4444444444444444,
             "#bd3786"
            ],
            [
             0.5555555555555556,
             "#d8576b"
            ],
            [
             0.6666666666666666,
             "#ed7953"
            ],
            [
             0.7777777777777778,
             "#fb9f3a"
            ],
            [
             0.8888888888888888,
             "#fdca26"
            ],
            [
             1,
             "#f0f921"
            ]
           ],
           "sequentialminus": [
            [
             0,
             "#0d0887"
            ],
            [
             0.1111111111111111,
             "#46039f"
            ],
            [
             0.2222222222222222,
             "#7201a8"
            ],
            [
             0.3333333333333333,
             "#9c179e"
            ],
            [
             0.4444444444444444,
             "#bd3786"
            ],
            [
             0.5555555555555556,
             "#d8576b"
            ],
            [
             0.6666666666666666,
             "#ed7953"
            ],
            [
             0.7777777777777778,
             "#fb9f3a"
            ],
            [
             0.8888888888888888,
             "#fdca26"
            ],
            [
             1,
             "#f0f921"
            ]
           ]
          },
          "colorway": [
           "#636efa",
           "#EF553B",
           "#00cc96",
           "#ab63fa",
           "#FFA15A",
           "#19d3f3",
           "#FF6692",
           "#B6E880",
           "#FF97FF",
           "#FECB52"
          ],
          "font": {
           "color": "#2a3f5f"
          },
          "geo": {
           "bgcolor": "white",
           "lakecolor": "white",
           "landcolor": "#E5ECF6",
           "showlakes": true,
           "showland": true,
           "subunitcolor": "white"
          },
          "hoverlabel": {
           "align": "left"
          },
          "hovermode": "closest",
          "mapbox": {
           "style": "light"
          },
          "paper_bgcolor": "white",
          "plot_bgcolor": "#E5ECF6",
          "polar": {
           "angularaxis": {
            "gridcolor": "white",
            "linecolor": "white",
            "ticks": ""
           },
           "bgcolor": "#E5ECF6",
           "radialaxis": {
            "gridcolor": "white",
            "linecolor": "white",
            "ticks": ""
           }
          },
          "scene": {
           "xaxis": {
            "backgroundcolor": "#E5ECF6",
            "gridcolor": "white",
            "gridwidth": 2,
            "linecolor": "white",
            "showbackground": true,
            "ticks": "",
            "zerolinecolor": "white"
           },
           "yaxis": {
            "backgroundcolor": "#E5ECF6",
            "gridcolor": "white",
            "gridwidth": 2,
            "linecolor": "white",
            "showbackground": true,
            "ticks": "",
            "zerolinecolor": "white"
           },
           "zaxis": {
            "backgroundcolor": "#E5ECF6",
            "gridcolor": "white",
            "gridwidth": 2,
            "linecolor": "white",
            "showbackground": true,
            "ticks": "",
            "zerolinecolor": "white"
           }
          },
          "shapedefaults": {
           "line": {
            "color": "#2a3f5f"
           }
          },
          "ternary": {
           "aaxis": {
            "gridcolor": "white",
            "linecolor": "white",
            "ticks": ""
           },
           "baxis": {
            "gridcolor": "white",
            "linecolor": "white",
            "ticks": ""
           },
           "bgcolor": "#E5ECF6",
           "caxis": {
            "gridcolor": "white",
            "linecolor": "white",
            "ticks": ""
           }
          },
          "title": {
           "x": 0.05
          },
          "xaxis": {
           "automargin": true,
           "gridcolor": "white",
           "linecolor": "white",
           "ticks": "",
           "title": {
            "standoff": 15
           },
           "zerolinecolor": "white",
           "zerolinewidth": 2
          },
          "yaxis": {
           "automargin": true,
           "gridcolor": "white",
           "linecolor": "white",
           "ticks": "",
           "title": {
            "standoff": 15
           },
           "zerolinecolor": "white",
           "zerolinewidth": 2
          }
         }
        }
       }
      },
      "image/png": "[encoded data removed]",
      "text/html": [
       "<div>                            <div id=\"ddd5dd84-126a-4867-9c43-d5b563ac6b34\" class=\"plotly-graph-div\" style=\"height:300px; width:100%;\"></div>            <script type=\"text/javascript\">                require([\"plotly\"], function(Plotly) {                    window.PLOTLYENV=window.PLOTLYENV || {};                                    if (document.getElementById(\"ddd5dd84-126a-4867-9c43-d5b563ac6b34\")) {                    Plotly.newPlot(                        \"ddd5dd84-126a-4867-9c43-d5b563ac6b34\",                        [{\"customdata\":[[150,[\"Stockholm\",\"Sweden\"]],[615,[\"New Mexico\",\"United States\"]],[252,[\"Ukraine\"]],[579,[\"Oak Ridge\",\"Tennessee\",\"United States\"]],[612,[\"Green Valley\",\"Arizona\"]],[545,[\"Amsterdam\",\"TC Netherlands\"]],[754,[\"Berlin\",\"Germany\"]],[1013,[\"Austin\",\"Texas\",\"United States\"]],[4617,[\"North Seattle\",\"Washington\",\"United States\"]],[225,[\"New York\",\"New York United States\"]],[842,[\"Maine\",\"United States\"]],[505,[\"West Montgomery Avenue Philadelphia\",\"Pennsylvania\",\"United States\"]],[1367,[\"Scotland\",\"United Kingdom\"]],[1120,[\"Illinois United States\"]],[738,[]],[235,[\"London\",\"England\",\"United Kingdom\"]],[733,[\"Chambers St Edinburgh\",\"Scotland\",\"United Kingdom\"]],[168,[\"Illinois\",\"United States\"]],[289,[\"Virginia United States\"]],[905,[\"England\"]],[235,[\"New York\",\"New York\",\"United States\"]],[454,[\"San Francisco\",\"California\",\"United States\"]],[688,[\"Paris\",\"France\"]],[500,[\"Pittsburgh\",\"Pennsylvania\",\"United States\"]],[516,[\"Houston\",\"Texas\",\"United States\"]],[191,[\"Paris\",\"France\"]],[743,[\"England\"]],[253,[\"Pennsylvania\",\"United States\"]],[1373,[\"New York\",\"United States\"]],[315,[\"New York\",\"New York\",\"United States\"]],[788,[\"Virginia\",\"United States\"]],[379,[\"London\",\"England\",\"United Kingdom\"]],[463,[\"Park Jersey City\",\"New Jersey\",\"United States\"]],[1004,[\"Massachusetts\",\"United States\"]],[473,[\"North Carolina\",\"United States\"]],[371,[\"Minnesota\"]],[1444,[\"Tokyo\",\"Japan\"]],[782,[\"Chicago\",\"Illinois\",\"United States\"]],[1120,[\"Illinois United States\"]],[738,[]],[235,[\"London\",\"England\",\"United Kingdom\"]],[733,[\"Chambers St Edinburgh\",\"Scotland\",\"United Kingdom\"]],[168,[\"Illinois\",\"United States\"]],[289,[\"Virginia United States\"]],[349,[\"California\",\"United States\"]],[647,[\"Colorado\",\"Denver\",\"Colorado United States\"]],[375,[]],[598,[\"Signoria\",\"Florence\",\"Italy\"]],[763,[\"Illinois\",\"United States\"]],[130,[\"France\"]],[256,[\"Cleveland\",\"Ohio\",\"United States\"]],[248,[\"Virginia\",\"United States\"]],[1225,[\"Massachusetts United States\"]],[232,[\"Virginia United States\"]],[114,[\"Lexington\",\"Kentucky\",\"United States\"]],[128,[\"Arizona\",\"United States\"]],[961,[\"Scotland\",\"United Kingdom\"]],[345,[]],[243,[\"Connecticut\",\"United States\"]],[154,[\"Tokyo\",\"Japan\"]],[130,[\"New Mexico\",\"United States\"]],[338,[\"Pennsylvania\",\"United States\"]],[386,[\"Ohio\",\"United States\"]],[124,[\"Maryland\",\"United States\"]],[160,[\"Ohio\",\"Pennsylvania United States\"]],[113,[\"San Francisco\",\"California\",\"United States\"]],[134,[\"England United Kingdom\"]],[2059,[\"Chicago\",\"Illinois\",\"United States\"]],[385,[\"London\",\"England\",\"United Kingdom\"]],[256,[\"Scotland\",\"United Kingdom\"]],[220,[\"Houston\",\"Texas\",\"United States\"]],[114,[\"Paris\",\"France\"]],[152,[\"Santa Monica\",\"California\",\"United States\"]],[119,[\"New York\",\"Shoreham\",\"New York\",\"United States\"]],[156,[\"Maryland\",\"Pittsburgh\",\"Pennsylvania\",\"United States\"]],[75,[\"San Francisco\",\"California\",\"United States\"]],[1313,[\"Pennsylvania United States\"]],[84,[\"Italy\"]],[931,[\"Massachusetts\",\"United States\"]],[219,[\"Haarlem Netherlands\"]],[359,[\"Petersburg\",\"Kentucky\",\"United States\"]],[198,[\"Ohio United States\"]],[627,[\"Hawaii\",\"United States\"]],[110,[\"Washington\",\"United States\"]],[82,[]],[191,[\"Los Angeles County\",\"Los Angeles\",\"California United States\"]],[472,[\"England\",\"United Kingdom\"]],[367,[\"Los Alamos\",\"New Mexico United States\"]],[157,[\"Vienna\",\"Austria\"]],[578,[\"Austria\"]],[349,[\"California\",\"United States\"]],[198,[]],[103,[]],[262,[\"Australia\"]],[80,[\"Japan\"]],[546,[\"Italy\"]],[78,[\"Maine\",\"United States\"]],[300,[\"New Jersey\",\"United States\"]],[293,[\"Paris\",\"France\"]],[548,[\"Eastbank\",\"Portland\",\"Oregon United States\"]],[87,[\"Davis\",\"California\",\"United States\"]],[90,[\"Canada\"]],[374,[\"McKinley\",\"Canton\",\"Ohio\",\"United States\"]],[643,[\"England United Kingdom\"]],[117,[\"Portland\",\"Oregon\",\"United States\"]],[62,[\"Avenue\",\"New York\",\"New York United States\"]],[110,[\"Australia\"]],[108,[\"San Francisco\",\"California\"]],[75,[\"Spain\"]],[116,[\"England United Kingdom\"]],[173,[\"North Carolina\",\"United States\"]],[133,[]],[204,[\"California\",\"United States\"]],[165,[\"Los Angeles\",\"California\",\"United States\"]],[107,[\"New Hampshire\",\"United States\"]],[421,[\"California\",\"United States\"]],[110,[\"University\",\"Wisconsin United States\"]],[88,[]],[295,[\"Poland\"]],[207,[\"Illinois\",\"United States\"]]],\"hovertemplate\":\"<b>%{hovertext}</b><br><br>placeAlt=%{lat}<br>placeLong=%{lon}<br>numPeopleVisited=%{customdata[0]}<br>placeAddress=%{customdata[1]}<extra></extra>\",\"hovertext\":[\"R1 Nuclear Reactor\",\"The National Museum of Nuclear Science & History\",\"Ukrainian National Chernobyl Museum\",\"Oak Ridge \\\"The Secret City\\\"\",\"Titan Missile Museum\",\"Electric Ladyland: The Museum of Fluorescent Art\",\"Berlin Botanical Garden\",\"Museum of the Weird\",\"Museum of Pop Culture\",\"The Museum of Interesting Things\",\"International Cryptozoology Museum\",\"Wagner Free Institute\",\"Camera Obscura & World of Illusions\",\"Great Train Story Diorama\",\"Museum of Communism\",\"Clock of the Long Now: Prototype 1\",\"Rooftop Terrace at the National Museum of Scotland\",\"The Museum of Holography\",\"Dinosaur Kingdom II\",\"Hunterian Museum\",\"Holographic Studios Inc.\",\"Long Now Orrery\",\"Mus\\u00e9e des Arts et M\\u00e9tiers\",\"Robot Hall of Fame\",\"National Museum of Funeral History\",\"Mus\\u00e9e Curie\",\"Horniman Museum and Gardens\",\"Center for PostNatural History\",\"Flushing Meadows-Corona Park\",\"Albertine\",\"The Grand Kugel \",\"Darwin Centre Spirit Collection\",\"Central Railroad of New Jersey Terminal\",\"Harvard Museum of Natural History\",\"Whirligig Park (Formerly Acid Park)\",\"Museum of Quackery and Medical Frauds\",\"Hachiko\",\"The World's Columbian Exhibition of 1893\",\"Great Train Story Diorama\",\"Museum of Communism\",\"Clock of the Long Now: Prototype 1\",\"Rooftop Terrace at the National Museum of Scotland\",\"The Museum of Holography\",\"Dinosaur Kingdom II\",\"Bigfoot Discovery Museum\",\"Hidden Elves at the Denver Museum of Nature and Science\",\"Salina Turda\",\"Medici Hall of Maps (Sala delle Carte Geografiche) \",\"The DNA Discovery Center\",\"Le Musee des Moulages\",\"Dittrick Medical Museum\",\"Swannanoa Palace\",\"World's Largest Air-Insulated Van de Graaff Generator\",\"Roanoke Pinball Museum\",\"The Monroe Moosnick Medical and Science Museum\",\"Mat Bevel's Museum of Kinetic Art & Surrealistic Pop Science Theater\",\"Remains of Dolly the Sheep\",\"The Anatomical Machines of Cappella Sansevero\",\"P.T. Barnum Museum\",\"Kan'ei-ji Temple\",\" Prehistoric Trackways National Monument\",\"Science History Institute\",\"The Avrocar \",\"Laurel Dinosaur Park\",\"Photo Antiquities Museum\",\"Aria Antiques\",\"Michael Faraday's Laboratory\",\"U-505\",\"Difference Engine #2\",\"Dunbar's Close\",\"Destination Mound Town (Hermann Park Train Tunnel)\",\"Cabinet of Joseph Bonnier de La Mosson\",\"Jadis\",\"Tesla's Wardenclyffe Laboratory\",\"Murals of Maxo Vanka\",\"Museum of the Eye\",\"Foucault Pendulum at the Franklin Institute\",\"University of Florence Museum of Pathological Anatomy\",\"Blaschka Glass Flowers\",\"Teylers Museum\",\"The Creation Museum\",\"International Women's Air & Space Museum\",\"Bishop Museum\",\"Grace Hopper's Bug\",\"Muzeum Alchymie (Alchemy Museum)\",\"Gal\\u00e1pagos Tortoise Skeleton\",\"Manchester Museum\",\"Bradbury Science Museum\",\"Josephinum Medical Museum\",\"Kunstkammer Wien\",\"Mount Wilson Observatory\",\"La Specola Zoological Museum\",\"Museo Subacu\\u00e1tico de Arte\",\"Wunderkammer\",\"Intermediatheque\",\"Ospedale degli Innocenti (Hospital of the Innocents)\",\"The Wilhelm Reich Museum\",\"Morris Museum\",\"Mus\\u00e9e de la Chasse et de la Nature (Museum of Hunting and Nature)\",\"USS Blueback\",\"Bohart Museum of Entomology\",\"McPherson and Rutherford Physics Collections\",\"McKinley Presidential Library & Museum\",\"Oxford Museum of Natural History\",\"The Faux Museum\",\"Modern Love Club\",\"Museum of Human Disease\",\"Monarch the Bear\",\"Javier Puerta Museum of Anatomy\",\"The Clockmakers' Museum\",\"Moogseum\",\"Medical Museion\",\"The Museum of Western Film History\",\"Old Trapper's Lodge Statues\",\"Libby Museum\",\"Computer History Museum\",\"L.R. Ingersoll Physics Museum\",\"Tesla's Birthplace Museum\",\"Collegium Maius\",\"Lizzadro Museum of Lapidary Art\"],\"lat\":[59.35,35.0661,50.4663,36.0089,31.9029,52.3756,52.4586,30.267,47.6216,40.7306,43.6514,39.9809,55.949,41.791,50.0879,51.4975,55.9472,41.8832,37.649,51.5154,40.7398,37.8066,48.8666,40.4457,29.9895,48.8442,51.441,40.4654,40.7462,40.7766,37.5611,51.4961,40.707,42.3789,35.7226,44.9435,35.718,41.7799,41.791,50.0879,51.4975,55.9472,41.8832,37.649,37.0415,39.7475,46.5877,43.7694,41.8662,48.8735,41.5059,38.0281,42.3676,37.2715,38.0527,32.1738,55.9475,40.8492,41.1757,35.7219,32.35,39.9487,39.7822,39.0708,40.4535,37.8011,51.5096,41.7906,51.4977,55.9517,29.717,48.8427,34.001,40.9475,40.477,37.8067,39.9582,43.8022,42.3784,52.3802,39.0861,41.5112,21.3329,38.8921,49.9498,34.0169,53.4664,35.8817,48.2192,48.2044,34.2264,43.7645,21.1984,-37.8133,35.6798,43.7763,44.9844,40.7959,48.8612,45.5079,38.5354,45.507,40.8064,51.7587,45.5244,40.7284,-33.9177,37.77,40.4447,51.4978,35.5973,55.6859,36.6008,34.1847,43.6142,37.4143,43.0739,44.56,50.0617,41.8419],\"legendgroup\":\"\",\"lon\":[18.0675,-106.5338,30.5175,-84.2571,-110.9988,4.8807,13.3045,-97.7387,-122.3481,-73.993,-70.2906,-75.1624,-3.1957,-87.5829,14.4301,-0.1747,-3.1892,-87.6559,-79.5248,-0.1159,-73.9802,-122.4322,2.3555,-80.0181,-95.4306,2.3448,-0.061,-79.9446,-73.8445,-73.9637,-77.4658,-0.1764,-74.035,-71.1152,-77.9128,-93.0957,139.7788,-87.5806,-87.5829,14.4301,-0.1747,-3.1892,-87.6559,-79.5248,-122.0726,-104.9428,23.7877,11.256,-87.617,2.3698,-81.609,-78.8689,-71.0707,-79.9395,-84.494,-110.9259,-3.1898,14.2548,-73.1884,139.7747,-106.9,-75.1465,-84.1077,-76.8686,-79.9995,-122.4075,-0.1421,-87.5831,-0.1747,-3.1788,-95.3896,2.3559,-118.4824,-72.8981,-79.9696,-122.4198,-75.1731,11.2447,-71.1165,4.6404,-84.7835,-81.6898,-157.8706,-77.032,15.2686,-118.2888,-2.2342,-106.2985,16.3571,16.3607,-118.0662,11.247,-86.7161,144.9594,139.7645,11.2612,-70.7108,-74.4487,2.3583,-122.6669,-121.7527,-73.5787,-81.3925,-1.2555,-122.6726,-73.9843,151.2347,-122.4663,-3.7241,-0.1745,-82.5522,12.5919,-118.0617,-118.5862,-71.2597,-122.0769,-89.4055,15.3085,19.9339,-87.9502],\"marker\":{\"color\":\"fuchsia\"},\"mode\":\"markers\",\"name\":\"\",\"showlegend\":false,\"subplot\":\"mapbox\",\"type\":\"scattermapbox\"}],                        {\"template\":{\"data\":{\"bar\":[{\"error_x\":{\"color\":\"#2a3f5f\"},\"error_y\":{\"color\":\"#2a3f5f\"},\"marker\":{\"line\":{\"color\":\"#E5ECF6\",\"width\":0.5},\"pattern\":{\"fillmode\":\"overlay\",\"size\":10,\"solidity\":0.2}},\"type\":\"bar\"}],\"barpolar\":[{\"marker\":{\"line\":{\"color\":\"#E5ECF6\",\"width\":0.5},\"pattern\":{\"fillmode\":\"overlay\",\"size\":10,\"solidity\":0.2}},\"type\":\"barpolar\"}],\"carpet\":[{\"aaxis\":{\"endlinecolor\":\"#2a3f5f\",\"gridcolor\":\"white\",\"linecolor\":\"white\",\"minorgridcolor\":\"white\",\"startlinecolor\":\"#2a3f5f\"},\"baxis\":{\"endlinecolor\":\"#2a3f5f\",\"gridcolor\":\"white\",\"linecolor\":\"white\",\"minorgridcolor\":\"white\",\"startlinecolor\":\"#2a3f5f\"},\"type\":\"carpet\"}],\"choropleth\":[{\"colorbar\":{\"outlinewidth\":0,\"ticks\":\"\"},\"type\":\"choropleth\"}],\"contour\":[{\"colorbar\":{\"outlinewidth\":0,\"ticks\":\"\"},\"colorscale\":[[0.0,\"#0d0887\"],[0.1111111111111111,\"#46039f\"],[0.2222222222222222,\"#7201a8\"],[0.3333333333333333,\"#9c179e\"],[0.4444444444444444,\"#bd3786\"],[0.5555555555555556,\"#d8576b\"],[0.6666666666666666,\"#ed7953\"],[0.7777777777777778,\"#fb9f3a\"],[0.8888888888888888,\"#fdca26\"],[1.0,\"#f0f921\"]],\"type\":\"contour\"}],\"contourcarpet\":[{\"colorbar\":{\"outlinewidth\":0,\"ticks\":\"\"},\"type\":\"contourcarpet\"}],\"heatmap\":[{\"colorbar\":{\"outlinewidth\":0,\"ticks\":\"\"},\"colorscale\":[[0.0,\"#0d0887\"],[0.1111111111111111,\"#46039f\"],[0.2222222222222222,\"#7201a8\"],[0.3333333333333333,\"#9c179e\"],[0.4444444444444444,\"#bd3786\"],[0.5555555555555556,\"#d8576b\"],[0.6666666666666666,\"#ed7953\"],[0.7777777777777778,\"#fb9f3a\"],[0.8888888888888888,\"#fdca26\"],[1.0,\"#f0f921\"]],\"type\":\"heatmap\"}],\"heatmapgl\":[{\"colorbar\":{\"outlinewidth\":0,\"ticks\":\"\"},\"colorscale\":[[0.0,\"#0d0887\"],[0.1111111111111111,\"#46039f\"],[0.2222222222222222,\"#7201a8\"],[0.3333333333333333,\"#9c179e\"],[0.4444444444444444,\"#bd3786\"],[0.5555555555555556,\"#d8576b\"],[0.6666666666666666,\"#ed7953\"],[0.7777777777777778,\"#fb9f3a\"],[0.8888888888888888,\"#fdca26\"],[1.0,\"#f0f921\"]],\"type\":\"heatmapgl\"}],\"histogram\":[{\"marker\":{\"pattern\":{\"fillmode\":\"overlay\",\"size\":10,\"solidity\":0.2}},\"type\":\"histogram\"}],\"histogram2d\":[{\"colorbar\":{\"outlinewidth\":0,\"ticks\":\"\"},\"colorscale\":[[0.0,\"#0d0887\"],[0.1111111111111111,\"#46039f\"],[0.2222222222222222,\"#7201a8\"],[0.3333333333333333,\"#9c179e\"],[0.4444444444444444,\"#bd3786\"],[0.5555555555555556,\"#d8576b\"],[0.6666666666666666,\"#ed7953\"],[0.7777777777777778,\"#fb9f3a\"],[0.8888888888888888,\"#fdca26\"],[1.0,\"#f0f921\"]],\"type\":\"histogram2d\"}],\"histogram2dcontour\":[{\"colorbar\":{\"outlinewidth\":0,\"ticks\":\"\"},\"colorscale\":[[0.0,\"#0d0887\"],[0.1111111111111111,\"#46039f\"],[0.2222222222222222,\"#7201a8\"],[0.3333333333333333,\"#9c179e\"],[0.4444444444444444,\"#bd3786\"],[0.5555555555555556,\"#d8576b\"],[0.6666666666666666,\"#ed7953\"],[0.7777777777777778,\"#fb9f3a\"],[0.8888888888888888,\"#fdca26\"],[1.0,\"#f0f921\"]],\"type\":\"histogram2dcontour\"}],\"mesh3d\":[{\"colorbar\":{\"outlinewidth\":0,\"ticks\":\"\"},\"type\":\"mesh3d\"}],\"parcoords\":[{\"line\":{\"colorbar\":{\"outlinewidth\":0,\"ticks\":\"\"}},\"type\":\"parcoords\"}],\"pie\":[{\"automargin\":true,\"type\":\"pie\"}],\"scatter\":[{\"marker\":{\"colorbar\":{\"outlinewidth\":0,\"ticks\":\"\"}},\"type\":\"scatter\"}],\"scatter3d\":[{\"line\":{\"colorbar\":{\"outlinewidth\":0,\"ticks\":\"\"}},\"marker\":{\"colorbar\":{\"outlinewidth\":0,\"ticks\":\"\"}},\"type\":\"scatter3d\"}],\"scattercarpet\":[{\"marker\":{\"colorbar\":{\"outlinewidth\":0,\"ticks\":\"\"}},\"type\":\"scattercarpet\"}],\"scattergeo\":[{\"marker\":{\"colorbar\":{\"outlinewidth\":0,\"ticks\":\"\"}},\"type\":\"scattergeo\"}],\"scattergl\":[{\"marker\":{\"colorbar\":{\"outlinewidth\":0,\"ticks\":\"\"}},\"type\":\"scattergl\"}],\"scattermapbox\":[{\"marker\":{\"colorbar\":{\"outlinewidth\":0,\"ticks\":\"\"}},\"type\":\"scattermapbox\"}],\"scatterpolar\":[{\"marker\":{\"colorbar\":{\"outlinewidth\":0,\"ticks\":\"\"}},\"type\":\"scatterpolar\"}],\"scatterpolargl\":[{\"marker\":{\"colorbar\":{\"outlinewidth\":0,\"ticks\":\"\"}},\"type\":\"scatterpolargl\"}],\"scatterternary\":[{\"marker\":{\"colorbar\":{\"outlinewidth\":0,\"ticks\":\"\"}},\"type\":\"scatterternary\"}],\"surface\":[{\"colorbar\":{\"outlinewidth\":0,\"ticks\":\"\"},\"colorscale\":[[0.0,\"#0d0887\"],[0.1111111111111111,\"#46039f\"],[0.2222222222222222,\"#7201a8\"],[0.3333333333333333,\"#9c179e\"],[0.4444444444444444,\"#bd3786\"],[0.5555555555555556,\"#d8576b\"],[0.6666666666666666,\"#ed7953\"],[0.7777777777777778,\"#fb9f3a\"],[0.8888888888888888,\"#fdca26\"],[1.0,\"#f0f921\"]],\"type\":\"surface\"}],\"table\":[{\"cells\":{\"fill\":{\"color\":\"#EBF0F8\"},\"line\":{\"color\":\"white\"}},\"header\":{\"fill\":{\"color\":\"#C8D4E3\"},\"line\":{\"color\":\"white\"}},\"type\":\"table\"}]},\"layout\":{\"annotationdefaults\":{\"arrowcolor\":\"#2a3f5f\",\"arrowhead\":0,\"arrowwidth\":1},\"autotypenumbers\":\"strict\",\"coloraxis\":{\"colorbar\":{\"outlinewidth\":0,\"ticks\":\"\"}},\"colorscale\":{\"diverging\":[[0,\"#8e0152\"],[0.1,\"#c51b7d\"],[0.2,\"#de77ae\"],[0.3,\"#f1b6da\"],[0.4,\"#fde0ef\"],[0.5,\"#f7f7f7\"],[0.6,\"#e6f5d0\"],[0.7,\"#b8e186\"],[0.8,\"#7fbc41\"],[0.9,\"#4d9221\"],[1,\"#276419\"]],\"sequential\":[[0.0,\"#0d0887\"],[0.1111111111111111,\"#46039f\"],[0.2222222222222222,\"#7201a8\"],[0.3333333333333333,\"#9c179e\"],[0.4444444444444444,\"#bd3786\"],[0.5555555555555556,\"#d8576b\"],[0.6666666666666666,\"#ed7953\"],[0.7777777777777778,\"#fb9f3a\"],[0.8888888888888888,\"#fdca26\"],[1.0,\"#f0f921\"]],\"sequentialminus\":[[0.0,\"#0d0887\"],[0.1111111111111111,\"#46039f\"],[0.2222222222222222,\"#7201a8\"],[0.3333333333333333,\"#9c179e\"],[0.4444444444444444,\"#bd3786\"],[0.5555555555555556,\"#d8576b\"],[0.6666666666666666,\"#ed7953\"],[0.7777777777777778,\"#fb9f3a\"],[0.8888888888888888,\"#fdca26\"],[1.0,\"#f0f921\"]]},\"colorway\":[\"#636efa\",\"#EF553B\",\"#00cc96\",\"#ab63fa\",\"#FFA15A\",\"#19d3f3\",\"#FF6692\",\"#B6E880\",\"#FF97FF\",\"#FECB52\"],\"font\":{\"color\":\"#2a3f5f\"},\"geo\":{\"bgcolor\":\"white\",\"lakecolor\":\"white\",\"landcolor\":\"#E5ECF6\",\"showlakes\":true,\"showland\":true,\"subunitcolor\":\"white\"},\"hoverlabel\":{\"align\":\"left\"},\"hovermode\":\"closest\",\"mapbox\":{\"style\":\"light\"},\"paper_bgcolor\":\"white\",\"plot_bgcolor\":\"#E5ECF6\",\"polar\":{\"angularaxis\":{\"gridcolor\":\"white\",\"linecolor\":\"white\",\"ticks\":\"\"},\"bgcolor\":\"#E5ECF6\",\"radialaxis\":{\"gridcolor\":\"white\",\"linecolor\":\"white\",\"ticks\":\"\"}},\"scene\":{\"xaxis\":{\"backgroundcolor\":\"#E5ECF6\",\"gridcolor\":\"white\",\"gridwidth\":2,\"linecolor\":\"white\",\"showbackground\":true,\"ticks\":\"\",\"zerolinecolor\":\"white\"},\"yaxis\":{\"backgroundcolor\":\"#E5ECF6\",\"gridcolor\":\"white\",\"gridwidth\":2,\"linecolor\":\"white\",\"showbackground\":true,\"ticks\":\"\",\"zerolinecolor\":\"white\"},\"zaxis\":{\"backgroundcolor\":\"#E5ECF6\",\"gridcolor\":\"white\",\"gridwidth\":2,\"linecolor\":\"white\",\"showbackground\":true,\"ticks\":\"\",\"zerolinecolor\":\"white\"}},\"shapedefaults\":{\"line\":{\"color\":\"#2a3f5f\"}},\"ternary\":{\"aaxis\":{\"gridcolor\":\"white\",\"linecolor\":\"white\",\"ticks\":\"\"},\"baxis\":{\"gridcolor\":\"white\",\"linecolor\":\"white\",\"ticks\":\"\"},\"bgcolor\":\"#E5ECF6\",\"caxis\":{\"gridcolor\":\"white\",\"linecolor\":\"white\",\"ticks\":\"\"}},\"title\":{\"x\":0.05},\"xaxis\":{\"automargin\":true,\"gridcolor\":\"white\",\"linecolor\":\"white\",\"ticks\":\"\",\"title\":{\"standoff\":15},\"zerolinecolor\":\"white\",\"zerolinewidth\":2},\"yaxis\":{\"automargin\":true,\"gridcolor\":\"white\",\"linecolor\":\"white\",\"ticks\":\"\",\"title\":{\"standoff\":15},\"zerolinecolor\":\"white\",\"zerolinewidth\":2}}},\"mapbox\":{\"domain\":{\"x\":[0.0,1.0],\"y\":[0.0,1.0]},\"center\":{\"lat\":41.248025833333365,\"lon\":-49.14235083333333},\"zoom\":3,\"style\":\"open-street-map\"},\"legend\":{\"tracegroupgap\":0},\"margin\":{\"t\":0,\"r\":0,\"l\":0,\"b\":0},\"height\":300},                        {\"responsive\": true}                    ).then(function(){\n",
       "                            \n",
       "var gd = document.getElementById('ddd5dd84-126a-4867-9c43-d5b563ac6b34');\n",
       "var x = new MutationObserver(function (mutations, observer) {{\n",
       "        var display = window.getComputedStyle(gd).display;\n",
       "        if (!display || display === 'none') {{\n",
       "            console.log([gd, 'removed!']);\n",
       "            Plotly.purge(gd);\n",
       "            observer.disconnect();\n",
       "        }}\n",
       "}});\n",
       "\n",
       "// Listen for the removal of the full notebook cells\n",
       "var notebookContainer = gd.closest('#notebook-container');\n",
       "if (notebookContainer) {{\n",
       "    x.observe(notebookContainer, {childList: true});\n",
       "}}\n",
       "\n",
       "// Listen for the clearing of the current output cell\n",
       "var outputEl = gd.closest('.output');\n",
       "if (outputEl) {{\n",
       "    x.observe(outputEl, {childList: true});\n",
       "}}\n",
       "\n",
       "                        })                };                });            </script>        </div>"
      ]
     },
     "metadata": {},
     "output_type": "display_data"
    }
   ],
   "source": [
    "import pandas as pd\n",
    "import plotly.express as px\n",
    "\n",
    "fig = px.scatter_mapbox(resultQuery, lat=\"placeAlt\", lon=\"placeLong\", hover_name=\"placeName\", hover_data=[\"numPeopleVisited\", \"placeAddress\"],\n",
    "                        color_discrete_sequence=[\"fuchsia\"], zoom=3, height=300)\n",
    "fig.update_layout(mapbox_style=\"open-street-map\")\n",
    "fig.update_layout(margin={\"r\":0,\"t\":0,\"l\":0,\"b\":0})\n",
    "fig.show()"
   ]
  },
  {
   "cell_type": "markdown",
   "metadata": {},
   "source": [
    "# **5. BONUS: More complex search engine**"
   ]
  },
  {
   "cell_type": "markdown",
   "metadata": {},
   "source": [
    "The idea, is to let the user choose a number from 1 to 5 to specify one of the points 1-5. When he prints 0 the query is finished. He can't choose the same number twice. The result of the query is updated time to time as soon as the user gives a new specific."
   ]
  },
  {
   "cell_type": "markdown",
   "metadata": {},
   "source": [
    "First of all, let's start with the preparation of the dataset for this new query and with the definition of the functions useful for this question.<br>\n",
    "So, we are going to stem all the columns that we have to analyze (except for the ``placeEditors``)"
   ]
  },
  {
   "cell_type": "markdown",
   "metadata": {},
   "source": [
    "The inverted Index for the ``placeDesc`` is already prepared. Let's create the inverted indeces also for ``placeName`` and ``placeAddress``."
   ]
  },
  {
   "cell_type": "code",
   "execution_count": 35,
   "metadata": {},
   "outputs": [],
   "source": [
    "def create_dictio_and_invIdx(words):\n",
    "    dictio = {}\n",
    "    item_id = 1\n",
    "    for word in words:\n",
    "        dictio[word] = item_id\n",
    "        item_id += 1\n",
    "        \n",
    "    inverted_idx = {}\n",
    "    for word, item_id in dictio.items():\n",
    "        inverted_idx[item_id] = list(queryData_5[queryData_5.placeName.apply(lambda row: word in row)].index)\n",
    "    \n",
    "    return (dictio, inverted_idx)"
   ]
  },
  {
   "cell_type": "code",
   "execution_count": 36,
   "metadata": {
    "tags": []
   },
   "outputs": [],
   "source": [
    "#preparation of the dataset\n",
    "\n",
    "#take only the columns of interest\n",
    "queryData_5 = queryDataCopy[['placeName', 'placeTags', 'wordsInDocs', 'placeAddress', 'numPeopleVisited',\n",
    "                           'placeEditors','placeRelatedLists', 'placeURL']]\n",
    "\n",
    "#replace eventual NaN values with the empty string\n",
    "queryData_5 = queryData_5.fillna('')\n",
    "\n",
    "#replace these columns with their stemmed values\n",
    "columns_to_stem = ['placeTags', 'placeRelatedLists', 'placeName', 'placeAddress']\n",
    "\n",
    "for col in columns_to_stem:\n",
    "    stemmed = []\n",
    "    for i in queryData_5[col]:\n",
    "        queryDataStr = ''.join(c for c in i if c not in string.punctuation)\n",
    "        queryDataProcess = preProcess(queryDataStr)\n",
    "        stemmed.append(queryDataProcess)\n",
    "    queryData_5[col] = stemmed\n",
    "    if col=='placeName':\n",
    "        sumListWords = list(set(functools.reduce(lambda x, y: x + y,stemmed)))\n",
    "        name_dictionary, name_inv_idx = create_dictio_and_invIdx(sumListWords)\n",
    "\n",
    "        # Create a file named vocabulary, with json format, that maps each word to an integer (term_id).\n",
    "        with open ('vocabulary_name.json', 'w',encoding = 'utf-8') as j:\n",
    "            j.write(json.dumps(name_dictionary))\n",
    "\n",
    "        # storing inverted_idx in a separate file\n",
    "        with open ('invertedIdx_name.json', 'w',encoding = 'utf-8') as j:\n",
    "            j.write(json.dumps(name_inv_idx))\n",
    "            \n",
    "    if col=='placeAddress':\n",
    "        sumListWords = list(set(functools.reduce(lambda x, y: x + y,stemmed)))\n",
    "        address_dictionary, address_inv_idx = create_dictio_and_invIdx(sumListWords)\n",
    "\n",
    "        # Create a file named vocabulary, with json format, that maps each word to an integer (term_id).\n",
    "        with open ('vocabulary_address.json', 'w',encoding = 'utf-8') as j:\n",
    "            j.write(json.dumps(address_dictionary))\n",
    "\n",
    "        # storing inverted_idx in a separate file\n",
    "        with open ('invertedIdx_address.json', 'w',encoding = 'utf-8') as j:\n",
    "            j.write(json.dumps(address_inv_idx))"
   ]
  },
  {
   "cell_type": "code",
   "execution_count": 123,
   "metadata": {},
   "outputs": [],
   "source": [
    "import json\n",
    "#retrieve vocabulary and inverted index\n",
    "with open('vocabulary_name.json', 'r',encoding = 'utf-8') as f:\n",
    "    name_dictionary = json.load(f)\n",
    "with open('invertedIdx_name.json', 'r',encoding = 'utf-8') as f2:\n",
    "    name_inv_idx = json.load(f2)\n",
    "    \n",
    "with open('vocabulary_address.json', 'r',encoding = 'utf-8') as f:\n",
    "    address_dictionary = json.load(f)\n",
    "with open('invertedIdx_address.json', 'r',encoding = 'utf-8') as f2:\n",
    "    address_inv_idx = json.load(f2)"
   ]
  },
  {
   "cell_type": "markdown",
   "metadata": {},
   "source": [
    "For the point 1, let's define a new Search Engine that will retrieve only the rows that satisfy all the specifics."
   ]
  },
  {
   "cell_type": "code",
   "execution_count": 43,
   "metadata": {},
   "outputs": [],
   "source": [
    "def SearchEngine_Bonus(name, desc, address, dataframe):\n",
    "\n",
    "    # Stem the words of the query\n",
    "    stemName = set(preProcess(name))\n",
    "    stemDesc = set(preProcess(desc))\n",
    "    stemAddr = set(preProcess(address))\n",
    "\n",
    "    # Find the description Ids of the queryString(documents that contain the queryString)\n",
    "    results_desc = [set(inverted_idx[item]) for item in [wordDict[word] for word in stemDesc]]\n",
    "    descId = functools.reduce(lambda x,y: x.intersection(y), results_desc) #Set of ids\n",
    "    \n",
    "    #Find the names Ids of the query string\n",
    "    results_name = [set(name_inv_idx[item]) for item in [name_dictionary[word] for word in stemName]]\n",
    "    nameId = functools.reduce(lambda x,y: x.intersection(y), results_name)\n",
    "    \n",
    "    #Find the address Ids of the query string\n",
    "    results_address = [set(address_inv_idx[item]) for item in [address_dictionary[word] for word in stemAddr]]\n",
    "    addressId = functools.reduce(lambda x,y: x.intersection(y), results_address)\n",
    "    \n",
    "    set_id = nameId.intersection(descId.intersection(addressId))\n",
    "    queryInfo = dataframe.loc[set_id]\n",
    "  \n",
    "    return queryInfo"
   ]
  },
  {
   "cell_type": "markdown",
   "metadata": {},
   "source": [
    "For the other points we can simply define some filters"
   ]
  },
  {
   "cell_type": "code",
   "execution_count": 44,
   "metadata": {},
   "outputs": [],
   "source": [
    "def filter_usernames(users, dataframe):\n",
    "    return dataframe[set(users).issubset(set(dataframe.placeEditors))]\n",
    "\n",
    "def filter_tags(tags, dataframe):\n",
    "    stem = preProcess(tags)\n",
    "    return dataframe[set(stem).issubset(set(dataframe.placeTags))]\n",
    "\n",
    "def filter_people(lowerbound, upperbound, dataframe):\n",
    "    return dataframe[(dataframe.numPeopleVisited > int(lowerbound)) & (dataframe.numPeopleVisited < int(upperbound))]\n",
    "\n",
    "def filter_list(lists, dataframe):\n",
    "    stem = preProcess(lists)\n",
    "    return dataframe[set(stem).issubset(set(dataframe.placeRelatedLists))]\n",
    "        "
   ]
  },
  {
   "cell_type": "code",
   "execution_count": 58,
   "metadata": {},
   "outputs": [
    {
     "name": "stdin",
     "output_type": "stream",
     "text": [
      "Hi user, please insert a number from 1 to 5. Enter 0 if you want to quit.\n",
      "Choose 1 to specify the name of the place, the description and the adddress; all separated by a comma.\n",
      "Choose 2 to specify the usernames to retrieve only the posts where these users contribuited to.\n",
      "Choose 3 to specify a list of tags to retrieve only the places that are tagged.\n",
      "Choose 4 to filter the output in terms of the number of people who have already been there.\n",
      "Choose 5 to filter the output in base of which lists it is present into.\n",
      " 4\n",
      "Enter the upperbound and the lowerbound. 700,600\n",
      "Hi user, please insert a number from 1 to 5. Enter 0 if you want to quit.\n",
      "Choose 1 to specify the name of the place, the description and the adddress; all separated by a comma.\n",
      "Choose 2 to specify the usernames to retrieve only the posts where these users contribuited to.\n",
      "Choose 3 to specify a list of tags to retrieve only the places that are tagged.\n",
      "Choose 4 to filter the output in terms of the number of people who have already been there.\n",
      "Choose 5 to filter the output in base of which lists it is present into.\n",
      " 0\n"
     ]
    }
   ],
   "source": [
    "questions = [1,2,3,4,5]\n",
    "\n",
    "text = 'Hi user, please insert a number from 1 to 5. Enter 0 if you want to quit.\\n'\\\n",
    "+ 'Choose 1 to specify the name of the place, the description and the adddress; all separated by a comma.\\n'\\\n",
    "+ 'Choose 2 to specify the usernames to retrieve only the posts where these users contribuited to.\\n'\\\n",
    "+ 'Choose 3 to specify a list of tags to retrieve only the places that are tagged.\\n'\\\n",
    "+ 'Choose 4 to filter the output in terms of the number of people who have already been there.\\n'\\\n",
    "+ 'Choose 5 to filter the output in base of which lists it is present into.\\n'\\\n",
    "\n",
    "val = int(input(text))\n",
    "result = queryData_5\n",
    "\n",
    "while (val != 0):\n",
    "    if len(questions)==0:\n",
    "        break\n",
    "    if val==1 and val in questions:\n",
    "        query = input('Enter the name, the description and the address.')\n",
    "        questions.remove(val)\n",
    "        name, desc, address = query.split(',')\n",
    "        result = SearchEngine_Bonus(name, desc, address, result)\n",
    "    elif val==2 and val in questions:\n",
    "        query = input('Enter the usernames.')\n",
    "        questions.remove(val)\n",
    "        users = query.split(',')\n",
    "        result = filter_usernames(users, result)\n",
    "    elif val==3 and val in questions:\n",
    "        query = input('Enter the tags.')\n",
    "        questions.remove(val)\n",
    "        result = filter_tags(query, result)\n",
    "    elif val==4 and val in questions:\n",
    "        query = input('Enter the upperbound and the lowerbound.')\n",
    "        questions.remove(val)\n",
    "        up, low = query.split(',')\n",
    "        result = filter_people(low, up, result)\n",
    "    elif val==5 and val in questions:\n",
    "        query = input('Enter the list names.')\n",
    "        questions.remove(val)\n",
    "        result = filter_list(query, result)\n",
    "    val = int(input(text))"
   ]
  },
  {
   "cell_type": "code",
   "execution_count": 59,
   "metadata": {},
   "outputs": [
    {
     "data": {
      "text/html": [
       "<div>\n",
       "<style scoped>\n",
       "    .dataframe tbody tr th:only-of-type {\n",
       "        vertical-align: middle;\n",
       "    }\n",
       "\n",
       "    .dataframe tbody tr th {\n",
       "        vertical-align: top;\n",
       "    }\n",
       "\n",
       "    .dataframe thead th {\n",
       "        text-align: right;\n",
       "    }\n",
       "</style>\n",
       "<table border=\"1\" class=\"dataframe\">\n",
       "  <thead>\n",
       "    <tr style=\"text-align: right;\">\n",
       "      <th></th>\n",
       "      <th>placeName</th>\n",
       "      <th>placeTags</th>\n",
       "      <th>wordsInDocs</th>\n",
       "      <th>placeAddress</th>\n",
       "      <th>numPeopleVisited</th>\n",
       "      <th>placeEditors</th>\n",
       "      <th>placeRelatedLists</th>\n",
       "      <th>placeURL</th>\n",
       "    </tr>\n",
       "  </thead>\n",
       "  <tbody>\n",
       "    <tr>\n",
       "      <th>7</th>\n",
       "      <td>[underground, tunnel, lo, angel]</td>\n",
       "      <td>[tunnel, subterranean, site, architectur, oddi...</td>\n",
       "      <td>[rest, countri, forc, go, dri, underneath, dow...</td>\n",
       "      <td>[320, w, templ, st, lo, angel, california, 900...</td>\n",
       "      <td>660</td>\n",
       "      <td>['Rachel', 'Avoiding Regret', 'jondi letnap', ...</td>\n",
       "      <td>[world, top, 100, wonder, 2018, lo, angel, top...</td>\n",
       "      <td>https://www.atlasobscura.com/places/leadenhall...</td>\n",
       "    </tr>\n",
       "    <tr>\n",
       "      <th>31</th>\n",
       "      <td>[mount, moriah, cemeteri]</td>\n",
       "      <td>[abandon, cemeteri, memento, mori, graveyard, ...</td>\n",
       "      <td>[southwest, philadelphia, abandon, mount, mori...</td>\n",
       "      <td>[6201, kingsess, ave, angora, philadelphia, pe...</td>\n",
       "      <td>661</td>\n",
       "      <td>['Luke J Spencer', 'designosophy', 'merlin1075...</td>\n",
       "      <td>[unit, state, abandon, place, world, top, 100,...</td>\n",
       "      <td>https://www.atlasobscura.com/places/catacombes...</td>\n",
       "    </tr>\n",
       "    <tr>\n",
       "      <th>46</th>\n",
       "      <td>[abandon, jazzland]</td>\n",
       "      <td>[abandon, amus, park, amus, park, shop, abando...</td>\n",
       "      <td>[august, 29th, 2005, hurrican, katrina, struck...</td>\n",
       "      <td>[12310, six, flag, parkway, new, orlean, louis...</td>\n",
       "      <td>608</td>\n",
       "      <td>['Laetitia Barbier', 'peglegasus', 'Jazzland',...</td>\n",
       "      <td>[world, tour, abandon, amus, park, unit, state...</td>\n",
       "      <td>https://www.atlasobscura.com/places/wave-organ\\n</td>\n",
       "    </tr>\n",
       "    <tr>\n",
       "      <th>65</th>\n",
       "      <td>[museum, alchemist, magician, old, pragu]</td>\n",
       "      <td>[alchemi, magic, museum, collect, museum]</td>\n",
       "      <td>[pragu, citi, steep, histori, known, otherwis,...</td>\n",
       "      <td>[jánský, vršek, 8, pragu, czechia]</td>\n",
       "      <td>652</td>\n",
       "      <td>['EricGrundhauser', 'DaytonDUI', 'SamR', 'tomp...</td>\n",
       "      <td>[9, place, experi, wonder, alchemi, world, top...</td>\n",
       "      <td>https://www.atlasobscura.com/places/leadenhall...</td>\n",
       "    </tr>\n",
       "    <tr>\n",
       "      <th>67</th>\n",
       "      <td>[fairi, glen]</td>\n",
       "      <td>[fairi, fairytal, martian, landscap, landscap,...</td>\n",
       "      <td>[fairi, glen, one, isl, skye, ’, enchant, attr...</td>\n",
       "      <td>[a87, uig, isl, skye, scotland, unit, kingdom]</td>\n",
       "      <td>694</td>\n",
       "      <td>['Kerry Wolfe', 'Collector of Experiences', 'M...</td>\n",
       "      <td>[30, world, spectacular, spiral, world, top, 1...</td>\n",
       "      <td>https://www.atlasobscura.com/places/secret-til...</td>\n",
       "    </tr>\n",
       "    <tr>\n",
       "      <th>...</th>\n",
       "      <td>...</td>\n",
       "      <td>...</td>\n",
       "      <td>...</td>\n",
       "      <td>...</td>\n",
       "      <td>...</td>\n",
       "      <td>...</td>\n",
       "      <td>...</td>\n",
       "      <td>...</td>\n",
       "    </tr>\n",
       "    <tr>\n",
       "      <th>6807</th>\n",
       "      <td>[spout, horn]</td>\n",
       "      <td>[geyser, waterwork, geolog, odditi, natur, won...</td>\n",
       "      <td>[consid, phenomenon, natur, beauti, awe, huge,...</td>\n",
       "      <td>[4550, lawai, rd, koloa, hawaii, 96756, unit, ...</td>\n",
       "      <td>627</td>\n",
       "      <td>['btumpak', 'Rachel', 'Martin', 'superbliss3',...</td>\n",
       "      <td>[]</td>\n",
       "      <td>https://www.atlasobscura.com/places/evolution-...</td>\n",
       "    </tr>\n",
       "    <tr>\n",
       "      <th>6994</th>\n",
       "      <td>[arlington, hotel]</td>\n",
       "      <td>[hot, spring, place, stay, hotel, water, histori]</td>\n",
       "      <td>[natur, hot, spring, right, middl, resort, tow...</td>\n",
       "      <td>[hot, spring, arkansa, unit, state]</td>\n",
       "      <td>614</td>\n",
       "      <td>['seh256', 'viventlesfees', 'breaingram', 'kmo...</td>\n",
       "      <td>[ultim, guid, america, nation, park]</td>\n",
       "      <td>https://www.atlasobscura.com/places/wave-organ\\n</td>\n",
       "    </tr>\n",
       "    <tr>\n",
       "      <th>7023</th>\n",
       "      <td>[museumsquarti, passag]</td>\n",
       "      <td>[public, mural, art, museum, architectur]</td>\n",
       "      <td>[7th, district, vienna, museumsquarti, collect...</td>\n",
       "      <td>[museumsplatz, 1, vienna, 1070, austria]</td>\n",
       "      <td>639</td>\n",
       "      <td>['leiris', 'richgibson']</td>\n",
       "      <td>[]</td>\n",
       "      <td>https://www.atlasobscura.com/places/wave-organ\\n</td>\n",
       "    </tr>\n",
       "    <tr>\n",
       "      <th>7136</th>\n",
       "      <td>[plimoth, patuxet]</td>\n",
       "      <td>[coloni, america, coloni, nativ, american, mus...</td>\n",
       "      <td>[’, ever, curiou, life, realli, like, 17th-cen...</td>\n",
       "      <td>[137, warren, ave, plymouth, massachusett, 023...</td>\n",
       "      <td>610</td>\n",
       "      <td>['keslar', 'Isabella Connor', 'linkogecko']</td>\n",
       "      <td>[]</td>\n",
       "      <td>https://www.atlasobscura.com/places/wave-organ\\n</td>\n",
       "    </tr>\n",
       "    <tr>\n",
       "      <th>7156</th>\n",
       "      <td>[open]</td>\n",
       "      <td>[railroad, architectur, odditi, architectur]</td>\n",
       "      <td>[size, matter, realli, corner, gregson, peabod...</td>\n",
       "      <td>[gregson, street, peabodi, street, durham, nor...</td>\n",
       "      <td>678</td>\n",
       "      <td>['Beth', 'Martin', 'sylderon', 'WhiskeyBristle...</td>\n",
       "      <td>[definit, guid, world, ’, hidden, blunder]</td>\n",
       "      <td>https://www.atlasobscura.com/places/highgate-c...</td>\n",
       "    </tr>\n",
       "  </tbody>\n",
       "</table>\n",
       "<p>253 rows × 8 columns</p>\n",
       "</div>"
      ],
      "text/plain": [
       "                                      placeName  \\\n",
       "7              [underground, tunnel, lo, angel]   \n",
       "31                    [mount, moriah, cemeteri]   \n",
       "46                          [abandon, jazzland]   \n",
       "65    [museum, alchemist, magician, old, pragu]   \n",
       "67                                [fairi, glen]   \n",
       "...                                         ...   \n",
       "6807                              [spout, horn]   \n",
       "6994                         [arlington, hotel]   \n",
       "7023                    [museumsquarti, passag]   \n",
       "7136                         [plimoth, patuxet]   \n",
       "7156                                     [open]   \n",
       "\n",
       "                                              placeTags  \\\n",
       "7     [tunnel, subterranean, site, architectur, oddi...   \n",
       "31    [abandon, cemeteri, memento, mori, graveyard, ...   \n",
       "46    [abandon, amus, park, amus, park, shop, abando...   \n",
       "65            [alchemi, magic, museum, collect, museum]   \n",
       "67    [fairi, fairytal, martian, landscap, landscap,...   \n",
       "...                                                 ...   \n",
       "6807  [geyser, waterwork, geolog, odditi, natur, won...   \n",
       "6994  [hot, spring, place, stay, hotel, water, histori]   \n",
       "7023          [public, mural, art, museum, architectur]   \n",
       "7136  [coloni, america, coloni, nativ, american, mus...   \n",
       "7156       [railroad, architectur, odditi, architectur]   \n",
       "\n",
       "                                            wordsInDocs  \\\n",
       "7     [rest, countri, forc, go, dri, underneath, dow...   \n",
       "31    [southwest, philadelphia, abandon, mount, mori...   \n",
       "46    [august, 29th, 2005, hurrican, katrina, struck...   \n",
       "65    [pragu, citi, steep, histori, known, otherwis,...   \n",
       "67    [fairi, glen, one, isl, skye, ’, enchant, attr...   \n",
       "...                                                 ...   \n",
       "6807  [consid, phenomenon, natur, beauti, awe, huge,...   \n",
       "6994  [natur, hot, spring, right, middl, resort, tow...   \n",
       "7023  [7th, district, vienna, museumsquarti, collect...   \n",
       "7136  [’, ever, curiou, life, realli, like, 17th-cen...   \n",
       "7156  [size, matter, realli, corner, gregson, peabod...   \n",
       "\n",
       "                                           placeAddress  numPeopleVisited  \\\n",
       "7     [320, w, templ, st, lo, angel, california, 900...               660   \n",
       "31    [6201, kingsess, ave, angora, philadelphia, pe...               661   \n",
       "46    [12310, six, flag, parkway, new, orlean, louis...               608   \n",
       "65                   [jánský, vršek, 8, pragu, czechia]               652   \n",
       "67       [a87, uig, isl, skye, scotland, unit, kingdom]               694   \n",
       "...                                                 ...               ...   \n",
       "6807  [4550, lawai, rd, koloa, hawaii, 96756, unit, ...               627   \n",
       "6994                [hot, spring, arkansa, unit, state]               614   \n",
       "7023           [museumsplatz, 1, vienna, 1070, austria]               639   \n",
       "7136  [137, warren, ave, plymouth, massachusett, 023...               610   \n",
       "7156  [gregson, street, peabodi, street, durham, nor...               678   \n",
       "\n",
       "                                           placeEditors  \\\n",
       "7     ['Rachel', 'Avoiding Regret', 'jondi letnap', ...   \n",
       "31    ['Luke J Spencer', 'designosophy', 'merlin1075...   \n",
       "46    ['Laetitia Barbier', 'peglegasus', 'Jazzland',...   \n",
       "65    ['EricGrundhauser', 'DaytonDUI', 'SamR', 'tomp...   \n",
       "67    ['Kerry Wolfe', 'Collector of Experiences', 'M...   \n",
       "...                                                 ...   \n",
       "6807  ['btumpak', 'Rachel', 'Martin', 'superbliss3',...   \n",
       "6994  ['seh256', 'viventlesfees', 'breaingram', 'kmo...   \n",
       "7023                           ['leiris', 'richgibson']   \n",
       "7136        ['keslar', 'Isabella Connor', 'linkogecko']   \n",
       "7156  ['Beth', 'Martin', 'sylderon', 'WhiskeyBristle...   \n",
       "\n",
       "                                      placeRelatedLists  \\\n",
       "7     [world, top, 100, wonder, 2018, lo, angel, top...   \n",
       "31    [unit, state, abandon, place, world, top, 100,...   \n",
       "46    [world, tour, abandon, amus, park, unit, state...   \n",
       "65    [9, place, experi, wonder, alchemi, world, top...   \n",
       "67    [30, world, spectacular, spiral, world, top, 1...   \n",
       "...                                                 ...   \n",
       "6807                                                 []   \n",
       "6994               [ultim, guid, america, nation, park]   \n",
       "7023                                                 []   \n",
       "7136                                                 []   \n",
       "7156         [definit, guid, world, ’, hidden, blunder]   \n",
       "\n",
       "                                               placeURL  \n",
       "7     https://www.atlasobscura.com/places/leadenhall...  \n",
       "31    https://www.atlasobscura.com/places/catacombes...  \n",
       "46     https://www.atlasobscura.com/places/wave-organ\\n  \n",
       "65    https://www.atlasobscura.com/places/leadenhall...  \n",
       "67    https://www.atlasobscura.com/places/secret-til...  \n",
       "...                                                 ...  \n",
       "6807  https://www.atlasobscura.com/places/evolution-...  \n",
       "6994   https://www.atlasobscura.com/places/wave-organ\\n  \n",
       "7023   https://www.atlasobscura.com/places/wave-organ\\n  \n",
       "7136   https://www.atlasobscura.com/places/wave-organ\\n  \n",
       "7156  https://www.atlasobscura.com/places/highgate-c...  \n",
       "\n",
       "[253 rows x 8 columns]"
      ]
     },
     "execution_count": 59,
     "metadata": {},
     "output_type": "execute_result"
    }
   ],
   "source": [
    "#print the result of the query\n",
    "result"
   ]
  },
  {
   "cell_type": "markdown",
   "metadata": {},
   "source": [
    "# **6. Command line**"
   ]
  },
  {
   "cell_type": "markdown",
   "metadata": {},
   "source": [
    "It follows the code used in the command line question. In the Github repository you can find the .sh original runnable file."
   ]
  },
  {
   "cell_type": "raw",
   "metadata": {},
   "source": [
    "#!/bin/sh\n",
    "\n",
    "#code that iterates on all the country of interest and retrieves:\n",
    "#1: number of locations in that country\n",
    "#2: average number of tourists\n",
    "#3: total number of tourists that visited it\n",
    "\n",
    "#iterate on all the countries\n",
    "for country in \"Italy\" \"Spain\" \"France\" \"United.*States\"\n",
    "do\n",
    "    #take only the rows that have the country of interest in the address\n",
    "    #and save it in a temporary file\n",
    "    cut -f 4,9 combinedTsv.tsv | grep -E ${country} > tmp\n",
    "    \n",
    "    #count lines, sums all the number of tourists per location and find the average\n",
    "    count=$(wc -l tmp | egrep -o '[0-9]*')\n",
    "    sum=$(cut -f 1 tmp| awk '{s+=$1}END{print s}')\n",
    "    let \"avg=${sum}/${count}\"\n",
    "    \n",
    "    #print datas retrieved\n",
    "    echo \"Number of locations in ${country//\".*\"/ }: ${count}\"\n",
    "    \n",
    "    echo \"Average number of tourists in ${country//\".*\"/ }: ${avg}\"\n",
    "    \n",
    "    echo \"Total number of people that visited ${country//\".*\"/ }: ${sum}\"\n",
    "    \n",
    "    #delete temporary file\n",
    "    rm tmp\n",
    "done"
   ]
  },
  {
   "cell_type": "markdown",
   "metadata": {
    "id": "1d8LZ_0D1KYr"
   },
   "source": [
    "# **7. Theoretical question**"
   ]
  },
  {
   "cell_type": "markdown",
   "metadata": {
    "id": "Fdpnk9pU1iRQ"
   },
   "source": [
    "# **7.1)**"
   ]
  },
  {
   "cell_type": "code",
   "execution_count": 60,
   "metadata": {
    "id": "s32NesKq1VaJ"
   },
   "outputs": [],
   "source": [
    "import time"
   ]
  },
  {
   "cell_type": "code",
   "execution_count": 77,
   "metadata": {},
   "outputs": [],
   "source": [
    "with open(\"ApplicantsInfo.txt\", 'r') as f:\n",
    "    file = f.read()"
   ]
  },
  {
   "cell_type": "code",
   "execution_count": 78,
   "metadata": {
    "id": "SmWSRIjF2OZo"
   },
   "outputs": [],
   "source": [
    "N = file.split()[0]\n",
    "M = file.split()[1]\n",
    "studenti = file.split(\"\\n\")"
   ]
  },
  {
   "cell_type": "markdown",
   "metadata": {
    "id": "EXk2ys16xu-w"
   },
   "source": [
    "Let's compute the average of the grades and create a new list which contains name, surname, average grades for each student belonging to 'ApplicantsInfo.txt'."
   ]
  },
  {
   "cell_type": "code",
   "execution_count": 75,
   "metadata": {
    "id": "mlKAAdfH2OiN"
   },
   "outputs": [],
   "source": [
    "def primaFunzione(studenti):\n",
    "    new_list =[]\n",
    "    for i in range(1, int(N)+1):\n",
    "        arr = []\n",
    "        stud = studenti[i].split()\n",
    "        lista_voti = stud[2:]\n",
    "        arr.append(stud[0])\n",
    "        arr.append(stud[1])\n",
    "        media = myMedia(lista_voti)\n",
    "        arr.append(media)\n",
    "        new_list.append(arr)\n",
    "    return new_list\n",
    "    \n",
    "    \n",
    "def myMedia(lista):\n",
    "    count = 0\n",
    "    val = 0\n",
    "    for x in lista:\n",
    "        val += int(x)\n",
    "        count += 1\n",
    "    return round(val/count,2)\n",
    "\n",
    "lista = primaFunzione(studenti)"
   ]
  },
  {
   "cell_type": "markdown",
   "metadata": {
    "id": "mfA-XzBW4epR"
   },
   "source": [
    "What this function does is to take two names as input (that can be even surnames when two students have the same name), if the first is lower than the second one (alphabetically speaking) than the funcion will return 1, otherwise 0. So, if two students have the same average of the grades, if this function will return 1 means that the first student (name1) has to go before than the second student (name2) in the list sorted. "
   ]
  },
  {
   "cell_type": "code",
   "execution_count": 65,
   "metadata": {
    "id": "Yl59bAwv2Ook"
   },
   "outputs": [],
   "source": [
    "def sort_name_surname(name1,name2):\n",
    "    if name1<name2:\n",
    "        return 1\n",
    "    elif name1>name2:\n",
    "        return 0\n",
    "    elif name1 == name2:\n",
    "        return 0"
   ]
  },
  {
   "cell_type": "markdown",
   "metadata": {
    "id": "s9tsQuDF8UDj"
   },
   "source": [
    "**FIRST SORTING ALGORITHM (SORT1)**\n",
    "\n",
    "The following algorithm, called 'sort1' compares the first element with all the others at the first iteration and puts the largest in the head; at the second iteration compares the second element with all the others and puts the second largest in second position, etc. .. If two average marks are equal, then this algorithm sort the students by their name and possibly by surname (if they have average marks and the same name). So at the end of for loops we will have the list sorted."
   ]
  },
  {
   "cell_type": "code",
   "execution_count": 66,
   "metadata": {
    "id": "kgUOGrr62OrV"
   },
   "outputs": [],
   "source": [
    "# 1.\n",
    "# First type of sorting  \n",
    "def sort1(lista):\n",
    "    for j in range(len(lista)):\n",
    "        for k in range(j+1, len(lista)):\n",
    "            if lista[j][2] < lista[k][2]:\n",
    "                lista[j], lista[k] = lista[k], lista[j]\n",
    "            if lista[j][2] == lista[k][2]:\n",
    "                if lista[j][0]==lista[k][0]:\n",
    "                    count = sort_name_surname(lista[j][1],lista[k][1])\n",
    "                elif lista[j][0]!=lista[k][0]:\n",
    "                    count = sort_name_surname(lista[j][0],lista[k][0])\n",
    "                if count==0:\n",
    "                    lista[j], lista[k] = lista[k], lista[j]\n",
    "    return lista"
   ]
  },
  {
   "cell_type": "markdown",
   "metadata": {
    "id": "fUsj4AOO-Lgu"
   },
   "source": [
    "**SECOND SORTING ALGORITHM (MERGESORT)**\n",
    "\n",
    "Mergesort algorithm defines two functions: merge and mergesort.\n",
    "\n",
    "\n",
    "*   In the first we have to merge two ordered sequences.\n",
    "The main observation is that the minimum of the merged sequence is the smaller of the minimum of the two sequences. Therefore, two indexes are maintained which take into account the elements still to be merged and the one which indexes the smallest element is advanced. When one of the two subsequences is exhausted, then the remainder of the other is queued. The merge function uses an additional temporary list to do the merge, so at the end the data on the temporary list must be copied to the initial list.\n",
    "*  In the mergesort function we split the list step by step up to have a single element on which we can apply merge function."
   ]
  },
  {
   "cell_type": "code",
   "execution_count": 67,
   "metadata": {
    "id": "ApyfM8Ya2OvM"
   },
   "outputs": [],
   "source": [
    "# 2.\n",
    "# Second type of sorting\n",
    "def mergesort(lista, start = 0, end = None):\n",
    "    if end is None:\n",
    "        end = len(lista) - 1\n",
    "    if start >= end:\n",
    "        return\n",
    "    mid = (end + start)//2\n",
    "    mergesort(lista, start, mid)\n",
    "    mergesort(lista, mid + 1, end)\n",
    "    merge(lista, start, mid, end)\n",
    "    return lista\n",
    "\n",
    "def merge(lista,low, mid, high):\n",
    "    a = low\n",
    "    b = mid + 1\n",
    "    temp = []\n",
    "    #identify the smallest element step by step and add it to the list 'temp'.\n",
    "    while ((a<=mid) and (b<=high)):\n",
    "        if lista[a][2] > lista[b][2]:\n",
    "            temp.append(lista[a])\n",
    "            a += 1\n",
    "        elif lista[a][2] < lista[b][2]:\n",
    "            temp.append(lista[b])\n",
    "            b += 1\n",
    "        elif lista[a][2]==lista[b][2]:\n",
    "            if lista[a][0]==lista[b][0]:\n",
    "                count = sort_name_surname(lista[a][1],lista[b][1])\n",
    "            elif lista[a][0]!=lista[b][0]:\n",
    "                count = sort_name_surname(lista[a][0],lista[b][0])\n",
    "            if count==1:\n",
    "                temp.append(lista[a])\n",
    "                a+=1\n",
    "            elif count==0:\n",
    "                temp.append(lista[b])\n",
    "                b+=1       \n",
    "    #exactly one sequence is exhausted, we must add the other\n",
    "    if a<= mid:\n",
    "        residuo = range(a, mid+1)\n",
    "    else:\n",
    "        residuo = range(b, high+1)\n",
    "    for i in residuo:\n",
    "        temp.append(lista[i])\n",
    "    #we copy what we have into temp list, in the starting list 'lista'\n",
    "    for i in range(len(temp)):\n",
    "        lista[low+i] = temp[i]\n",
    "    return lista"
   ]
  },
  {
   "cell_type": "markdown",
   "metadata": {
    "id": "wCUIxMg3IUhL"
   },
   "source": [
    "**THIRD SORTING ALGORITHM (QUICKSORT)**\n",
    "\n",
    "Quicksort algorithm defines three functions: partition, quicksort and comparator.\n",
    "\n",
    "- in the partition function we choose random an element of the list that we will call pivot. Then, once we have positioned the pivot as the first element of the list, we scroll the list from the beginning to the center and from the end to the center and if in the first case we find an element smaller than the pivot, then we exchange it with an element larger than the pivot that we find by scrolling the list from the end to the center. This is repeated until the two counters that scroll through the list from the beginning to the center and from the end to the center meet. Then we also go to order the pivot that we had placed at the beginning of the list.\n",
    "- the comparator function takes two arguments as input and returns the larger of them if the arguments are numeric. If the two arguments are alphabetical, it returns the one that comes first in alphabetical order.\n",
    "- In the quicksort function we divide the list step by step and we apply the funciont partition every time.\n"
   ]
  },
  {
   "cell_type": "code",
   "execution_count": 68,
   "metadata": {
    "id": "44RzBTPaBnZO"
   },
   "outputs": [],
   "source": [
    "# 3.\n",
    "# Third type of sorting\n",
    "import random\n",
    "\n",
    "#returns 1 if pivot is smaller or equal, 0 if greater\n",
    "def comparator(element1, element2):\n",
    "    if element2[2]!=element1[2]: return element2[2]>element1[2]\n",
    "    if element2[0]!=element1[0]: return element2[0]<element1[0]\n",
    "    return element2[1]<element1[1]\n",
    "\n",
    "def quicksort(lista, start = 0, end = None):\n",
    "    if end is None:\n",
    "        end = len(lista) - 1\n",
    "    if start < end:\n",
    "        pivot_pos = partition(lista, start, end)\n",
    "        quicksort(lista, start, pivot_pos -1)\n",
    "        quicksort(lista, pivot_pos + 1, end)\n",
    "        return lista\n",
    "\n",
    "def partition(lista, start, end):\n",
    "    #chooses a random position for the pivot\n",
    "    pivot_pos = random.randint(start, end)\n",
    "    pivot = lista[pivot_pos]\n",
    "    #swap the pivot with the leading element\n",
    "    lista[start], lista[pivot_pos] = lista[pivot_pos], lista[start]\n",
    "    i = start + 1\n",
    "    j = end\n",
    "    #scan the list from the beginning (pivot excluded) towards the center and from the end towards the center\n",
    "    while i<j:\n",
    "        while i<j and comparator(pivot, lista[i]):\n",
    "            i += 1 \n",
    "        while i<j and not comparator(pivot, lista[j]):\n",
    "            j -= 1\n",
    "        if i<j:  #if it has found a pair to trade, he swaps it\n",
    "            lista[i], lista[j] = lista[j], lista[i]\n",
    "                    \n",
    "    #if i has straddled the large elements, then the last small element (to be swapped with the pivot) is in position i-1, otherwise it is in position i\n",
    "    if lista[i][2] <= pivot[2]:\n",
    "        i -= 1\n",
    "    lista[start], lista[i] = lista[i], lista[start]\n",
    "    return i"
   ]
  },
  {
   "cell_type": "markdown",
   "metadata": {
    "id": "Oh3YJoa3ISBj"
   },
   "source": [
    "Let's create a **RankingList.txt**"
   ]
  },
  {
   "cell_type": "code",
   "execution_count": 69,
   "metadata": {
    "id": "JDMbJCg1Ia42"
   },
   "outputs": [],
   "source": [
    "ranking = quicksort(lista)"
   ]
  },
  {
   "cell_type": "code",
   "execution_count": 70,
   "metadata": {
    "id": "fCJD_A_gIRGn"
   },
   "outputs": [],
   "source": [
    "final_ranking = open('RankingList.txt','w')\n",
    "final_ranking.write(str(ranking) + '\\n')\n",
    "final_ranking.close()"
   ]
  },
  {
   "cell_type": "markdown",
   "metadata": {
    "id": "3dsYBn16ga_i"
   },
   "source": [
    "# **7.2)**"
   ]
  },
  {
   "cell_type": "markdown",
   "metadata": {
    "id": "XoWyt90hgjFD"
   },
   "source": [
    "# **Sort1**"
   ]
  },
  {
   "cell_type": "markdown",
   "metadata": {
    "id": "VGevF1kfgmAf"
   },
   "source": [
    "Sort1 is an algorithm that works as follows:\n",
    "- at the first iteration it compares the first element with all the others in the list, at the second iteration it compares the second element with all the others in the list ecc...\n",
    "\n",
    "To do this, sort1 uses two for loops, so the **running time** is equal to $\\Theta(n ^ {2})$"
   ]
  },
  {
   "cell_type": "markdown",
   "metadata": {
    "id": "EdDU3aGjgmws"
   },
   "source": [
    "# **Mergesort**"
   ]
  },
  {
   "cell_type": "markdown",
   "metadata": {
    "id": "4VieOTNZgqVX"
   },
   "source": [
    "Mergesort is a comparison sorting algorithm that proceeds as follows:\n",
    "- divide the input into two parts\n",
    "- order each part individually\n",
    "- merge the two ordered sequences\n",
    "\n",
    "To solve the smaller parts, the same method is reused, and then a hierarchy of applications of the method is generated, nested within each other, on smaller and smaller input parts, up to parts so small that they can be processed directly. .\n",
    "\n",
    "### **Running time**\n",
    "In this algorithm T (n), i.e. the number of operations necessary to sort a list of n elements is equal to:\n",
    "T (n) = 2T (n / 2) + $\\Theta(n)$\n",
    "\n",
    "From here, we find that the **running time** is equal to theta $\\Theta(nlog(n))$"
   ]
  },
  {
   "cell_type": "markdown",
   "metadata": {
    "id": "ciHb67lig5Td"
   },
   "source": [
    "# **Quicksort**"
   ]
  },
  {
   "cell_type": "markdown",
   "metadata": {
    "id": "4iB4b7JGg7ul"
   },
   "source": [
    "Quicksort is a comparison sorting algorithm that proceeds as follows:\n",
    "- choose a random element of the list to be sorted (which we will call pivot for convenience). To avoid the worst case occurring, it is preferable to choose the pivot completely randomly among the items to be ordered.\n",
    "- permute the elements to be ordered in such a way that all the minor elements of the pivot are found before it, and all the major elements of the pivot are after it.\n",
    "- order the minor elements of the pivot\n",
    "- order the major elements of the pivot\n",
    "\n",
    "As in the case of mergesort, to sort the minor and major elements of the pivot, the Quicksort is reused again, and therefore a hierarchy of algorithm applications is generated nested one inside the other on smaller and smaller input parts, up to portions composed of a single element, which are obviously already ordered portions.\n",
    "\n",
    "### **Running time**\n",
    "The execution time of the Quicksort depends on how the partition method from time to time separates the portion to be sorted into two parts. Unlike the mergesort, the two portions can have different sizes. The partition method is executed on each portion to be sorted.\n",
    "\n",
    "To calculate the running time of the Quicksort, two cases must be distinguished:\n",
    "\n",
    "The **best case** occurs when each time the partition method is executed, the pivot is the element that in the sorted list is exactly in the middle of the list. In this case the **running time** is identical to that of the mergesort, equal to  $\\Theta(nlog(n))$\n",
    "\n",
    "The **worst case** occurs when in each execution of the partition method the minimum or maximum of the elements of the portion to be sorted is chosen as a pivot. In this case the **running time** is equal to  $\\Theta(n ^ {2})$"
   ]
  },
  {
   "cell_type": "markdown",
   "metadata": {
    "id": "Q-KOFSXPYUJn"
   },
   "source": [
    "# **7.3)**"
   ]
  },
  {
   "cell_type": "markdown",
   "metadata": {
    "id": "oVPAuxnfY_o2"
   },
   "source": [
    "**Sort1:**"
   ]
  },
  {
   "cell_type": "code",
   "execution_count": 71,
   "metadata": {
    "id": "eqVs-uhm2kvp"
   },
   "outputs": [
    {
     "name": "stdout",
     "output_type": "stream",
     "text": [
      "The time taken sorting the list with the sort1 algorithm is:  6.0 minutes and 42.00999999999999 seconds\n"
     ]
    }
   ],
   "source": [
    "import time\n",
    "start_time = time.process_time()\n",
    "sort1(lista)\n",
    "end_time = time.process_time()\n",
    "print('The time taken sorting the list with the sort1 algorithm is: ', round(end_time-start_time,2)//60, 'minutes and', round(end_time-start_time,2)%60, 'seconds')"
   ]
  },
  {
   "cell_type": "markdown",
   "metadata": {
    "id": "Y4NLl-l3ZFKc"
   },
   "source": [
    "**Mergesort:**"
   ]
  },
  {
   "cell_type": "code",
   "execution_count": 76,
   "metadata": {
    "colab": {
     "base_uri": "https://localhost:8080/",
     "height": 235
    },
    "id": "mZZEtd9w2oE-",
    "outputId": "0c30fef5-742e-4fc2-ec80-1b4ad78a7c76"
   },
   "outputs": [
    {
     "name": "stdout",
     "output_type": "stream",
     "text": [
      "The time taken sorting the list with the mergesort algorithm is:  0.99 seconds\n"
     ]
    }
   ],
   "source": [
    "start_time = time.process_time()\n",
    "mergesort(lista)\n",
    "end_time = time.process_time()\n",
    "print('The time taken sorting the list with the mergesort algorithm is: ', round(end_time-start_time,2), 'seconds')"
   ]
  },
  {
   "cell_type": "markdown",
   "metadata": {
    "id": "_2w2LA1NZIGm"
   },
   "source": [
    "**Quicksort:**"
   ]
  },
  {
   "cell_type": "code",
   "execution_count": 79,
   "metadata": {
    "id": "mNxh6uAB2oPN"
   },
   "outputs": [
    {
     "name": "stdout",
     "output_type": "stream",
     "text": [
      "The time taken sorting the list with the quicksort algorithm is:  0.58 seconds\n"
     ]
    }
   ],
   "source": [
    "start_time = time.process_time()\n",
    "quicksort(lista)\n",
    "end_time = time.process_time()\n",
    "print('The time taken sorting the list with the quicksort algorithm is: ', round(end_time-start_time,2), 'seconds')"
   ]
  },
  {
   "cell_type": "markdown",
   "metadata": {
    "id": "SxB19UydOZGq"
   },
   "source": [
    "# **7.4)**"
   ]
  },
  {
   "cell_type": "markdown",
   "metadata": {
    "id": "0Ambxjs8VMR2"
   },
   "source": [
    "To find the most optimal algorithm we look at the running time and the execution time of the algorithms. We immediately exclude the first sorting algorithm (sort1) because it has a running time of theta $\\Theta(n ^ {2})$. As for the other two, although both Mergesort and Quicksort have a running time of $\\Theta(nlog(n))$ and particularly the second in the worst case has a running time of $\\Theta(n ^ {2})$, I think **Quicksort is the best** of the three algorithms for the following reasons:\n",
    "- the worst case in Quicksort is very rare to occur\n",
    "- the execution time of Quicksort after multiple tests is less than that of Mergesort\n",
    "-in Quicksort the internal while loop compares different values with only one at each iteration (i.e. with the pivot which is fixed and does not change), while in the mergesort the while loop compares two different values at each iteration. For this reason, Quicksort performs half as many reads as Mergesort."
   ]
  },
  {
   "cell_type": "markdown",
   "metadata": {
    "id": "bWeg7yreveqT"
   },
   "source": [
    "# **7.5)**"
   ]
  },
  {
   "cell_type": "markdown",
   "metadata": {},
   "source": [
    "**Note**: These cells where run using a PySpark kernel. In the Github repository there is also the official script."
   ]
  },
  {
   "cell_type": "markdown",
   "metadata": {},
   "source": [
    "First thing first, let's read the file."
   ]
  },
  {
   "cell_type": "code",
   "execution_count": 42,
   "metadata": {
    "execution": {
     "iopub.execute_input": "2022-11-20T12:44:25.405100Z",
     "iopub.status.busy": "2022-11-20T12:44:25.404871Z",
     "iopub.status.idle": "2022-11-20T12:44:26.682033Z",
     "shell.execute_reply": "2022-11-20T12:44:26.681239Z",
     "shell.execute_reply.started": "2022-11-20T12:44:25.405075Z"
    },
    "tags": []
   },
   "outputs": [
    {
     "data": {
      "application/vnd.jupyter.widget-view+json": {
       "model_id": "7550a1e67fe44546ba09f6f231d55744",
       "version_major": 2,
       "version_minor": 0
      },
      "text/plain": [
       "VBox()"
      ]
     },
     "metadata": {},
     "output_type": "display_data"
    },
    {
     "data": {
      "application/vnd.jupyter.widget-view+json": {
       "model_id": "",
       "version_major": 2,
       "version_minor": 0
      },
      "text/plain": [
       "FloatProgress(value=0.0, bar_style='info', description='Progress:', layout=Layout(height='25px', width='50%'),…"
      ]
     },
     "metadata": {},
     "output_type": "display_data"
    }
   ],
   "source": [
    "students = sc.textFile('s3://adm22/ApplicantsInfo.txt')\n",
    "#extract first row\n",
    "drop = students.first()\n",
    "#drop first row\n",
    "students = students.filter(lambda row: row != drop)"
   ]
  },
  {
   "cell_type": "markdown",
   "metadata": {},
   "source": [
    "Now, let's define an useful function for the mapping part of the mapReduce approach. This function will calculate the mean of the grades for every student, and will return a tuple key-element, in which the key is the mean and the element the name."
   ]
  },
  {
   "cell_type": "code",
   "execution_count": 51,
   "metadata": {
    "execution": {
     "iopub.execute_input": "2022-11-20T13:05:52.356741Z",
     "iopub.status.busy": "2022-11-20T13:05:52.356497Z",
     "iopub.status.idle": "2022-11-20T13:05:52.409360Z",
     "shell.execute_reply": "2022-11-20T13:05:52.408710Z",
     "shell.execute_reply.started": "2022-11-20T13:05:52.356717Z"
    },
    "tags": []
   },
   "outputs": [
    {
     "data": {
      "application/vnd.jupyter.widget-view+json": {
       "model_id": "77c698e2edda4e8a9c31b89da4d1efc0",
       "version_major": 2,
       "version_minor": 0
      },
      "text/plain": [
       "VBox()"
      ]
     },
     "metadata": {},
     "output_type": "display_data"
    },
    {
     "data": {
      "application/vnd.jupyter.widget-view+json": {
       "model_id": "",
       "version_major": 2,
       "version_minor": 0
      },
      "text/plain": [
       "FloatProgress(value=0.0, bar_style='info', description='Progress:', layout=Layout(height='25px', width='50%'),…"
      ]
     },
     "metadata": {},
     "output_type": "display_data"
    }
   ],
   "source": [
    "def calculate_mean(row):\n",
    "    student = row.split()\n",
    "    grades = np.array(student[2:], dtype = np.int32)\n",
    "    mean = sum(grades)/len(grades)\n",
    "    #return (round(mean,2), (student[0], student[1]))\n",
    "    return [student[0], student[1], round(mean,2)]"
   ]
  },
  {
   "cell_type": "markdown",
   "metadata": {},
   "source": [
    "At this point, we can proceed with the mapReduce algorithm. "
   ]
  },
  {
   "cell_type": "code",
   "execution_count": null,
   "metadata": {
    "id": "TQhdAgg2VM3T"
   },
   "outputs": [],
   "source": [
    "students.map(lambda row: calculate_mean(row))\\\n",
    ".takeOrdered(50000, lambda x: (-x[2], x[0], x[1]))"
   ]
  }
 ],
 "metadata": {
  "accelerator": "TPU",
  "colab": {
   "collapsed_sections": [
    "1d8LZ_0D1KYr",
    "3dsYBn16ga_i",
    "4VieOTNZgqVX",
    "4iB4b7JGg7ul"
   ],
   "provenance": []
  },
  "gpuClass": "standard",
  "kernelspec": {
   "display_name": "Python 3 (ipykernel)",
   "language": "python",
   "name": "python3"
  },
  "language_info": {
   "codemirror_mode": {
    "name": "ipython",
    "version": 3
   },
   "file_extension": ".py",
   "mimetype": "text/x-python",
   "name": "python",
   "nbconvert_exporter": "python",
   "pygments_lexer": "ipython3",
   "version": "3.9.12"
  }
 },
 "nbformat": 4,
 "nbformat_minor": 4
}
